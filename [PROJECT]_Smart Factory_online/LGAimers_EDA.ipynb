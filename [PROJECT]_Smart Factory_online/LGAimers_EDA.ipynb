{
  "nbformat": 4,
  "nbformat_minor": 0,
  "metadata": {
    "colab": {
      "provenance": [],
      "toc_visible": true
    },
    "kernelspec": {
      "name": "python3",
      "display_name": "Python 3"
    },
    "language_info": {
      "name": "python"
    }
  },
  "cells": [
    {
      "cell_type": "markdown",
      "source": [
        "# 1.Data Load"
      ],
      "metadata": {
        "id": "g337vEGcQjmG"
      }
    },
    {
      "cell_type": "code",
      "execution_count": null,
      "metadata": {
        "id": "imBx1y4KQcOb"
      },
      "outputs": [],
      "source": [
        "import warnings\n",
        "warnings.filterwarnings('ignore')\n",
        "\n",
        "# 라이브러리\n",
        "\n",
        "import pandas as pd\n",
        "import numpy as np\n",
        "import seaborn as sns\n",
        "import matplotlib.pyplot as plt\n",
        "import random\n",
        "import os"
      ]
    },
    {
      "cell_type": "code",
      "source": [
        "class CFG:\n",
        "    SEED = 37\n",
        "    \n",
        "def seed_everything(seed):\n",
        "    random.seed(seed)\n",
        "    os.environ['PYTHONHASHSEED'] = str(seed)\n",
        "    np.random.seed(seed)\n",
        "seed_everything(37) # Seed 고정"
      ],
      "metadata": {
        "id": "jvRZxmPOQqIw"
      },
      "execution_count": null,
      "outputs": []
    },
    {
      "cell_type": "code",
      "source": [
        "# 구글드라이브 활용\n",
        "\n",
        "from google.colab import drive\n",
        "drive.mount('/content/drive')"
      ],
      "metadata": {
        "colab": {
          "base_uri": "https://localhost:8080/"
        },
        "id": "lBqvyQ5pQral",
        "outputId": "323a8e2f-c5c8-4326-c4c1-b9eae6ac7714"
      },
      "execution_count": null,
      "outputs": [
        {
          "output_type": "stream",
          "name": "stdout",
          "text": [
            "Mounted at /content/drive\n"
          ]
        }
      ]
    },
    {
      "cell_type": "code",
      "source": [
        "%cd /content/sample_data/"
      ],
      "metadata": {
        "colab": {
          "base_uri": "https://localhost:8080/"
        },
        "id": "xNXhyRC-QtoM",
        "outputId": "cb377828-acf4-4cdd-a9bb-70e5c24779c8"
      },
      "execution_count": null,
      "outputs": [
        {
          "output_type": "stream",
          "name": "stdout",
          "text": [
            "/content/sample_data\n"
          ]
        }
      ]
    },
    {
      "cell_type": "code",
      "source": [
        "!unzip -qq '/content/drive/MyDrive/project_study_KKUL/008_LGaimers/LG_DATA.zip'"
      ],
      "metadata": {
        "id": "ZHbJDH5CQvLj"
      },
      "execution_count": null,
      "outputs": []
    },
    {
      "cell_type": "code",
      "source": [
        "test = pd.read_csv('/content/sample_data/test.csv')\n",
        "train = pd.read_csv('/content/sample_data/train.csv')"
      ],
      "metadata": {
        "id": "qrJSA56UQwQ9"
      },
      "execution_count": null,
      "outputs": []
    },
    {
      "cell_type": "markdown",
      "source": [
        "# 2.EDA"
      ],
      "metadata": {
        "id": "KhqX5VApQ-GQ"
      }
    },
    {
      "cell_type": "markdown",
      "source": [
        "## 1) 전체 train data 중 적합, 부적합 (기준 미달, 초과) 알아보기"
      ],
      "metadata": {
        "id": "LAz0VKDxRMqK"
      }
    },
    {
      "cell_type": "code",
      "source": [
        "sns.countplot(x = 'Y_Class', data = train, palette = 'Set2')"
      ],
      "metadata": {
        "colab": {
          "base_uri": "https://localhost:8080/",
          "height": 299
        },
        "id": "xLekAoWRQ_Vp",
        "outputId": "8727a874-85be-4197-c705-0e68751d17dc"
      },
      "execution_count": null,
      "outputs": [
        {
          "output_type": "execute_result",
          "data": {
            "text/plain": [
              "<AxesSubplot:xlabel='Y_Class', ylabel='count'>"
            ]
          },
          "metadata": {},
          "execution_count": 12
        },
        {
          "output_type": "display_data",
          "data": {
            "text/plain": [
              "<Figure size 432x288 with 1 Axes>"
            ],
            "image/png": "[encoded data removed]"
          },
          "metadata": {
            "needs_background": "light"
          }
        }
      ]
    },
    {
      "cell_type": "markdown",
      "source": [
        "## 2) LINE"
      ],
      "metadata": {
        "id": "k9ek1zhVRUVe"
      }
    },
    {
      "cell_type": "markdown",
      "source": [
        "### (1) LINE 갯수 확인"
      ],
      "metadata": {
        "id": "SAPmsOR8R-5G"
      }
    },
    {
      "cell_type": "code",
      "source": [
        "# LINE 기준으로 정렬하여 순서 맞추기\n",
        "test = test.sort_values(by = 'LINE')\n",
        "train = train.sort_values(by = 'LINE')"
      ],
      "metadata": {
        "id": "SlzVmO9bSI-K"
      },
      "execution_count": null,
      "outputs": []
    },
    {
      "cell_type": "code",
      "source": [
        "fig = plt.figure(figsize = (15,5))\n",
        "ax1 = fig.add_subplot(1,2,1)\n",
        "ax2 = fig.add_subplot(1,2,2)\n",
        "\n",
        "### Train\n",
        "sns.countplot(x = 'LINE', data = train, palette = 'Set2', ax = ax1)\n",
        "\n",
        "### test\n",
        "sns.countplot(x = 'LINE', data = test, palette = 'Set2', ax = ax2)\n",
        "\n",
        "ax1.set_title('Train')\n",
        "ax2.set_title('Test')"
      ],
      "metadata": {
        "colab": {
          "base_uri": "https://localhost:8080/",
          "height": 369
        },
        "id": "bGnZAxIESFku",
        "outputId": "5cad0224-6670-4d87-fcad-3db0c186768d"
      },
      "execution_count": null,
      "outputs": [
        {
          "output_type": "execute_result",
          "data": {
            "text/plain": [
              "Text(0.5, 1.0, 'Test')"
            ]
          },
          "metadata": {},
          "execution_count": 20
        },
        {
          "output_type": "display_data",
          "data": {
            "text/plain": [
              "<Figure size 1080x360 with 2 Axes>"
            ],
            "image/png": "[encoded data removed]"
          },
          "metadata": {
            "needs_background": "light"
          }
        }
      ]
    },
    {
      "cell_type": "markdown",
      "source": [
        "### (2) LINE에 따른 Y_Class 확인"
      ],
      "metadata": {
        "id": "HKlMX-kIRvVo"
      }
    },
    {
      "cell_type": "code",
      "source": [
        "fig = plt.figure(figsize = (15,5))\n",
        "ax1 = fig.add_subplot(1,2,1)\n",
        "ax2 = fig.add_subplot(1,2,2)\n",
        "\n",
        "sns.countplot(x = 'Y_Class', hue = 'LINE', data = train, palette = 'Set2', ax = ax1)\n",
        "\n",
        "sns.countplot(x = 'LINE', hue = 'Y_Class', data = train, palette = 'Set2', ax = ax2)"
      ],
      "metadata": {
        "colab": {
          "base_uri": "https://localhost:8080/",
          "height": 354
        },
        "id": "9IyhKXMnRR6k",
        "outputId": "8881e37f-5513-4608-f637-748d2db3214f"
      },
      "execution_count": null,
      "outputs": [
        {
          "output_type": "execute_result",
          "data": {
            "text/plain": [
              "<AxesSubplot:xlabel='LINE', ylabel='count'>"
            ]
          },
          "metadata": {},
          "execution_count": 25
        },
        {
          "output_type": "display_data",
          "data": {
            "text/plain": [
              "<Figure size 1080x360 with 2 Axes>"
            ],
            "image/png": "[encoded data removed]"
          },
          "metadata": {
            "needs_background": "light"
          }
        }
      ]
    },
    {
      "cell_type": "markdown",
      "source": [
        "## 3) PRODUCT_CODE"
      ],
      "metadata": {
        "id": "wRzluwxCRa71"
      }
    },
    {
      "cell_type": "markdown",
      "source": [
        "### (1) PRODUCT_CODE 갯수 확인"
      ],
      "metadata": {
        "id": "i214uW6mSUwq"
      }
    },
    {
      "cell_type": "code",
      "source": [
        "# PRODUCT_CODE 기준으로 정렬하여 순서 맞추기\n",
        "test = test.sort_values(by = 'PRODUCT_CODE')\n",
        "train = train.sort_values(by = 'PRODUCT_CODE')"
      ],
      "metadata": {
        "id": "8wAzVGlLSZi6"
      },
      "execution_count": null,
      "outputs": []
    },
    {
      "cell_type": "code",
      "source": [
        "fig = plt.figure(figsize = (15,5))\n",
        "ax1 = fig.add_subplot(1,2,1)\n",
        "ax2 = fig.add_subplot(1,2,2)\n",
        "\n",
        "### Train\n",
        "sns.countplot(x = 'PRODUCT_CODE', data = train, palette = 'Set2', ax = ax1)\n",
        "\n",
        "### test\n",
        "sns.countplot(x = 'PRODUCT_CODE', data = test, palette = 'Set2', ax = ax2)\n",
        "\n",
        "ax1.set_title('Train')\n",
        "ax2.set_title('Test')"
      ],
      "metadata": {
        "colab": {
          "base_uri": "https://localhost:8080/",
          "height": 371
        },
        "id": "XkoIP3dVSgmY",
        "outputId": "6927c00f-b7b8-4e9f-e2dd-65d9f39c39cc"
      },
      "execution_count": null,
      "outputs": [
        {
          "output_type": "execute_result",
          "data": {
            "text/plain": [
              "Text(0.5, 1.0, 'Test')"
            ]
          },
          "metadata": {},
          "execution_count": 23
        },
        {
          "output_type": "display_data",
          "data": {
            "text/plain": [
              "<Figure size 1080x360 with 2 Axes>"
            ],
            "image/png": "[encoded data removed]"
          },
          "metadata": {
            "needs_background": "light"
          }
        }
      ]
    },
    {
      "cell_type": "markdown",
      "source": [
        "### (2) PRODUCT_CODE에 따른 Y_Class 확인"
      ],
      "metadata": {
        "id": "-yUwjw9bSiBo"
      }
    },
    {
      "cell_type": "code",
      "source": [
        "fig = plt.figure(figsize = (15,5))\n",
        "ax1 = fig.add_subplot(1,2,1)\n",
        "ax2 = fig.add_subplot(1,2,2)\n",
        "\n",
        "sns.countplot(x = 'Y_Class', hue = 'PRODUCT_CODE', data = train, palette = 'Set2', ax = ax1)\n",
        "\n",
        "sns.countplot(x = 'PRODUCT_CODE', hue = 'Y_Class', data = train, palette = 'Set2', ax = ax2)"
      ],
      "metadata": {
        "colab": {
          "base_uri": "https://localhost:8080/",
          "height": 355
        },
        "id": "Afqp1qfORYwp",
        "outputId": "8206304f-6883-40ed-a815-61a9b44f225f"
      },
      "execution_count": null,
      "outputs": [
        {
          "output_type": "execute_result",
          "data": {
            "text/plain": [
              "<AxesSubplot:xlabel='PRODUCT_CODE', ylabel='count'>"
            ]
          },
          "metadata": {},
          "execution_count": 24
        },
        {
          "output_type": "display_data",
          "data": {
            "text/plain": [
              "<Figure size 1080x360 with 2 Axes>"
            ],
            "image/png": "[encoded data removed]"
          },
          "metadata": {
            "needs_background": "light"
          }
        }
      ]
    },
    {
      "cell_type": "markdown",
      "source": [
        "## 4) Y_Quality, Y_Class"
      ],
      "metadata": {
        "id": "-68tzm6URhuv"
      }
    },
    {
      "cell_type": "code",
      "source": [
        "sns.boxplot(x = 'Y_Class', y = 'Y_Quality', data = train)"
      ],
      "metadata": {
        "colab": {
          "base_uri": "https://localhost:8080/",
          "height": 299
        },
        "id": "W7igLFnIRf_9",
        "outputId": "28bf225e-39cc-4ce9-9ccd-2294f92c2f33"
      },
      "execution_count": null,
      "outputs": [
        {
          "output_type": "execute_result",
          "data": {
            "text/plain": [
              "<AxesSubplot:xlabel='Y_Class', ylabel='Y_Quality'>"
            ]
          },
          "metadata": {},
          "execution_count": 17
        },
        {
          "output_type": "display_data",
          "data": {
            "text/plain": [
              "<Figure size 432x288 with 1 Axes>"
            ],
            "image/png": "[encoded data removed]"
          },
          "metadata": {
            "needs_background": "light"
          }
        }
      ]
    },
    {
      "cell_type": "markdown",
      "source": [
        "* 어떤 특정 구간을 기준으로 품질이 구분되는 것을 확인할 수 있음. 이를 바탕으로 PRODUCT_CODE 별로 Y_Quality의 최소값, 최대값 확인 (O_31 제품은 Y_Class가 0인 제품이 존재하지 않아 NaN 값)"
      ],
      "metadata": {
        "id": "nJWp3CP7TjFk"
      }
    },
    {
      "cell_type": "code",
      "source": [
        "train_pivot = pd.pivot_table(train, index = 'Y_Class', columns = 'PRODUCT_CODE', values = 'Y_Quality', aggfunc = ['min', 'max'])\n",
        "train_pivot"
      ],
      "metadata": {
        "colab": {
          "base_uri": "https://localhost:8080/",
          "height": 206
        },
        "id": "rDHurg9cTaEr",
        "outputId": "3c820998-e18d-42cb-d9a7-78b91253bb91"
      },
      "execution_count": null,
      "outputs": [
        {
          "output_type": "execute_result",
          "data": {
            "text/plain": [
              "                   min                           max                    \n",
              "PRODUCT_CODE      A_31      O_31      T_31      A_31      O_31      T_31\n",
              "Y_Class                                                                 \n",
              "0             0.500856       NaN  0.502517  0.525046       NaN  0.525067\n",
              "1             0.525086  0.525916  0.525213  0.534843  0.533702  0.534837\n",
              "2             0.535279  0.534951  0.534951  0.578841  0.535205  0.551279"
            ],
            "text/html": [
              "\n",
              "  <div id=\"df-7ca60dc6-8e7e-485d-bb2a-83ae2fe38225\">\n",
              "    <div class=\"colab-df-container\">\n",
              "      <div>\n",
              "<style scoped>\n",
              "    .dataframe tbody tr th:only-of-type {\n",
              "        vertical-align: middle;\n",
              "    }\n",
              "\n",
              "    .dataframe tbody tr th {\n",
              "        vertical-align: top;\n",
              "    }\n",
              "\n",
              "    .dataframe thead tr th {\n",
              "        text-align: left;\n",
              "    }\n",
              "\n",
              "    .dataframe thead tr:last-of-type th {\n",
              "        text-align: right;\n",
              "    }\n",
              "</style>\n",
              "<table border=\"1\" class=\"dataframe\">\n",
              "  <thead>\n",
              "    <tr>\n",
              "      <th></th>\n",
              "      <th colspan=\"3\" halign=\"left\">min</th>\n",
              "      <th colspan=\"3\" halign=\"left\">max</th>\n",
              "    </tr>\n",
              "    <tr>\n",
              "      <th>PRODUCT_CODE</th>\n",
              "      <th>A_31</th>\n",
              "      <th>O_31</th>\n",
              "      <th>T_31</th>\n",
              "      <th>A_31</th>\n",
              "      <th>O_31</th>\n",
              "      <th>T_31</th>\n",
              "    </tr>\n",
              "    <tr>\n",
              "      <th>Y_Class</th>\n",
              "      <th></th>\n",
              "      <th></th>\n",
              "      <th></th>\n",
              "      <th></th>\n",
              "      <th></th>\n",
              "      <th></th>\n",
              "    </tr>\n",
              "  </thead>\n",
              "  <tbody>\n",
              "    <tr>\n",
              "      <th>0</th>\n",
              "      <td>0.500856</td>\n",
              "      <td>NaN</td>\n",
              "      <td>0.502517</td>\n",
              "      <td>0.525046</td>\n",
              "      <td>NaN</td>\n",
              "      <td>0.525067</td>\n",
              "    </tr>\n",
              "    <tr>\n",
              "      <th>1</th>\n",
              "      <td>0.525086</td>\n",
              "      <td>0.525916</td>\n",
              "      <td>0.525213</td>\n",
              "      <td>0.534843</td>\n",
              "      <td>0.533702</td>\n",
              "      <td>0.534837</td>\n",
              "    </tr>\n",
              "    <tr>\n",
              "      <th>2</th>\n",
              "      <td>0.535279</td>\n",
              "      <td>0.534951</td>\n",
              "      <td>0.534951</td>\n",
              "      <td>0.578841</td>\n",
              "      <td>0.535205</td>\n",
              "      <td>0.551279</td>\n",
              "    </tr>\n",
              "  </tbody>\n",
              "</table>\n",
              "</div>\n",
              "      <button class=\"colab-df-convert\" onclick=\"convertToInteractive('df-7ca60dc6-8e7e-485d-bb2a-83ae2fe38225')\"\n",
              "              title=\"Convert this dataframe to an interactive table.\"\n",
              "              style=\"display:none;\">\n",
              "        \n",
              "  <svg xmlns=\"http://www.w3.org/2000/svg\" height=\"24px\"viewBox=\"0 0 24 24\"\n",
              "       width=\"24px\">\n",
              "    <path d=\"M0 0h24v24H0V0z\" fill=\"none\"/>\n",
              "    <path d=\"M18.56 5.44l.94 2.06.94-2.06 2.06-.94-2.06-.94-.94-2.06-.94 2.06-2.06.94zm-11 1L8.5 8.5l.94-2.06 2.06-.94-2.06-.94L8.5 2.5l-.94 2.06-2.06.94zm10 10l.94 2.06.94-2.06 2.06-.94-2.06-.94-.94-2.06-.94 2.06-2.06.94z\"/><path d=\"M17.41 7.96l-1.37-1.37c-.4-.4-.92-.59-1.43-.59-.52 0-1.04.2-1.43.59L10.3 9.45l-7.72 7.72c-.78.78-.78 2.05 0 2.83L4 21.41c.39.39.9.59 1.41.59.51 0 1.02-.2 1.41-.59l7.78-7.78 2.81-2.81c.8-.78.8-2.07 0-2.86zM5.41 20L4 18.59l7.72-7.72 1.47 1.35L5.41 20z\"/>\n",
              "  </svg>\n",
              "      </button>\n",
              "      \n",
              "  <style>\n",
              "    .colab-df-container {\n",
              "      display:flex;\n",
              "      flex-wrap:wrap;\n",
              "      gap: 12px;\n",
              "    }\n",
              "\n",
              "    .colab-df-convert {\n",
              "      background-color: #E8F0FE;\n",
              "      border: none;\n",
              "      border-radius: 50%;\n",
              "      cursor: pointer;\n",
              "      display: none;\n",
              "      fill: #1967D2;\n",
              "      height: 32px;\n",
              "      padding: 0 0 0 0;\n",
              "      width: 32px;\n",
              "    }\n",
              "\n",
              "    .colab-df-convert:hover {\n",
              "      background-color: #E2EBFA;\n",
              "      box-shadow: 0px 1px 2px rgba(60, 64, 67, 0.3), 0px 1px 3px 1px rgba(60, 64, 67, 0.15);\n",
              "      fill: #174EA6;\n",
              "    }\n",
              "\n",
              "    [theme=dark] .colab-df-convert {\n",
              "      background-color: #3B4455;\n",
              "      fill: #D2E3FC;\n",
              "    }\n",
              "\n",
              "    [theme=dark] .colab-df-convert:hover {\n",
              "      background-color: #434B5C;\n",
              "      box-shadow: 0px 1px 3px 1px rgba(0, 0, 0, 0.15);\n",
              "      filter: drop-shadow(0px 1px 2px rgba(0, 0, 0, 0.3));\n",
              "      fill: #FFFFFF;\n",
              "    }\n",
              "  </style>\n",
              "\n",
              "      <script>\n",
              "        const buttonEl =\n",
              "          document.querySelector('#df-7ca60dc6-8e7e-485d-bb2a-83ae2fe38225 button.colab-df-convert');\n",
              "        buttonEl.style.display =\n",
              "          google.colab.kernel.accessAllowed ? 'block' : 'none';\n",
              "\n",
              "        async function convertToInteractive(key) {\n",
              "          const element = document.querySelector('#df-7ca60dc6-8e7e-485d-bb2a-83ae2fe38225');\n",
              "          const dataTable =\n",
              "            await google.colab.kernel.invokeFunction('convertToInteractive',\n",
              "                                                     [key], {});\n",
              "          if (!dataTable) return;\n",
              "\n",
              "          const docLinkHtml = 'Like what you see? Visit the ' +\n",
              "            '<a target=\"_blank\" href=https://colab.research.google.com/notebooks/data_table.ipynb>data table notebook</a>'\n",
              "            + ' to learn more about interactive tables.';\n",
              "          element.innerHTML = '';\n",
              "          dataTable['output_type'] = 'display_data';\n",
              "          await google.colab.output.renderOutput(dataTable, element);\n",
              "          const docLink = document.createElement('div');\n",
              "          docLink.innerHTML = docLinkHtml;\n",
              "          element.appendChild(docLink);\n",
              "        }\n",
              "      </script>\n",
              "    </div>\n",
              "  </div>\n",
              "  "
            ]
          },
          "metadata": {},
          "execution_count": 26
        }
      ]
    }
  ]
}