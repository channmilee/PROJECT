{
 "cells": [
  {
   "cell_type": "markdown",
   "id": "f84b08f4",
   "metadata": {},
   "source": [
    "# [에어크루] 항공사 고객 만족도 예측 경진대회 \n",
    "# Stage 2. 데이터 전처리"
   ]
  },
  {
   "cell_type": "markdown",
   "id": "fd5978fd",
   "metadata": {},
   "source": [
    "항공사 고객 만족도 예측 경진대회에 참여하신 데이커 여러분, 환영합니다. 🙌  \n",
    "이번 시간에는 패키지를 설치하고 본격적으로 분석 및 모델링을 진행하기 전에  필요한 데이터 전처리를 진행해보려 합니다."
   ]
  },
  {
   "cell_type": "markdown",
   "id": "75b15cb4",
   "metadata": {},
   "source": [
    "---"
   ]
  },
  {
   "cell_type": "markdown",
   "id": "64e2e2eb",
   "metadata": {},
   "source": [
    "## 1. 패키지 불러오기"
   ]
  },
  {
   "cell_type": "markdown",
   "id": "b06a0115",
   "metadata": {},
   "source": [
    "### 1.1 필요한 패키지 확인"
   ]
  },
  {
   "cell_type": "markdown",
   "id": "5f5c9958",
   "metadata": {},
   "source": [
    "데이터 전처리에 앞서, 필요한 패키지를 불러오겠습니다. \n",
    "\n",
    "기본적으로 사용하는 pandas, matplotlib, numpy, seaborn을 ‘import’하면 바로 사용할 수 있어요!"
   ]
  },
  {
   "cell_type": "code",
   "execution_count": 1,
   "id": "d254485f",
   "metadata": {},
   "outputs": [],
   "source": [
    "import pandas as pd\n",
    "import matplotlib as mpl\n",
    "import matplotlib.pyplot as plt\n",
    "import csv\n",
    "import numpy as np\n",
    "import seaborn as sns"
   ]
  },
  {
   "cell_type": "markdown",
   "id": "3aafde73",
   "metadata": {},
   "source": [
    "---"
   ]
  },
  {
   "cell_type": "markdown",
   "id": "66c161ae",
   "metadata": {},
   "source": [
    "## 2. 데이터 전처리"
   ]
  },
  {
   "cell_type": "markdown",
   "id": "ec713879",
   "metadata": {},
   "source": [
    "### 2.0 데이터 열 선택"
   ]
  },
  {
   "cell_type": "markdown",
   "id": "33346fde",
   "metadata": {},
   "source": [
    "train, test 데이터에서 필요 없는 열은 삭제하고 저희가 예측할 target 열은 train_y로 따로 빼두겠습니다. drop 메소드를 이용해 삭제하고 싶은 열을 선택하면 삭제 완료!"
   ]
  },
  {
   "cell_type": "code",
   "execution_count": 3,
   "id": "2f37c604",
   "metadata": {},
   "outputs": [],
   "source": [
    "train_x = train.drop(['id','target'],axis=1) \n",
    "train_y = train.target \n",
    "test_x = test.drop(['id'],axis = 1)"
   ]
  },
  {
   "cell_type": "markdown",
   "id": "f1deebc0",
   "metadata": {},
   "source": [
    "### 2.1 데이터 인코딩"
   ]
  },
  {
   "cell_type": "markdown",
   "id": "ec819897",
   "metadata": {},
   "source": [
    "**데이터 라벨 인코딩** 왜 필요할까요? \n",
    "\n",
    "object type의 데이터를 모델에 넣으면 모델이 데이터를 인식하지 못하기 때문에 에러가 발생합니다! 때문에 수치형 데이터가 아니면, 라벨 인코딩은 필수라는 점!\n",
    "\n",
    "라벨 인코딩이란 n개의 범주형 데이터를 0부터 (n-1)까지의 연속적인 수치 데이터로 표현하는 과정 입니다.\n",
    "\n",
    "그렇다면 라벨 인코딩이 필요한 열을 알아볼까요?\n",
    "\n",
    "1. Gender → [Female, Male]\n",
    "2. Customer Type → ['disloyal Customer', 'Loyal Customer']\n",
    "3. Type of Travel → ['Business travel', 'Personal Travel’]\n",
    "4. Class → ['Eco', 'Business', 'Eco Plus’]\n",
    "\n",
    "해당 열을 따로 변수로 빼두고 라벨 인코딩을 진행해보겠습니다."
   ]
  },
  {
   "cell_type": "code",
   "execution_count": 5,
   "id": "fc33f5cb",
   "metadata": {},
   "outputs": [
    {
     "name": "stdout",
     "output_type": "stream",
     "text": [
      "Done.\n"
     ]
    }
   ],
   "source": [
    "from sklearn.preprocessing import LabelEncoder\n",
    "\n",
    "# qualitative to quantitative\n",
    "qual_col = ['Gender', 'Customer Type', 'Type of Travel', 'Class']\n",
    "\n",
    "for i in qual_col:\n",
    "    le = LabelEncoder()\n",
    "    le = le.fit(train_x[i]) #train_x와 test_x의 Label이 다르게 Encoding될 우려가 있어 train_x로 fit을 고정\n",
    "    train_x[i] = le.transform(train_x[i])\n",
    "\n",
    "    for label in np.unique(test_x[i]): \n",
    "        if label not in le.classes_: \n",
    "            le.classes_ = np.append(le.classes_, label)\n",
    "    test_x[i] = le.transform(test_x[i]) \n",
    "print('Done.')"
   ]
  },
  {
   "cell_type": "markdown",
   "id": "af930660",
   "metadata": {},
   "source": [
    "### 2.2. 데이터 타입 변환"
   ]
  },
  {
   "cell_type": "markdown",
   "id": "88596b23",
   "metadata": {},
   "source": [
    "데이터 타입 변환하는 방법도 알려드릴게요!\n",
    "\n",
    "train_x 데이터의 info를 확인해보면 Arrival Delay in Minute 열의 데이터가 float(실수형)인 것을 확인할 수 있습니다. 나머지 열은 전부 int (정수형)이니 Arrival Delay in Minute 도 int로 바꿔주겠습니다."
   ]
  },
  {
   "cell_type": "code",
   "execution_count": 8,
   "id": "578b9685",
   "metadata": {},
   "outputs": [
    {
     "name": "stdout",
     "output_type": "stream",
     "text": [
      "<class 'pandas.core.frame.DataFrame'>\n",
      "RangeIndex: 3000 entries, 0 to 2999\n",
      "Data columns (total 22 columns):\n",
      " #   Column                             Non-Null Count  Dtype  \n",
      "---  ------                             --------------  -----  \n",
      " 0   Gender                             3000 non-null   int32  \n",
      " 1   Customer Type                      3000 non-null   int32  \n",
      " 2   Age                                3000 non-null   int64  \n",
      " 3   Type of Travel                     3000 non-null   int32  \n",
      " 4   Class                              3000 non-null   int32  \n",
      " 5   Flight Distance                    3000 non-null   int64  \n",
      " 6   Seat comfort                       3000 non-null   int64  \n",
      " 7   Departure/Arrival time convenient  3000 non-null   int64  \n",
      " 8   Food and drink                     3000 non-null   int64  \n",
      " 9   Gate location                      3000 non-null   int64  \n",
      " 10  Inflight wifi service              3000 non-null   int64  \n",
      " 11  Inflight entertainment             3000 non-null   int64  \n",
      " 12  Online support                     3000 non-null   int64  \n",
      " 13  Ease of Online booking             3000 non-null   int64  \n",
      " 14  On-board service                   3000 non-null   int64  \n",
      " 15  Leg room service                   3000 non-null   int64  \n",
      " 16  Baggage handling                   3000 non-null   int64  \n",
      " 17  Checkin service                    3000 non-null   int64  \n",
      " 18  Cleanliness                        3000 non-null   int64  \n",
      " 19  Online boarding                    3000 non-null   int64  \n",
      " 20  Departure Delay in Minutes         3000 non-null   int64  \n",
      " 21  Arrival Delay in Minutes           3000 non-null   float64\n",
      "dtypes: float64(1), int32(4), int64(17)\n",
      "memory usage: 468.9 KB\n"
     ]
    }
   ],
   "source": [
    "train_x.info()"
   ]
  },
  {
   "cell_type": "markdown",
   "id": "875c5cbe",
   "metadata": {},
   "source": [
    "데이터 타입을 바꾸고 싶은 열과 바꾸고 싶은 데이터 타입을 아래와 같이  astype을 이용해 입력하면 됩니다!"
   ]
  },
  {
   "cell_type": "code",
   "execution_count": 10,
   "id": "be864ff1",
   "metadata": {},
   "outputs": [],
   "source": [
    "train_x = train_x.astype({'Arrival Delay in Minutes':'int'})"
   ]
  },
  {
   "cell_type": "markdown",
   "id": "1425eb08",
   "metadata": {},
   "source": [
    "### 2.3. 정규화"
   ]
  },
  {
   "cell_type": "markdown",
   "id": "332b367e",
   "metadata": {},
   "source": [
    "마지막으로 정규화입니다.\n",
    "\n",
    "정규화는 모든 값을 0~1 사이의 값으로 바꾸는 과정입니다. \n",
    "\n",
    "데이터를 확인해보면 Flight Distance는 1599, 2810 … 으로 1000 자리가 넘어가면서 다른 데이터들과 차이가 큰 것을 확인할 수 있어요! 이를 무시하고 모델을 진행할 경우 성능이 낮아질 수 있습니다. \n",
    "\n",
    "MinMaxScaler를 활용해 정규화를 진행해보겠습니다."
   ]
  },
  {
   "cell_type": "code",
   "execution_count": 11,
   "id": "48dcf6a3",
   "metadata": {},
   "outputs": [
    {
     "data": {
      "text/html": [
       "<div>\n",
       "<style scoped>\n",
       "    .dataframe tbody tr th:only-of-type {\n",
       "        vertical-align: middle;\n",
       "    }\n",
       "\n",
       "    .dataframe tbody tr th {\n",
       "        vertical-align: top;\n",
       "    }\n",
       "\n",
       "    .dataframe thead th {\n",
       "        text-align: right;\n",
       "    }\n",
       "</style>\n",
       "<table border=\"1\" class=\"dataframe\">\n",
       "  <thead>\n",
       "    <tr style=\"text-align: right;\">\n",
       "      <th></th>\n",
       "      <th>Gender</th>\n",
       "      <th>Customer Type</th>\n",
       "      <th>Age</th>\n",
       "      <th>Type of Travel</th>\n",
       "      <th>Class</th>\n",
       "      <th>Flight Distance</th>\n",
       "      <th>Seat comfort</th>\n",
       "      <th>Departure/Arrival time convenient</th>\n",
       "      <th>Food and drink</th>\n",
       "      <th>Gate location</th>\n",
       "      <th>...</th>\n",
       "      <th>Online support</th>\n",
       "      <th>Ease of Online booking</th>\n",
       "      <th>On-board service</th>\n",
       "      <th>Leg room service</th>\n",
       "      <th>Baggage handling</th>\n",
       "      <th>Checkin service</th>\n",
       "      <th>Cleanliness</th>\n",
       "      <th>Online boarding</th>\n",
       "      <th>Departure Delay in Minutes</th>\n",
       "      <th>Arrival Delay in Minutes</th>\n",
       "    </tr>\n",
       "  </thead>\n",
       "  <tbody>\n",
       "    <tr>\n",
       "      <th>0</th>\n",
       "      <td>0</td>\n",
       "      <td>1</td>\n",
       "      <td>22</td>\n",
       "      <td>0</td>\n",
       "      <td>1</td>\n",
       "      <td>-0.373641</td>\n",
       "      <td>3</td>\n",
       "      <td>0</td>\n",
       "      <td>3</td>\n",
       "      <td>3</td>\n",
       "      <td>...</td>\n",
       "      <td>4</td>\n",
       "      <td>4</td>\n",
       "      <td>5</td>\n",
       "      <td>4</td>\n",
       "      <td>4</td>\n",
       "      <td>4</td>\n",
       "      <td>5</td>\n",
       "      <td>4</td>\n",
       "      <td>-0.346846</td>\n",
       "      <td>-0.352289</td>\n",
       "    </tr>\n",
       "    <tr>\n",
       "      <th>1</th>\n",
       "      <td>0</td>\n",
       "      <td>0</td>\n",
       "      <td>37</td>\n",
       "      <td>0</td>\n",
       "      <td>0</td>\n",
       "      <td>0.804446</td>\n",
       "      <td>2</td>\n",
       "      <td>4</td>\n",
       "      <td>4</td>\n",
       "      <td>4</td>\n",
       "      <td>...</td>\n",
       "      <td>3</td>\n",
       "      <td>5</td>\n",
       "      <td>5</td>\n",
       "      <td>4</td>\n",
       "      <td>2</td>\n",
       "      <td>1</td>\n",
       "      <td>5</td>\n",
       "      <td>2</td>\n",
       "      <td>0.052482</td>\n",
       "      <td>0.045978</td>\n",
       "    </tr>\n",
       "    <tr>\n",
       "      <th>2</th>\n",
       "      <td>1</td>\n",
       "      <td>0</td>\n",
       "      <td>46</td>\n",
       "      <td>0</td>\n",
       "      <td>0</td>\n",
       "      <td>0.621556</td>\n",
       "      <td>1</td>\n",
       "      <td>1</td>\n",
       "      <td>1</td>\n",
       "      <td>1</td>\n",
       "      <td>...</td>\n",
       "      <td>5</td>\n",
       "      <td>4</td>\n",
       "      <td>4</td>\n",
       "      <td>4</td>\n",
       "      <td>4</td>\n",
       "      <td>5</td>\n",
       "      <td>4</td>\n",
       "      <td>3</td>\n",
       "      <td>-0.346846</td>\n",
       "      <td>-0.352289</td>\n",
       "    </tr>\n",
       "    <tr>\n",
       "      <th>3</th>\n",
       "      <td>0</td>\n",
       "      <td>1</td>\n",
       "      <td>24</td>\n",
       "      <td>0</td>\n",
       "      <td>1</td>\n",
       "      <td>0.355003</td>\n",
       "      <td>3</td>\n",
       "      <td>3</td>\n",
       "      <td>3</td>\n",
       "      <td>3</td>\n",
       "      <td>...</td>\n",
       "      <td>3</td>\n",
       "      <td>3</td>\n",
       "      <td>2</td>\n",
       "      <td>4</td>\n",
       "      <td>5</td>\n",
       "      <td>3</td>\n",
       "      <td>4</td>\n",
       "      <td>3</td>\n",
       "      <td>-0.124997</td>\n",
       "      <td>-0.308037</td>\n",
       "    </tr>\n",
       "    <tr>\n",
       "      <th>4</th>\n",
       "      <td>0</td>\n",
       "      <td>0</td>\n",
       "      <td>58</td>\n",
       "      <td>0</td>\n",
       "      <td>0</td>\n",
       "      <td>-1.827036</td>\n",
       "      <td>3</td>\n",
       "      <td>3</td>\n",
       "      <td>3</td>\n",
       "      <td>3</td>\n",
       "      <td>...</td>\n",
       "      <td>5</td>\n",
       "      <td>4</td>\n",
       "      <td>4</td>\n",
       "      <td>4</td>\n",
       "      <td>4</td>\n",
       "      <td>4</td>\n",
       "      <td>4</td>\n",
       "      <td>5</td>\n",
       "      <td>-0.346846</td>\n",
       "      <td>-0.352289</td>\n",
       "    </tr>\n",
       "  </tbody>\n",
       "</table>\n",
       "<p>5 rows × 22 columns</p>\n",
       "</div>"
      ],
      "text/plain": [
       "   Gender  Customer Type  Age  Type of Travel  Class  Flight Distance  \\\n",
       "0       0              1   22               0      1        -0.373641   \n",
       "1       0              0   37               0      0         0.804446   \n",
       "2       1              0   46               0      0         0.621556   \n",
       "3       0              1   24               0      1         0.355003   \n",
       "4       0              0   58               0      0        -1.827036   \n",
       "\n",
       "   Seat comfort  Departure/Arrival time convenient  Food and drink  \\\n",
       "0             3                                  0               3   \n",
       "1             2                                  4               4   \n",
       "2             1                                  1               1   \n",
       "3             3                                  3               3   \n",
       "4             3                                  3               3   \n",
       "\n",
       "   Gate location  ...  Online support  Ease of Online booking  \\\n",
       "0              3  ...               4                       4   \n",
       "1              4  ...               3                       5   \n",
       "2              1  ...               5                       4   \n",
       "3              3  ...               3                       3   \n",
       "4              3  ...               5                       4   \n",
       "\n",
       "   On-board service  Leg room service  Baggage handling  Checkin service  \\\n",
       "0                 5                 4                 4                4   \n",
       "1                 5                 4                 2                1   \n",
       "2                 4                 4                 4                5   \n",
       "3                 2                 4                 5                3   \n",
       "4                 4                 4                 4                4   \n",
       "\n",
       "   Cleanliness  Online boarding  Departure Delay in Minutes  \\\n",
       "0            5                4                   -0.346846   \n",
       "1            5                2                    0.052482   \n",
       "2            4                3                   -0.346846   \n",
       "3            4                3                   -0.124997   \n",
       "4            4                5                   -0.346846   \n",
       "\n",
       "   Arrival Delay in Minutes  \n",
       "0                 -0.352289  \n",
       "1                  0.045978  \n",
       "2                 -0.352289  \n",
       "3                 -0.308037  \n",
       "4                 -0.352289  \n",
       "\n",
       "[5 rows x 22 columns]"
      ]
     },
     "execution_count": 11,
     "metadata": {},
     "output_type": "execute_result"
    }
   ],
   "source": [
    "from sklearn.preprocessing import StandardScaler\n",
    "\n",
    "num_features = ['Flight Distance','Departure Delay in Minutes','Arrival Delay in Minutes']\n",
    "\n",
    "scaler = StandardScaler()\n",
    "\n",
    "#Data Leakage가 일어나지 않도록 train_x를 통해 스케일러를 학습 시키고 (fit)\n",
    "scaler.fit(train_x[num_features])\n",
    "\n",
    "#만들어진 스케일러로 train_x를 정규화해줍니다.(transform)\n",
    "train_x[num_features] = scaler.transform(train_x[num_features])\n",
    "\n",
    "train_x.head()"
   ]
  },
  {
   "cell_type": "markdown",
   "id": "0a0173c0",
   "metadata": {},
   "source": [
    "---"
   ]
  },
  {
   "cell_type": "markdown",
   "id": "64220710",
   "metadata": {},
   "source": [
    "stage 2, 무사히 완료 =33\n",
    "\n",
    "다음 stage에서 만나요!"
   ]
  }
 ],
 "metadata": {
  "kernelspec": {
   "display_name": "Python 3 (ipykernel)",
   "language": "python",
   "name": "python3"
  },
  "language_info": {
   "codemirror_mode": {
    "name": "ipython",
    "version": 3
   },
   "file_extension": ".py",
   "mimetype": "text/x-python",
   "name": "python",
   "nbconvert_exporter": "python",
   "pygments_lexer": "ipython3",
   "version": "3.9.13"
  }
 },
 "nbformat": 4,
 "nbformat_minor": 5
}
