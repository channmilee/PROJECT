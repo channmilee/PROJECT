{
 "cells": [
  {
   "cell_type": "markdown",
   "id": "edd377a6",
   "metadata": {},
   "source": [
    "# [에어크루] 항공사 고객 만족도 예측 경진대회 \n",
    "# Stage 1. 프로젝트 배경 및 데이터 파악하기"
   ]
  },
  {
   "cell_type": "markdown",
   "id": "c3dcefa7",
   "metadata": {},
   "source": [
    "항공사 고객 만족도 예측 경진대회에 참여하신 데이커 여러분, 환영합니다. 🙌"
   ]
  },
  {
   "cell_type": "markdown",
   "id": "7a6ffdc9",
   "metadata": {},
   "source": [
    "## 1. Intro"
   ]
  },
  {
   "cell_type": "markdown",
   "id": "d59a9765",
   "metadata": {},
   "source": [
    "고객 만족도 조사 왜 필요할까요?\n",
    "\n",
    "BtoC 사업을 추진하는 회사에게 고객 만족도를 파악하는 것은 미래 사업 계획을 세우고 성장하는 데 있어 가장 중요한 지표입니다. 고객 만족도 예측은 고객이 원하는 서비스를 파악하고 품질을 향상 시켜 충성 고객을 확보할 수 있습니다. 궁극적으로 기업이 성장할 수 있는 동력을 제공하는 것이죠.\n",
    "\n",
    "따라서 다양한 사업에서 고객 만족도를 예측할 수 있도록 우선 항공사 고객 만족도 예측을 진행해보려 합니다."
   ]
  },
  {
   "cell_type": "markdown",
   "id": "bde2e014",
   "metadata": {},
   "source": [
    "---"
   ]
  },
  {
   "cell_type": "markdown",
   "id": "c34ca057",
   "metadata": {},
   "source": [
    "## 2. 프로젝트 배경"
   ]
  },
  {
   "cell_type": "markdown",
   "id": "5975acbb",
   "metadata": {},
   "source": [
    "![image111](https://images.unsplash.com/photo-1483450388369-9ed95738483c?ixlib=rb-4.0.3&ixid=MnwxMjA3fDB8MHxwaG90by1wYWdlfHx8fGVufDB8fHx8&auto=format&fit=crop&w=870&q=80)\n",
    "\n",
    "코로나 19 펜데믹으로 전 세계 항공 업계가 큰 타격을 입었습니다.\n",
    "\n",
    "2021년 전 세계 공항은 covid-19 위기로 인해 예상 기준치 대비 전 세계 여객 운송량이 35.5% 감소하였고, 2022년 말까지 3,100억 달러 이상의 손실을 예상할 만큼 어려운 시간이었습니다.\n",
    "\n",
    "현재는 위드 코로나 상황에 따라 주요 항공사들은 국내/국제선 노선 재개를 통해 다시 활력을 찾는 조짐을 보이고 있습니다.\n",
    "\n",
    "각 항공사들은 코로나 19 이후 방역과 안전에 주안점을 두고  포스트 코로나 시대를 선도하는 항공사로 굳건히 자리매김하기 위해 고객 서비스 강화를 위한 다양한 노력을 기울여 나갈 계획을 세우고 있습니다. \n",
    "\n",
    "그렇다면, 서비스의 질적 향상을 통해 1위 항공사가 될 수 있도록 \n",
    "\n",
    "아래의 데이터로 고객 만족도를 함께 예측해 볼까요?"
   ]
  },
  {
   "cell_type": "markdown",
   "id": "a674f31a",
   "metadata": {},
   "source": [
    "---"
   ]
  },
  {
   "cell_type": "markdown",
   "id": "1c1326e8",
   "metadata": {},
   "source": [
    "## 3. 데이터 살펴보기"
   ]
  },
  {
   "cell_type": "markdown",
   "id": "9ddd7fdc",
   "metadata": {},
   "source": [
    "**데이터 설명**\n",
    "- 이 데이터는 항공사 조직에서 제공한 것입니다. 회사의 실제 이름은 다양한 목적으로 인해 제공되지 않아 Invisistico Airlines라는 이름이 사용되었습니다.\n",
    "- 데이터 세트는 이미 함께 비행한 고객의 세부 정보로 구성됩니다. 다양한 상황과 비행 데이터에 대한 고객의 피드백이 통합되었습니다.\n",
    "- 이 데이터 세트의 주요 목적은 다른 매개변수 값의 세부 사항을 고려할 때 미래의 고객이 서비스에 만족할지 여부를 예측하는 것입니다.\n",
    "\n",
    "출처: https://www.kaggle.com/sjleshrac/airlines-customer-satisfaction"
   ]
  },
  {
   "cell_type": "markdown",
   "id": "164be1e3",
   "metadata": {},
   "source": [
    "### 3.1 데이터 불러오기"
   ]
  },
  {
   "cell_type": "markdown",
   "id": "44c1a0ad",
   "metadata": {},
   "source": [
    "데이터 분석에 앞서, 사용할 데이터가 어떤 데이터인지 꼼꼼히 살펴보겠습니다. \n",
    "\n",
    "이 과정은 주어진 데이터가 어떤 데이터인지 파악하고 어떤 분석이 가능한지 확인하는 과정입니다. 데이터 분석의 방향성을 잡기 위한 과정이라고 할 수 있어요!\n",
    "\n",
    "이 프로젝트는 아래와 같은 3개의 csv 파일을 제공합니다.\n",
    "\n",
    "1. train.csv : 데이터 분석 모델을 학습(train)하기 위해 사용하는 데이터\n",
    "\n",
    "2. test.csv : 데이터 분석 모델을 통해 정답을 예측하기 위해 사용하는 데이터\n",
    "\n",
    "3. sample_submission.csv : 예측한 정답 값을 기록하여 제출하기 위한 샘플 정답 파일\n",
    "\n",
    "데이터 파일을 불러오기에 앞서, 필요한 명령어와 패키지를 살펴보겠습니다. "
   ]
  },
  {
   "cell_type": "markdown",
   "id": "392357ff",
   "metadata": {},
   "source": [
    "- **import :** 설치된 \"pandas\" 패키지를 불러오는 명령어\n",
    "- **pandas** : 데이터 분석에 용이한 데이터 형식 (Series, DataFrame) 제공\n",
    "- **as** : alias의 약어인 as. 약어를 생성해 긴 이름을 가진 패키지도 간편하게 불러올 수 있음. pandas를 pd로 바꾸니까 얼마나 편하게요?\n",
    "\n",
    "함께 입력해볼까요?"
   ]
  },
  {
   "cell_type": "code",
   "execution_count": 1,
   "id": "911c61a4",
   "metadata": {
    "scrolled": true
   },
   "outputs": [],
   "source": [
    "import pandas as pd"
   ]
  },
  {
   "cell_type": "markdown",
   "id": "4ae52e49",
   "metadata": {},
   "source": [
    "pandas를 import 했다면 pandas 패키지에서 제공하는 \"read_csv\"를 활용하여 csv파일을 불러올 수 있어요! \n",
    "\n",
    "원하는 변수명에 불러온 데이터 csv 파일을 저장할 수 있어요."
   ]
  },
  {
   "cell_type": "code",
   "execution_count": 2,
   "id": "995ee90c",
   "metadata": {},
   "outputs": [],
   "source": [
    "#변수명 = pd.read_csv(파일명)\n",
    "train = pd.read_csv('./train.csv')\n",
    "test = pd.read_csv('./test.csv')\n",
    "sample_submission = pd.read_csv('./sample_submission.csv')"
   ]
  },
  {
   "cell_type": "markdown",
   "id": "3f23e3ee",
   "metadata": {},
   "source": [
    "### 3.2 데이터 확인"
   ]
  },
  {
   "cell_type": "markdown",
   "id": "92d1ee0e",
   "metadata": {},
   "source": [
    "불러온 데이터를 간단히 확인해보는 방법!\n",
    "\n",
    "head(), info(), columns 명령어를 사용해 함께 살펴보겠습니다. \n",
    "\n",
    "- head() : 데이터 프레임의 일부를 보여줘요. 괄호 안의 숫자를 지정해 원하는 만큼 볼 수 있습니다.\n",
    "- info() : 데이터 프레임을 구성하는 열, 데이터 타입, 갯수 등의 정보와 이상치와 결측치도 확인할 수 있습니다.\n",
    "- columns : 데이터 프레임의 열만 확인할 수 있어서 유용합니다.\n",
    "\n",
    "그럼, 위의 명령어를 사용해서 각 파일의 데이터 구성을 살펴보겠습니다. 데이터 열이 영어로 되어 있어서 헷갈리니 친절하게 저희가 알려드릴게요!\n",
    "\n",
    "- id : 샘플 아이디\n",
    "- Gender : 성별\n",
    "- Customer Type : Disloyal 또는 Loyal 고객\n",
    "- Age : 나이\n",
    "- Type of Travel : Business 또는 Personal Travel\n",
    "- Class : 등급\n",
    "- Flight Distance : 비행 거리\n",
    "- Seat comfort : 좌석 만족도\n",
    "- Departure/Arrival time convenient : 출발/도착 시간 편의성 만족도\n",
    "- Food and drink : 식음료 만족도\n",
    "- Gate location : 게이트 위치 만족도\n",
    "- Inflight wifi service : 기내 와이파이 서비스 만족도\n",
    "- Inflight entertainment : 기내 엔터테인먼트 만족도\n",
    "- Online support : 온라인 지원 만족도\n",
    "- Ease of Online booking : 온라인 예매 편리성 만족도\n",
    "- On-board service : 탑승 서비스 만족도\n",
    "- Leg room service : Leg room 서비스 만족도\n",
    "- Baggage handling : 수하물 처리 만족도\n",
    "- Checkin service : 체크인 서비스 만족도\n",
    "- Cleanliness : 청결도 만족도\n",
    "- Online boarding : 온라인보딩 만족도\n",
    "- Departure Delay in Minutes : 출발 지연 시간\n",
    "- Arrival Delay in Minutes : 도착 지연 시간\n",
    "- target : 만족 여부"
   ]
  },
  {
   "cell_type": "markdown",
   "id": "9279f63e",
   "metadata": {},
   "source": [
    "**1. train.csv : 학습 데이터**"
   ]
  },
  {
   "cell_type": "code",
   "execution_count": 3,
   "id": "479024f5",
   "metadata": {},
   "outputs": [
    {
     "name": "stdout",
     "output_type": "stream",
     "text": [
      "<class 'pandas.core.frame.DataFrame'>\n",
      "RangeIndex: 3000 entries, 0 to 2999\n",
      "Data columns (total 24 columns):\n",
      " #   Column                             Non-Null Count  Dtype  \n",
      "---  ------                             --------------  -----  \n",
      " 0   id                                 3000 non-null   int64  \n",
      " 1   Gender                             3000 non-null   object \n",
      " 2   Customer Type                      3000 non-null   object \n",
      " 3   Age                                3000 non-null   int64  \n",
      " 4   Type of Travel                     3000 non-null   object \n",
      " 5   Class                              3000 non-null   object \n",
      " 6   Flight Distance                    3000 non-null   int64  \n",
      " 7   Seat comfort                       3000 non-null   int64  \n",
      " 8   Departure/Arrival time convenient  3000 non-null   int64  \n",
      " 9   Food and drink                     3000 non-null   int64  \n",
      " 10  Gate location                      3000 non-null   int64  \n",
      " 11  Inflight wifi service              3000 non-null   int64  \n",
      " 12  Inflight entertainment             3000 non-null   int64  \n",
      " 13  Online support                     3000 non-null   int64  \n",
      " 14  Ease of Online booking             3000 non-null   int64  \n",
      " 15  On-board service                   3000 non-null   int64  \n",
      " 16  Leg room service                   3000 non-null   int64  \n",
      " 17  Baggage handling                   3000 non-null   int64  \n",
      " 18  Checkin service                    3000 non-null   int64  \n",
      " 19  Cleanliness                        3000 non-null   int64  \n",
      " 20  Online boarding                    3000 non-null   int64  \n",
      " 21  Departure Delay in Minutes         3000 non-null   int64  \n",
      " 22  Arrival Delay in Minutes           3000 non-null   float64\n",
      " 23  target                             3000 non-null   int64  \n",
      "dtypes: float64(1), int64(19), object(4)\n",
      "memory usage: 562.6+ KB\n"
     ]
    }
   ],
   "source": [
    "#변수명.명령어()\n",
    "train.info()"
   ]
  },
  {
   "cell_type": "code",
   "execution_count": 4,
   "id": "83981898",
   "metadata": {},
   "outputs": [
    {
     "data": {
      "text/html": [
       "<div>\n",
       "<style scoped>\n",
       "    .dataframe tbody tr th:only-of-type {\n",
       "        vertical-align: middle;\n",
       "    }\n",
       "\n",
       "    .dataframe tbody tr th {\n",
       "        vertical-align: top;\n",
       "    }\n",
       "\n",
       "    .dataframe thead th {\n",
       "        text-align: right;\n",
       "    }\n",
       "</style>\n",
       "<table border=\"1\" class=\"dataframe\">\n",
       "  <thead>\n",
       "    <tr style=\"text-align: right;\">\n",
       "      <th></th>\n",
       "      <th>id</th>\n",
       "      <th>Gender</th>\n",
       "      <th>Customer Type</th>\n",
       "      <th>Age</th>\n",
       "      <th>Type of Travel</th>\n",
       "      <th>Class</th>\n",
       "      <th>Flight Distance</th>\n",
       "      <th>Seat comfort</th>\n",
       "      <th>Departure/Arrival time convenient</th>\n",
       "      <th>Food and drink</th>\n",
       "      <th>...</th>\n",
       "      <th>Ease of Online booking</th>\n",
       "      <th>On-board service</th>\n",
       "      <th>Leg room service</th>\n",
       "      <th>Baggage handling</th>\n",
       "      <th>Checkin service</th>\n",
       "      <th>Cleanliness</th>\n",
       "      <th>Online boarding</th>\n",
       "      <th>Departure Delay in Minutes</th>\n",
       "      <th>Arrival Delay in Minutes</th>\n",
       "      <th>target</th>\n",
       "    </tr>\n",
       "  </thead>\n",
       "  <tbody>\n",
       "    <tr>\n",
       "      <th>0</th>\n",
       "      <td>1</td>\n",
       "      <td>Female</td>\n",
       "      <td>disloyal Customer</td>\n",
       "      <td>22</td>\n",
       "      <td>Business travel</td>\n",
       "      <td>Eco</td>\n",
       "      <td>1599</td>\n",
       "      <td>3</td>\n",
       "      <td>0</td>\n",
       "      <td>3</td>\n",
       "      <td>...</td>\n",
       "      <td>4</td>\n",
       "      <td>5</td>\n",
       "      <td>4</td>\n",
       "      <td>4</td>\n",
       "      <td>4</td>\n",
       "      <td>5</td>\n",
       "      <td>4</td>\n",
       "      <td>0</td>\n",
       "      <td>0.0</td>\n",
       "      <td>0</td>\n",
       "    </tr>\n",
       "    <tr>\n",
       "      <th>1</th>\n",
       "      <td>2</td>\n",
       "      <td>Female</td>\n",
       "      <td>Loyal Customer</td>\n",
       "      <td>37</td>\n",
       "      <td>Business travel</td>\n",
       "      <td>Business</td>\n",
       "      <td>2810</td>\n",
       "      <td>2</td>\n",
       "      <td>4</td>\n",
       "      <td>4</td>\n",
       "      <td>...</td>\n",
       "      <td>5</td>\n",
       "      <td>5</td>\n",
       "      <td>4</td>\n",
       "      <td>2</td>\n",
       "      <td>1</td>\n",
       "      <td>5</td>\n",
       "      <td>2</td>\n",
       "      <td>18</td>\n",
       "      <td>18.0</td>\n",
       "      <td>0</td>\n",
       "    </tr>\n",
       "    <tr>\n",
       "      <th>2</th>\n",
       "      <td>3</td>\n",
       "      <td>Male</td>\n",
       "      <td>Loyal Customer</td>\n",
       "      <td>46</td>\n",
       "      <td>Business travel</td>\n",
       "      <td>Business</td>\n",
       "      <td>2622</td>\n",
       "      <td>1</td>\n",
       "      <td>1</td>\n",
       "      <td>1</td>\n",
       "      <td>...</td>\n",
       "      <td>4</td>\n",
       "      <td>4</td>\n",
       "      <td>4</td>\n",
       "      <td>4</td>\n",
       "      <td>5</td>\n",
       "      <td>4</td>\n",
       "      <td>3</td>\n",
       "      <td>0</td>\n",
       "      <td>0.0</td>\n",
       "      <td>1</td>\n",
       "    </tr>\n",
       "    <tr>\n",
       "      <th>3</th>\n",
       "      <td>4</td>\n",
       "      <td>Female</td>\n",
       "      <td>disloyal Customer</td>\n",
       "      <td>24</td>\n",
       "      <td>Business travel</td>\n",
       "      <td>Eco</td>\n",
       "      <td>2348</td>\n",
       "      <td>3</td>\n",
       "      <td>3</td>\n",
       "      <td>3</td>\n",
       "      <td>...</td>\n",
       "      <td>3</td>\n",
       "      <td>2</td>\n",
       "      <td>4</td>\n",
       "      <td>5</td>\n",
       "      <td>3</td>\n",
       "      <td>4</td>\n",
       "      <td>3</td>\n",
       "      <td>10</td>\n",
       "      <td>2.0</td>\n",
       "      <td>0</td>\n",
       "    </tr>\n",
       "    <tr>\n",
       "      <th>4</th>\n",
       "      <td>5</td>\n",
       "      <td>Female</td>\n",
       "      <td>Loyal Customer</td>\n",
       "      <td>58</td>\n",
       "      <td>Business travel</td>\n",
       "      <td>Business</td>\n",
       "      <td>105</td>\n",
       "      <td>3</td>\n",
       "      <td>3</td>\n",
       "      <td>3</td>\n",
       "      <td>...</td>\n",
       "      <td>4</td>\n",
       "      <td>4</td>\n",
       "      <td>4</td>\n",
       "      <td>4</td>\n",
       "      <td>4</td>\n",
       "      <td>4</td>\n",
       "      <td>5</td>\n",
       "      <td>0</td>\n",
       "      <td>0.0</td>\n",
       "      <td>1</td>\n",
       "    </tr>\n",
       "  </tbody>\n",
       "</table>\n",
       "<p>5 rows × 24 columns</p>\n",
       "</div>"
      ],
      "text/plain": [
       "   id  Gender      Customer Type  Age   Type of Travel     Class  \\\n",
       "0   1  Female  disloyal Customer   22  Business travel       Eco   \n",
       "1   2  Female     Loyal Customer   37  Business travel  Business   \n",
       "2   3    Male     Loyal Customer   46  Business travel  Business   \n",
       "3   4  Female  disloyal Customer   24  Business travel       Eco   \n",
       "4   5  Female     Loyal Customer   58  Business travel  Business   \n",
       "\n",
       "   Flight Distance  Seat comfort  Departure/Arrival time convenient  \\\n",
       "0             1599             3                                  0   \n",
       "1             2810             2                                  4   \n",
       "2             2622             1                                  1   \n",
       "3             2348             3                                  3   \n",
       "4              105             3                                  3   \n",
       "\n",
       "   Food and drink  ...  Ease of Online booking  On-board service  \\\n",
       "0               3  ...                       4                 5   \n",
       "1               4  ...                       5                 5   \n",
       "2               1  ...                       4                 4   \n",
       "3               3  ...                       3                 2   \n",
       "4               3  ...                       4                 4   \n",
       "\n",
       "   Leg room service  Baggage handling  Checkin service  Cleanliness  \\\n",
       "0                 4                 4                4            5   \n",
       "1                 4                 2                1            5   \n",
       "2                 4                 4                5            4   \n",
       "3                 4                 5                3            4   \n",
       "4                 4                 4                4            4   \n",
       "\n",
       "   Online boarding  Departure Delay in Minutes  Arrival Delay in Minutes  \\\n",
       "0                4                           0                       0.0   \n",
       "1                2                          18                      18.0   \n",
       "2                3                           0                       0.0   \n",
       "3                3                          10                       2.0   \n",
       "4                5                           0                       0.0   \n",
       "\n",
       "   target  \n",
       "0       0  \n",
       "1       0  \n",
       "2       1  \n",
       "3       0  \n",
       "4       1  \n",
       "\n",
       "[5 rows x 24 columns]"
      ]
     },
     "execution_count": 4,
     "metadata": {},
     "output_type": "execute_result"
    }
   ],
   "source": [
    "train.head()"
   ]
  },
  {
   "cell_type": "code",
   "execution_count": 5,
   "id": "08c4336b",
   "metadata": {},
   "outputs": [
    {
     "data": {
      "text/plain": [
       "Index(['id', 'Gender', 'Customer Type', 'Age', 'Type of Travel', 'Class',\n",
       "       'Flight Distance', 'Seat comfort', 'Departure/Arrival time convenient',\n",
       "       'Food and drink', 'Gate location', 'Inflight wifi service',\n",
       "       'Inflight entertainment', 'Online support', 'Ease of Online booking',\n",
       "       'On-board service', 'Leg room service', 'Baggage handling',\n",
       "       'Checkin service', 'Cleanliness', 'Online boarding',\n",
       "       'Departure Delay in Minutes', 'Arrival Delay in Minutes', 'target'],\n",
       "      dtype='object')"
      ]
     },
     "execution_count": 5,
     "metadata": {},
     "output_type": "execute_result"
    }
   ],
   "source": [
    "train.columns"
   ]
  },
  {
   "cell_type": "markdown",
   "id": "21179af8",
   "metadata": {},
   "source": [
    "**2. test.csv : 테스트 데이터**"
   ]
  },
  {
   "cell_type": "code",
   "execution_count": 6,
   "id": "36fd255b",
   "metadata": {},
   "outputs": [
    {
     "name": "stdout",
     "output_type": "stream",
     "text": [
      "<class 'pandas.core.frame.DataFrame'>\n",
      "RangeIndex: 2000 entries, 0 to 1999\n",
      "Data columns (total 23 columns):\n",
      " #   Column                             Non-Null Count  Dtype  \n",
      "---  ------                             --------------  -----  \n",
      " 0   id                                 2000 non-null   int64  \n",
      " 1   Gender                             2000 non-null   object \n",
      " 2   Customer Type                      2000 non-null   object \n",
      " 3   Age                                2000 non-null   int64  \n",
      " 4   Type of Travel                     2000 non-null   object \n",
      " 5   Class                              2000 non-null   object \n",
      " 6   Flight Distance                    2000 non-null   int64  \n",
      " 7   Seat comfort                       2000 non-null   int64  \n",
      " 8   Departure/Arrival time convenient  2000 non-null   int64  \n",
      " 9   Food and drink                     2000 non-null   int64  \n",
      " 10  Gate location                      2000 non-null   int64  \n",
      " 11  Inflight wifi service              2000 non-null   int64  \n",
      " 12  Inflight entertainment             2000 non-null   int64  \n",
      " 13  Online support                     2000 non-null   int64  \n",
      " 14  Ease of Online booking             2000 non-null   int64  \n",
      " 15  On-board service                   2000 non-null   int64  \n",
      " 16  Leg room service                   2000 non-null   int64  \n",
      " 17  Baggage handling                   2000 non-null   int64  \n",
      " 18  Checkin service                    2000 non-null   int64  \n",
      " 19  Cleanliness                        2000 non-null   int64  \n",
      " 20  Online boarding                    2000 non-null   int64  \n",
      " 21  Departure Delay in Minutes         2000 non-null   int64  \n",
      " 22  Arrival Delay in Minutes           2000 non-null   float64\n",
      "dtypes: float64(1), int64(18), object(4)\n",
      "memory usage: 359.5+ KB\n"
     ]
    }
   ],
   "source": [
    "test.info()"
   ]
  },
  {
   "cell_type": "code",
   "execution_count": 7,
   "id": "3d96d4f9",
   "metadata": {},
   "outputs": [
    {
     "data": {
      "text/html": [
       "<div>\n",
       "<style scoped>\n",
       "    .dataframe tbody tr th:only-of-type {\n",
       "        vertical-align: middle;\n",
       "    }\n",
       "\n",
       "    .dataframe tbody tr th {\n",
       "        vertical-align: top;\n",
       "    }\n",
       "\n",
       "    .dataframe thead th {\n",
       "        text-align: right;\n",
       "    }\n",
       "</style>\n",
       "<table border=\"1\" class=\"dataframe\">\n",
       "  <thead>\n",
       "    <tr style=\"text-align: right;\">\n",
       "      <th></th>\n",
       "      <th>id</th>\n",
       "      <th>Gender</th>\n",
       "      <th>Customer Type</th>\n",
       "      <th>Age</th>\n",
       "      <th>Type of Travel</th>\n",
       "      <th>Class</th>\n",
       "      <th>Flight Distance</th>\n",
       "      <th>Seat comfort</th>\n",
       "      <th>Departure/Arrival time convenient</th>\n",
       "      <th>Food and drink</th>\n",
       "      <th>...</th>\n",
       "      <th>Online support</th>\n",
       "      <th>Ease of Online booking</th>\n",
       "      <th>On-board service</th>\n",
       "      <th>Leg room service</th>\n",
       "      <th>Baggage handling</th>\n",
       "      <th>Checkin service</th>\n",
       "      <th>Cleanliness</th>\n",
       "      <th>Online boarding</th>\n",
       "      <th>Departure Delay in Minutes</th>\n",
       "      <th>Arrival Delay in Minutes</th>\n",
       "    </tr>\n",
       "  </thead>\n",
       "  <tbody>\n",
       "    <tr>\n",
       "      <th>0</th>\n",
       "      <td>1</td>\n",
       "      <td>Female</td>\n",
       "      <td>Loyal Customer</td>\n",
       "      <td>61</td>\n",
       "      <td>Personal Travel</td>\n",
       "      <td>Eco</td>\n",
       "      <td>2037</td>\n",
       "      <td>1</td>\n",
       "      <td>1</td>\n",
       "      <td>1</td>\n",
       "      <td>...</td>\n",
       "      <td>5</td>\n",
       "      <td>5</td>\n",
       "      <td>5</td>\n",
       "      <td>5</td>\n",
       "      <td>5</td>\n",
       "      <td>3</td>\n",
       "      <td>5</td>\n",
       "      <td>3</td>\n",
       "      <td>51</td>\n",
       "      <td>58.0</td>\n",
       "    </tr>\n",
       "    <tr>\n",
       "      <th>1</th>\n",
       "      <td>2</td>\n",
       "      <td>Female</td>\n",
       "      <td>disloyal Customer</td>\n",
       "      <td>27</td>\n",
       "      <td>Business travel</td>\n",
       "      <td>Business</td>\n",
       "      <td>1846</td>\n",
       "      <td>1</td>\n",
       "      <td>1</td>\n",
       "      <td>1</td>\n",
       "      <td>...</td>\n",
       "      <td>1</td>\n",
       "      <td>1</td>\n",
       "      <td>3</td>\n",
       "      <td>4</td>\n",
       "      <td>5</td>\n",
       "      <td>4</td>\n",
       "      <td>4</td>\n",
       "      <td>1</td>\n",
       "      <td>0</td>\n",
       "      <td>0.0</td>\n",
       "    </tr>\n",
       "    <tr>\n",
       "      <th>2</th>\n",
       "      <td>3</td>\n",
       "      <td>Female</td>\n",
       "      <td>Loyal Customer</td>\n",
       "      <td>52</td>\n",
       "      <td>Business travel</td>\n",
       "      <td>Business</td>\n",
       "      <td>1622</td>\n",
       "      <td>4</td>\n",
       "      <td>4</td>\n",
       "      <td>4</td>\n",
       "      <td>...</td>\n",
       "      <td>4</td>\n",
       "      <td>5</td>\n",
       "      <td>5</td>\n",
       "      <td>5</td>\n",
       "      <td>5</td>\n",
       "      <td>4</td>\n",
       "      <td>5</td>\n",
       "      <td>3</td>\n",
       "      <td>0</td>\n",
       "      <td>0.0</td>\n",
       "    </tr>\n",
       "    <tr>\n",
       "      <th>3</th>\n",
       "      <td>4</td>\n",
       "      <td>Male</td>\n",
       "      <td>Loyal Customer</td>\n",
       "      <td>54</td>\n",
       "      <td>Business travel</td>\n",
       "      <td>Business</td>\n",
       "      <td>3534</td>\n",
       "      <td>4</td>\n",
       "      <td>4</td>\n",
       "      <td>4</td>\n",
       "      <td>...</td>\n",
       "      <td>5</td>\n",
       "      <td>2</td>\n",
       "      <td>2</td>\n",
       "      <td>2</td>\n",
       "      <td>2</td>\n",
       "      <td>5</td>\n",
       "      <td>2</td>\n",
       "      <td>1</td>\n",
       "      <td>0</td>\n",
       "      <td>0.0</td>\n",
       "    </tr>\n",
       "    <tr>\n",
       "      <th>4</th>\n",
       "      <td>5</td>\n",
       "      <td>Female</td>\n",
       "      <td>Loyal Customer</td>\n",
       "      <td>41</td>\n",
       "      <td>Business travel</td>\n",
       "      <td>Eco</td>\n",
       "      <td>1471</td>\n",
       "      <td>4</td>\n",
       "      <td>3</td>\n",
       "      <td>3</td>\n",
       "      <td>...</td>\n",
       "      <td>4</td>\n",
       "      <td>4</td>\n",
       "      <td>3</td>\n",
       "      <td>1</td>\n",
       "      <td>2</td>\n",
       "      <td>5</td>\n",
       "      <td>4</td>\n",
       "      <td>4</td>\n",
       "      <td>0</td>\n",
       "      <td>0.0</td>\n",
       "    </tr>\n",
       "  </tbody>\n",
       "</table>\n",
       "<p>5 rows × 23 columns</p>\n",
       "</div>"
      ],
      "text/plain": [
       "   id  Gender      Customer Type  Age   Type of Travel     Class  \\\n",
       "0   1  Female     Loyal Customer   61  Personal Travel       Eco   \n",
       "1   2  Female  disloyal Customer   27  Business travel  Business   \n",
       "2   3  Female     Loyal Customer   52  Business travel  Business   \n",
       "3   4    Male     Loyal Customer   54  Business travel  Business   \n",
       "4   5  Female     Loyal Customer   41  Business travel       Eco   \n",
       "\n",
       "   Flight Distance  Seat comfort  Departure/Arrival time convenient  \\\n",
       "0             2037             1                                  1   \n",
       "1             1846             1                                  1   \n",
       "2             1622             4                                  4   \n",
       "3             3534             4                                  4   \n",
       "4             1471             4                                  3   \n",
       "\n",
       "   Food and drink  ...  Online support  Ease of Online booking  \\\n",
       "0               1  ...               5                       5   \n",
       "1               1  ...               1                       1   \n",
       "2               4  ...               4                       5   \n",
       "3               4  ...               5                       2   \n",
       "4               3  ...               4                       4   \n",
       "\n",
       "   On-board service  Leg room service  Baggage handling  Checkin service  \\\n",
       "0                 5                 5                 5                3   \n",
       "1                 3                 4                 5                4   \n",
       "2                 5                 5                 5                4   \n",
       "3                 2                 2                 2                5   \n",
       "4                 3                 1                 2                5   \n",
       "\n",
       "   Cleanliness  Online boarding  Departure Delay in Minutes  \\\n",
       "0            5                3                          51   \n",
       "1            4                1                           0   \n",
       "2            5                3                           0   \n",
       "3            2                1                           0   \n",
       "4            4                4                           0   \n",
       "\n",
       "   Arrival Delay in Minutes  \n",
       "0                      58.0  \n",
       "1                       0.0  \n",
       "2                       0.0  \n",
       "3                       0.0  \n",
       "4                       0.0  \n",
       "\n",
       "[5 rows x 23 columns]"
      ]
     },
     "execution_count": 7,
     "metadata": {},
     "output_type": "execute_result"
    }
   ],
   "source": [
    "test.head()"
   ]
  },
  {
   "cell_type": "code",
   "execution_count": 8,
   "id": "21044a54",
   "metadata": {},
   "outputs": [
    {
     "data": {
      "text/plain": [
       "Index(['id', 'Gender', 'Customer Type', 'Age', 'Type of Travel', 'Class',\n",
       "       'Flight Distance', 'Seat comfort', 'Departure/Arrival time convenient',\n",
       "       'Food and drink', 'Gate location', 'Inflight wifi service',\n",
       "       'Inflight entertainment', 'Online support', 'Ease of Online booking',\n",
       "       'On-board service', 'Leg room service', 'Baggage handling',\n",
       "       'Checkin service', 'Cleanliness', 'Online boarding',\n",
       "       'Departure Delay in Minutes', 'Arrival Delay in Minutes'],\n",
       "      dtype='object')"
      ]
     },
     "execution_count": 8,
     "metadata": {},
     "output_type": "execute_result"
    }
   ],
   "source": [
    "test.columns"
   ]
  },
  {
   "cell_type": "markdown",
   "id": "66fecaf7",
   "metadata": {},
   "source": [
    "**3. sample_submissoin.csv : 제출 양식**"
   ]
  },
  {
   "cell_type": "code",
   "execution_count": 10,
   "id": "45ee427d",
   "metadata": {},
   "outputs": [
    {
     "name": "stdout",
     "output_type": "stream",
     "text": [
      "<class 'pandas.core.frame.DataFrame'>\n",
      "RangeIndex: 2000 entries, 0 to 1999\n",
      "Data columns (total 2 columns):\n",
      " #   Column  Non-Null Count  Dtype\n",
      "---  ------  --------------  -----\n",
      " 0   id      2000 non-null   int64\n",
      " 1   target  2000 non-null   int64\n",
      "dtypes: int64(2)\n",
      "memory usage: 31.4 KB\n"
     ]
    }
   ],
   "source": [
    "sample_submission.info()"
   ]
  },
  {
   "cell_type": "markdown",
   "id": "a50caacd",
   "metadata": {},
   "source": [
    "- id : 샘플 아이디\n",
    "- target : 만족 여부"
   ]
  },
  {
   "cell_type": "markdown",
   "id": "99fbe9c2",
   "metadata": {},
   "source": [
    "제출 양식의 info를 통해서 우리는 고객 만족 여부를 예측 하는 게 최종 목표임을 확인할 수 있어요!\n",
    "\n",
    "앞으로 남은 Stage를 통해 함께 target 열을 예측해볼까요?"
   ]
  },
  {
   "cell_type": "markdown",
   "id": "4574bf51",
   "metadata": {},
   "source": [
    "---"
   ]
  },
  {
   "cell_type": "markdown",
   "id": "ffbe2c15",
   "metadata": {},
   "source": [
    "## 4. 제출 파일 생성 및 제출"
   ]
  },
  {
   "cell_type": "markdown",
   "id": "a9739f43",
   "metadata": {},
   "source": [
    "일단 다짜고짜 제출을 한번 해볼게요.\n",
    "\n",
    "(아직 아무것도 한 게 없다고 생각하지 마세요 시작이 반이니까요!!)\n",
    "\n",
    "우선 이번 제출을 통해 리더 보드에 등록하고 이후 완성도 있는 제출을 통해 조금씩 점수를 올려 볼게요.\n",
    "\n",
    "일단은 제출 파일을 저장해보겠습니다. \n",
    "\n",
    "to_csv를 이용해서 기존의 sample_submission.csv를 stage1.csv로 저장해 제출해 보겠습니다."
   ]
  },
  {
   "cell_type": "code",
   "execution_count": 11,
   "id": "80bea942",
   "metadata": {},
   "outputs": [],
   "source": [
    "sample_submission.to_csv('stage1.csv', index = False)"
   ]
  },
  {
   "cell_type": "markdown",
   "id": "5529a809",
   "metadata": {},
   "source": [
    "---"
   ]
  },
  {
   "cell_type": "markdown",
   "id": "a141701e",
   "metadata": {},
   "source": [
    "stage 1, 무사히 완료 = 33\n",
    "\n",
    "다음 stage에서 만나요!"
   ]
  }
 ],
 "metadata": {
  "kernelspec": {
   "display_name": "Python 3 (ipykernel)",
   "language": "python",
   "name": "python3"
  },
  "language_info": {
   "codemirror_mode": {
    "name": "ipython",
    "version": 3
   },
   "file_extension": ".py",
   "mimetype": "text/x-python",
   "name": "python",
   "nbconvert_exporter": "python",
   "pygments_lexer": "ipython3",
   "version": "3.9.13"
  }
 },
 "nbformat": 4,
 "nbformat_minor": 5
}
