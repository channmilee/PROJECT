{
 "cells": [
  {
   "cell_type": "markdown",
   "id": "bdf2bf9e",
   "metadata": {},
   "source": [
    "# [에어크루] 항공사 고객 만족도 예측 경진대회 \n",
    "# Stage 4. baseline 모델링"
   ]
  },
  {
   "cell_type": "markdown",
   "id": "c3551dfb",
   "metadata": {},
   "source": [
    "항공사 고객 만족도 예측 경진대회에 참여하신 데이커 여러분, 환영합니다. 🙌\n",
    "\n",
    "드디어 모델링 시간입니다! 앞서 EDA를 통해 얻은 인사이트를 바탕으로 모델링을 진행해보겠습니다."
   ]
  },
  {
   "cell_type": "markdown",
   "id": "3f9d5b35",
   "metadata": {},
   "source": [
    "---"
   ]
  },
  {
   "cell_type": "markdown",
   "id": "4332571a",
   "metadata": {},
   "source": [
    "## 4. Model\n",
    "\n",
    "### 4.1 분류 vs 회귀 \n",
    "\n",
    "왜 분류 모델을 사용하는지 궁금하시죠?\n",
    "\n",
    "🔎 **회귀** : 예측하고 싶은 종속변수가 연속성을 지니고 있는 숫자형일 때 사용\n",
    "\n",
    "🔎 **분류** : 예측하고 싶은 종속변수가 범주형 변수일 때 사용  \n",
    "\n",
    "\n",
    "고객 만족도 예측을 위해 저희는 RandomForestClassifier를 사용하려 합니다.\n",
    "**RandomForestClassifier**란 bagging 기법에 학습 모델의 분산을 줄이기 위해 변수의 특정 개수를 무작위 추출 하는 방법으로 학습을 진행합니다.\n",
    "\n",
    "sklearn에서 제공하는 랜덤포레스트 모델을 import 하고 → fit으로 모델에 적용시켜줍니다. "
   ]
  },
  {
   "cell_type": "code",
   "execution_count": 5,
   "id": "219b8203",
   "metadata": {},
   "outputs": [
    {
     "name": "stdout",
     "output_type": "stream",
     "text": [
      "Done.\n"
     ]
    }
   ],
   "source": [
    "from sklearn.ensemble import RandomForestClassifier\n",
    "RF = RandomForestClassifier(random_state=37).fit(train_x,train_y)\n",
    "print('Done.')"
   ]
  },
  {
   "cell_type": "markdown",
   "id": "1a6c534d",
   "metadata": {},
   "source": [
    "간단한 모델이 다 돌아갔습니다. 그렇다면 이제! 예측 값을 확인해볼까요?"
   ]
  },
  {
   "cell_type": "code",
   "execution_count": 6,
   "id": "d6ebda9d",
   "metadata": {},
   "outputs": [
    {
     "name": "stdout",
     "output_type": "stream",
     "text": [
      "Done.\n"
     ]
    }
   ],
   "source": [
    "preds = RF.predict(test_x)\n",
    "print('Done.')"
   ]
  },
  {
   "cell_type": "markdown",
   "id": "de3dd3f4",
   "metadata": {},
   "source": [
    "예측값이 1,0으로 잘 분류되어 나온 것을 확인 ~!!"
   ]
  },
  {
   "cell_type": "code",
   "execution_count": 16,
   "id": "2ed28e7a",
   "metadata": {},
   "outputs": [
    {
     "data": {
      "text/plain": [
       "array([1, 0, 1, ..., 0, 1, 1], dtype=int64)"
      ]
     },
     "execution_count": 16,
     "metadata": {},
     "output_type": "execute_result"
    }
   ],
   "source": [
    "preds"
   ]
  },
  {
   "cell_type": "markdown",
   "id": "d7645bb4",
   "metadata": {},
   "source": [
    "마지막으로 제출 파일에 예측 값을 대입하면 끝!!"
   ]
  },
  {
   "cell_type": "code",
   "execution_count": 10,
   "id": "5f95ac46",
   "metadata": {
    "scrolled": true
   },
   "outputs": [
    {
     "data": {
      "text/html": [
       "<div>\n",
       "<style scoped>\n",
       "    .dataframe tbody tr th:only-of-type {\n",
       "        vertical-align: middle;\n",
       "    }\n",
       "\n",
       "    .dataframe tbody tr th {\n",
       "        vertical-align: top;\n",
       "    }\n",
       "\n",
       "    .dataframe thead th {\n",
       "        text-align: right;\n",
       "    }\n",
       "</style>\n",
       "<table border=\"1\" class=\"dataframe\">\n",
       "  <thead>\n",
       "    <tr style=\"text-align: right;\">\n",
       "      <th></th>\n",
       "      <th>id</th>\n",
       "      <th>target</th>\n",
       "    </tr>\n",
       "  </thead>\n",
       "  <tbody>\n",
       "    <tr>\n",
       "      <th>0</th>\n",
       "      <td>1</td>\n",
       "      <td>1</td>\n",
       "    </tr>\n",
       "    <tr>\n",
       "      <th>1</th>\n",
       "      <td>2</td>\n",
       "      <td>0</td>\n",
       "    </tr>\n",
       "    <tr>\n",
       "      <th>2</th>\n",
       "      <td>3</td>\n",
       "      <td>1</td>\n",
       "    </tr>\n",
       "    <tr>\n",
       "      <th>3</th>\n",
       "      <td>4</td>\n",
       "      <td>0</td>\n",
       "    </tr>\n",
       "    <tr>\n",
       "      <th>4</th>\n",
       "      <td>5</td>\n",
       "      <td>1</td>\n",
       "    </tr>\n",
       "  </tbody>\n",
       "</table>\n",
       "</div>"
      ],
      "text/plain": [
       "   id  target\n",
       "0   1       1\n",
       "1   2       0\n",
       "2   3       1\n",
       "3   4       0\n",
       "4   5       1"
      ]
     },
     "execution_count": 10,
     "metadata": {},
     "output_type": "execute_result"
    }
   ],
   "source": [
    "sub['target'] = RF.predict(test_x)\n",
    "sub.head()"
   ]
  },
  {
   "cell_type": "markdown",
   "id": "25af7b0a",
   "metadata": {},
   "source": [
    "아차차! 제출 파일을 저장하는 걸 까먹었습니다..  \n",
    "**to_csv**를 이용해 제출 파일을 저장하면 진짜 끝!!이에요"
   ]
  },
  {
   "cell_type": "code",
   "execution_count": 12,
   "id": "35ac462d",
   "metadata": {},
   "outputs": [],
   "source": [
    "sub.to_csv('./Aircrew_submit.sub', index=False)"
   ]
  },
  {
   "cell_type": "markdown",
   "id": "d4a1d7d2",
   "metadata": {},
   "source": [
    "---\n",
    "stage 4, 무사히 완료 =33\n",
    "\n",
    "다음 stage에서 만나요!"
   ]
  }
 ],
 "metadata": {
  "kernelspec": {
   "display_name": "Python 3 (ipykernel)",
   "language": "python",
   "name": "python3"
  },
  "language_info": {
   "codemirror_mode": {
    "name": "ipython",
    "version": 3
   },
   "file_extension": ".py",
   "mimetype": "text/x-python",
   "name": "python",
   "nbconvert_exporter": "python",
   "pygments_lexer": "ipython3",
   "version": "3.9.13"
  }
 },
 "nbformat": 4,
 "nbformat_minor": 5
}
