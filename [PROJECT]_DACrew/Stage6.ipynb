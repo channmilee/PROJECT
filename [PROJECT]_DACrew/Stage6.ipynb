{
 "cells": [
  {
   "cell_type": "markdown",
   "id": "123726e4",
   "metadata": {},
   "source": [
    "# [에어크루] 항공사 고객 만족도 예측 경진대회 \n",
    "# Stage 6. 모델 학습 강화를 통한 정확도 향상"
   ]
  },
  {
   "cell_type": "markdown",
   "id": "7299e7e8",
   "metadata": {},
   "source": [
    "항공사 고객 만족도 예측 경진대회에 참여하신 데이커 여러분, 환영합니다. 🙌  \n",
    "이번 스테이지에서는 모델링 고도화에 대해 알아보겠습니다\n",
    "\n",
    "---"
   ]
  },
  {
   "cell_type": "markdown",
   "id": "4078715c",
   "metadata": {},
   "source": [
    "## 6. 모델 학습 강화\n",
    "\n",
    "모델 앙상블을 통한 모델링 고도화를 진행해보겠습니다.\n",
    "\n",
    "🔎 **모델 앙상블이란 ?**\n",
    "\n",
    "데이터를 통해 값을 예측 한다고 할 때, 보통은 하나의 모델을 사용하지만, 모델 앙상블을 통해 **여러 개의 모델을 학습** 시켜 \n",
    "\n",
    "그 모델의 예측 결과를 통합하여 정확도를 향상시킬 수 있습니다."
   ]
  },
  {
   "cell_type": "markdown",
   "id": "4b37bb37",
   "metadata": {},
   "source": [
    "![000model_image](https://img1.daumcdn.net/thumb/R1280x0/?scode=mtistory2&fname=https%3A%2F%2Fblog.kakaocdn.net%2Fdn%2Fen4sm9%2FbtqGqQXDrv8%2FKyYd0L8cOAROVV3ckrapZ0%2Fimg.png)\n",
    "\n",
    "출처 : https://dokhakdubini.tistory.com/237"
   ]
  },
  {
   "cell_type": "markdown",
   "id": "e0dccca6",
   "metadata": {},
   "source": [
    "앙상블 학습에도 종류가 다양한데요. 이번에는 ‘voting’을 이용해보려 합니다.\n",
    "\n",
    "🔎 **voting** 이란 다른 알고리즘이 낸 결과물에 대하여 투표를 통해 결정하는 방식입니다. \n",
    "\n",
    "🔎 **voting**을 사용하면 어떤 장점이 있을까요? \n",
    "\n",
    "- 과적합(overfitting) 감소 효과\n",
    "- 개별 모델 성능이 잘 안 나올 때 앙상블 학습을 이용하면 성능 향상"
   ]
  },
  {
   "cell_type": "markdown",
   "id": "86460fbd",
   "metadata": {},
   "source": [
    "모델을 돌리기 전에 shape 메서드를 통해 각각 형태를 확인해볼게요!"
   ]
  },
  {
   "cell_type": "code",
   "execution_count": 11,
   "id": "d00cd327",
   "metadata": {},
   "outputs": [
    {
     "data": {
      "text/plain": [
       "((3000, 22), (3000,), (2000, 22))"
      ]
     },
     "execution_count": 11,
     "metadata": {},
     "output_type": "execute_result"
    }
   ],
   "source": [
    "train_x.shape, train_y.shape, test_x.shape"
   ]
  },
  {
   "cell_type": "markdown",
   "id": "94566f57",
   "metadata": {},
   "source": [
    "Stage4. Baseline modeling에서 RandomForest 모델은 한 번 사용해봤으니, 새로운 ExtraTree 모델을 추가해서 voting을 해 볼게요! 먼저, import부터✈️\n",
    "\n",
    "🔎 ExtraTree 모델이 샘플 형성 시, 무작위성이 RandomForest 보다 강하므로 함께 voting 해 줍니다!\n",
    "\n",
    "해당 모델에 적용되는 파라미터는 임의 설정값입니다. max_features만 앞서 확인한 shape과 동일하게 맞춰줬어요."
   ]
  },
  {
   "cell_type": "code",
   "execution_count": 12,
   "id": "d7e4c397",
   "metadata": {},
   "outputs": [
    {
     "data": {
      "text/plain": [
       "VotingClassifier(estimators=[('et',\n",
       "                              ExtraTreesClassifier(max_features=22,\n",
       "                                                   min_samples_leaf=5,\n",
       "                                                   min_samples_split=7,\n",
       "                                                   n_estimators=500)),\n",
       "                             ('rf',\n",
       "                              RandomForestClassifier(max_features=22,\n",
       "                                                     min_samples_leaf=5,\n",
       "                                                     min_samples_split=7,\n",
       "                                                     n_estimators=500))])"
      ]
     },
     "execution_count": 12,
     "metadata": {},
     "output_type": "execute_result"
    }
   ],
   "source": [
    "#ExtraTreesClassifier, RandomForestClassifier 선택\n",
    "\n",
    "from sklearn.ensemble import ExtraTreesClassifier, RandomForestClassifier, VotingClassifier\n",
    "\n",
    "et_cls = ExtraTreesClassifier(n_estimators=500, min_samples_leaf=5, min_samples_split=7, max_features=22)\n",
    "rf_cls = RandomForestClassifier(n_estimators=500, min_samples_leaf=5, min_samples_split=7, max_features=22)\n",
    "\n",
    "# 모델 voting\n",
    "voting = VotingClassifier(\n",
    "    estimators=[\n",
    "        ('et', et_cls),\n",
    "        ('rf', rf_cls),\n",
    "    ]\n",
    ")\n",
    "voting.fit(train_x, train_y)"
   ]
  },
  {
   "cell_type": "markdown",
   "id": "a7edae05",
   "metadata": {},
   "source": [
    "예측 결과를 제출 파일에 대입하면 끝입니다."
   ]
  },
  {
   "cell_type": "code",
   "execution_count": 14,
   "id": "9599676a",
   "metadata": {
    "scrolled": true
   },
   "outputs": [
    {
     "data": {
      "text/html": [
       "<div>\n",
       "<style scoped>\n",
       "    .dataframe tbody tr th:only-of-type {\n",
       "        vertical-align: middle;\n",
       "    }\n",
       "\n",
       "    .dataframe tbody tr th {\n",
       "        vertical-align: top;\n",
       "    }\n",
       "\n",
       "    .dataframe thead th {\n",
       "        text-align: right;\n",
       "    }\n",
       "</style>\n",
       "<table border=\"1\" class=\"dataframe\">\n",
       "  <thead>\n",
       "    <tr style=\"text-align: right;\">\n",
       "      <th></th>\n",
       "      <th>id</th>\n",
       "      <th>target</th>\n",
       "    </tr>\n",
       "  </thead>\n",
       "  <tbody>\n",
       "    <tr>\n",
       "      <th>0</th>\n",
       "      <td>1</td>\n",
       "      <td>1</td>\n",
       "    </tr>\n",
       "    <tr>\n",
       "      <th>1</th>\n",
       "      <td>2</td>\n",
       "      <td>0</td>\n",
       "    </tr>\n",
       "    <tr>\n",
       "      <th>2</th>\n",
       "      <td>3</td>\n",
       "      <td>1</td>\n",
       "    </tr>\n",
       "    <tr>\n",
       "      <th>3</th>\n",
       "      <td>4</td>\n",
       "      <td>0</td>\n",
       "    </tr>\n",
       "    <tr>\n",
       "      <th>4</th>\n",
       "      <td>5</td>\n",
       "      <td>1</td>\n",
       "    </tr>\n",
       "  </tbody>\n",
       "</table>\n",
       "</div>"
      ],
      "text/plain": [
       "   id  target\n",
       "0   1       1\n",
       "1   2       0\n",
       "2   3       1\n",
       "3   4       0\n",
       "4   5       1"
      ]
     },
     "execution_count": 14,
     "metadata": {},
     "output_type": "execute_result"
    }
   ],
   "source": [
    "pred = voting.predict(test_x)\n",
    "sub['target'] = pred\n",
    "\n",
    "sub.head()"
   ]
  },
  {
   "cell_type": "code",
   "execution_count": 15,
   "id": "3a15ad83",
   "metadata": {},
   "outputs": [],
   "source": [
    "sub.to_csv('answer.csv', index = False)"
   ]
  },
  {
   "cell_type": "markdown",
   "id": "e1d6ced6",
   "metadata": {},
   "source": [
    "---\n",
    "### 전체 흐름 다시 훑어보기"
   ]
  },
  {
   "cell_type": "markdown",
   "id": "88d1ee42",
   "metadata": {},
   "source": [
    "##### 1. 패키지 불러오기"
   ]
  },
  {
   "cell_type": "code",
   "execution_count": 1,
   "id": "ffd9cb9c",
   "metadata": {},
   "outputs": [],
   "source": [
    "import pandas as pd\n",
    "import matplotlib as mpl\n",
    "import matplotlib.pyplot as plt\n",
    "import csv\n",
    "import numpy as np\n",
    "import seaborn as sns"
   ]
  },
  {
   "cell_type": "markdown",
   "id": "e629fcd6",
   "metadata": {},
   "source": [
    "##### 2. 데이터 불러오기"
   ]
  },
  {
   "cell_type": "code",
   "execution_count": 9,
   "id": "d638bcba",
   "metadata": {},
   "outputs": [],
   "source": [
    "#변수명 = pd.read_csv(파일명)\n",
    "train = pd.read_csv('./train.csv')\n",
    "test = pd.read_csv('./test.csv')\n",
    "sub = pd.read_csv('./sample_submission.csv')"
   ]
  },
  {
   "cell_type": "markdown",
   "id": "33e56f01",
   "metadata": {},
   "source": [
    "##### 3. 열 선택하기"
   ]
  },
  {
   "cell_type": "code",
   "execution_count": 3,
   "id": "a71f0b90",
   "metadata": {},
   "outputs": [],
   "source": [
    "train_x = train.drop(['id','target'],axis=1) \n",
    "train_y = train.target \n",
    "test_x = test.drop(['id'],axis = 1)"
   ]
  },
  {
   "cell_type": "markdown",
   "id": "adc1834f",
   "metadata": {},
   "source": [
    "##### 4. 전처리_Label Encoding"
   ]
  },
  {
   "cell_type": "code",
   "execution_count": 4,
   "id": "8e5f6553",
   "metadata": {},
   "outputs": [
    {
     "name": "stdout",
     "output_type": "stream",
     "text": [
      "Done.\n"
     ]
    }
   ],
   "source": [
    "from sklearn.preprocessing import LabelEncoder\n",
    "\n",
    "# qualitative to quantitative\n",
    "qual_col = ['Gender', 'Customer Type', 'Type of Travel', 'Class']\n",
    "\n",
    "for i in qual_col:\n",
    "    le = LabelEncoder()\n",
    "    le = le.fit(train_x[i]) #train_x와 test_x의 Label이 다르게 Encoding될 우려가 있어 train_x로 fit을 고정\n",
    "    train_x[i] = le.transform(train_x[i])\n",
    "\n",
    "    for label in np.unique(test_x[i]): \n",
    "        if label not in le.classes_: \n",
    "            le.classes_ = np.append(le.classes_, label)\n",
    "    test_x[i] = le.transform(test_x[i]) \n",
    "print('Done.')"
   ]
  },
  {
   "cell_type": "markdown",
   "id": "60836b75",
   "metadata": {},
   "source": [
    "##### 4. 전처리_데이터 타입 변화"
   ]
  },
  {
   "cell_type": "code",
   "execution_count": 5,
   "id": "fa0d6149",
   "metadata": {},
   "outputs": [],
   "source": [
    "train_x = train_x.astype({'Arrival Delay in Minutes':'int'})"
   ]
  },
  {
   "cell_type": "markdown",
   "id": "939466ea",
   "metadata": {},
   "source": [
    "##### 4. 전처리_정규화"
   ]
  },
  {
   "cell_type": "code",
   "execution_count": 6,
   "id": "dcf6e7b9",
   "metadata": {},
   "outputs": [],
   "source": [
    "from sklearn.preprocessing import StandardScaler\n",
    "\n",
    "num_features = ['Flight Distance','Departure Delay in Minutes','Arrival Delay in Minutes']\n",
    "\n",
    "scaler = StandardScaler()\n",
    "\n",
    "#Data Leakage가 일어나지 않도록 train_x를 통해 스케일러를 학습 시키고 (fit)\n",
    "scaler.fit(train_x[num_features])\n",
    "\n",
    "#만들어진 스케일러로 train_x를 정규화해줍니다.(transform)\n",
    "train_x[num_features] = scaler.transform(train_x[num_features])"
   ]
  },
  {
   "cell_type": "markdown",
   "id": "64e6b635",
   "metadata": {},
   "source": [
    "##### 5. 모델링"
   ]
  },
  {
   "cell_type": "code",
   "execution_count": 7,
   "id": "8de05085",
   "metadata": {},
   "outputs": [
    {
     "data": {
      "text/plain": [
       "VotingClassifier(estimators=[('et',\n",
       "                              ExtraTreesClassifier(max_features=22,\n",
       "                                                   min_samples_leaf=5,\n",
       "                                                   min_samples_split=7,\n",
       "                                                   n_estimators=500)),\n",
       "                             ('rf',\n",
       "                              RandomForestClassifier(max_features=22,\n",
       "                                                     min_samples_leaf=5,\n",
       "                                                     min_samples_split=7,\n",
       "                                                     n_estimators=500))])"
      ]
     },
     "execution_count": 7,
     "metadata": {},
     "output_type": "execute_result"
    }
   ],
   "source": [
    "#ExtraTreesClassifier, RandomForestClassifier 선택\n",
    "\n",
    "from sklearn.ensemble import ExtraTreesClassifier, RandomForestClassifier, VotingClassifier\n",
    "\n",
    "et_cls = ExtraTreesClassifier(n_estimators=500, min_samples_leaf=5, min_samples_split=7, max_features=22)\n",
    "rf_cls = RandomForestClassifier(n_estimators=500, min_samples_leaf=5, min_samples_split=7, max_features=22)\n",
    "\n",
    "# 모델 voting\n",
    "voting = VotingClassifier(\n",
    "    estimators=[\n",
    "        ('et', et_cls),\n",
    "        ('rf', rf_cls),\n",
    "    ]\n",
    ")\n",
    "voting.fit(train_x, train_y)"
   ]
  },
  {
   "cell_type": "markdown",
   "id": "b0723e84",
   "metadata": {},
   "source": [
    "##### 6. 제출 파일 생성"
   ]
  },
  {
   "cell_type": "code",
   "execution_count": 10,
   "id": "6cacc6f9",
   "metadata": {},
   "outputs": [],
   "source": [
    "pred = voting.predict(test_x)\n",
    "sub['target'] = pred\n",
    "\n",
    "sub.to_csv('answer.csv', index=False)"
   ]
  },
  {
   "cell_type": "markdown",
   "id": "2dc8f991",
   "metadata": {},
   "source": [
    "---\n",
    "\n",
    "stage 6, 무사히 완료 =33\n",
    "\n",
    "다음 stage에서 만나고 싶지만..\n",
    "\n",
    "이제 stage 끝!✈️\n",
    "\n",
    "PBL stage 완주를 축하드립니다 🙌"
   ]
  }
 ],
 "metadata": {
  "kernelspec": {
   "display_name": "Python 3 (ipykernel)",
   "language": "python",
   "name": "python3"
  },
  "language_info": {
   "codemirror_mode": {
    "name": "ipython",
    "version": 3
   },
   "file_extension": ".py",
   "mimetype": "text/x-python",
   "name": "python",
   "nbconvert_exporter": "python",
   "pygments_lexer": "ipython3",
   "version": "3.9.13"
  }
 },
 "nbformat": 4,
 "nbformat_minor": 5
}
