{
  "nbformat": 4,
  "nbformat_minor": 0,
  "metadata": {
    "colab": {
      "provenance": []
    },
    "kernelspec": {
      "name": "python3",
      "display_name": "Python 3"
    },
    "language_info": {
      "name": "python"
    }
  },
  "cells": [
    {
      "cell_type": "code",
      "execution_count": null,
      "metadata": {
        "colab": {
          "base_uri": "https://localhost:8080/"
        },
        "id": "jnfxMkvfvOyX",
        "outputId": "1ce05a92-3c53-45eb-f851-b4b595b22589"
      },
      "outputs": [
        {
          "output_type": "stream",
          "name": "stdout",
          "text": [
            "Mounted at /content/drive\n"
          ]
        }
      ],
      "source": [
        "from google.colab import drive\n",
        "drive.mount('/content/drive')"
      ]
    },
    {
      "cell_type": "code",
      "source": [
        "%cd /content/sample_data"
      ],
      "metadata": {
        "colab": {
          "base_uri": "https://localhost:8080/"
        },
        "id": "qzDdIDkHvWz3",
        "outputId": "1faa8683-859c-4b57-ec76-04e79971dd9e"
      },
      "execution_count": null,
      "outputs": [
        {
          "output_type": "stream",
          "name": "stdout",
          "text": [
            "/content/sample_data\n"
          ]
        }
      ]
    },
    {
      "cell_type": "code",
      "source": [
        "!unzip -qq \"/content/drive/MyDrive/Colab Notebooks/datasets/new.zip\""
      ],
      "metadata": {
        "id": "VqjSjI3RvkYC"
      },
      "execution_count": null,
      "outputs": []
    },
    {
      "cell_type": "code",
      "source": [
        "import os\n",
        "import shutil\n",
        "\n",
        "file_path = \"/content/sample_data/split_data\"\n",
        "if os.path.exists(file_path):\n",
        "  shutil.rmtree(file_path)"
      ],
      "metadata": {
        "id": "eJTbdpGFvrQl"
      },
      "execution_count": null,
      "outputs": []
    },
    {
      "cell_type": "code",
      "source": [
        "import os, shutil, pathlib"
      ],
      "metadata": {
        "id": "wuD5Hrz0LV5I"
      },
      "execution_count": null,
      "outputs": []
    },
    {
      "cell_type": "markdown",
      "source": [
        "### split"
      ],
      "metadata": {
        "id": "bKmWjKUY5c3z"
      }
    },
    {
      "cell_type": "markdown",
      "source": [
        "#### train"
      ],
      "metadata": {
        "id": "Qtk5hvNT5gR8"
      }
    },
    {
      "cell_type": "code",
      "source": [
        "def createFolder(directory):\n",
        "    try:\n",
        "        if not os.path.exists(directory):\n",
        "            os.makedirs(directory)\n",
        "    except OSError:\n",
        "        print ('Error: Creating directory. ' +  directory)\n",
        "\n",
        "createFolder('/content/sample_data/split_data')\n",
        "\n",
        "def createFolder(directory):\n",
        "    try:\n",
        "        if not os.path.exists(directory):\n",
        "            os.makedirs(directory)\n",
        "    except OSError:\n",
        "        print ('Error: Creating directory. ' +  directory)\n",
        "\n",
        "createFolder('/content/sample_data/split_data/train')\n",
        "\n",
        "for i in range(1,6):\n",
        "  # 결과 저장 폴더 생성\n",
        "  out_dir =f\"/content/sample_data/split_data/train/{i}\"\n",
        "  if out_dir not in os.listdir():\n",
        "      os.mkdir(out_dir)"
      ],
      "metadata": {
        "id": "yt21CTjd2-9Y"
      },
      "execution_count": null,
      "outputs": []
    },
    {
      "cell_type": "code",
      "source": [
        "def make_subset(start_index, end_index):\n",
        "  for category in range(1,6):\n",
        "    original_dir = pathlib.Path(f\"/content/sample_data/new/{category}\")\n",
        "    dir = pathlib.Path(f\"/content/sample_data/split_data/train/{category}\")\n",
        "    fnames = [f'{category}_{i}.jpg' for i in range(start_index, end_index)]\n",
        "    for fname in fnames:\n",
        "      shutil.copyfile(src = original_dir /fname,\n",
        "                      dst = dir / fname)"
      ],
      "metadata": {
        "id": "kxHkjnvF4M5n"
      },
      "execution_count": null,
      "outputs": []
    },
    {
      "cell_type": "code",
      "source": [
        "make_subset(start_index = 1, end_index = 31)\n",
        "make_subset(start_index = 51, end_index = 81)"
      ],
      "metadata": {
        "id": "RSj4o7fb2Ruh"
      },
      "execution_count": null,
      "outputs": []
    },
    {
      "cell_type": "markdown",
      "source": [
        "#### valid"
      ],
      "metadata": {
        "id": "8BWP55pI5xAP"
      }
    },
    {
      "cell_type": "code",
      "source": [
        "def createFolder(directory):\n",
        "    try:\n",
        "        if not os.path.exists(directory):\n",
        "            os.makedirs(directory)\n",
        "    except OSError:\n",
        "        print ('Error: Creating directory. ' +  directory)\n",
        "\n",
        "createFolder('/content/sample_data/split_data')\n",
        "\n",
        "def createFolder(directory):\n",
        "    try:\n",
        "        if not os.path.exists(directory):\n",
        "            os.makedirs(directory)\n",
        "    except OSError:\n",
        "        print ('Error: Creating directory. ' +  directory)\n",
        "\n",
        "createFolder('/content/sample_data/split_data/valid')\n",
        "\n",
        "for i in range(1,6):\n",
        "  # 결과 저장 폴더 생성\n",
        "  out_dir =f\"/content/sample_data/split_data/valid/{i}\"\n",
        "  if out_dir not in os.listdir():\n",
        "      os.mkdir(out_dir)"
      ],
      "metadata": {
        "id": "lbnzAznu5z1a"
      },
      "execution_count": null,
      "outputs": []
    },
    {
      "cell_type": "code",
      "source": [
        "def make_subset(start_index, end_index):\n",
        "  for category in range(1,6):\n",
        "    original_dir = pathlib.Path(f\"/content/sample_data/new/{category}\")\n",
        "    dir = pathlib.Path(f\"/content/sample_data/split_data/valid/{category}\")\n",
        "    fnames = [f'{category}_{i}.jpg' for i in range(start_index, end_index)]\n",
        "    for fname in fnames:\n",
        "      shutil.copyfile(src = original_dir /fname,\n",
        "                      dst = dir / fname)"
      ],
      "metadata": {
        "id": "sViDtpDW6ZmH"
      },
      "execution_count": null,
      "outputs": []
    },
    {
      "cell_type": "code",
      "source": [
        "make_subset(start_index = 31, end_index = 41)\n",
        "make_subset(start_index = 81, end_index = 91)"
      ],
      "metadata": {
        "id": "DsJvFp-1598M"
      },
      "execution_count": null,
      "outputs": []
    },
    {
      "cell_type": "markdown",
      "source": [
        "#### test"
      ],
      "metadata": {
        "id": "6XD75fbs6ClY"
      }
    },
    {
      "cell_type": "code",
      "source": [
        "def createFolder(directory):\n",
        "    try:\n",
        "        if not os.path.exists(directory):\n",
        "            os.makedirs(directory)\n",
        "    except OSError:\n",
        "        print ('Error: Creating directory. ' +  directory)\n",
        "\n",
        "createFolder('/content/sample_data/split_data')\n",
        "\n",
        "def createFolder(directory):\n",
        "    try:\n",
        "        if not os.path.exists(directory):\n",
        "            os.makedirs(directory)\n",
        "    except OSError:\n",
        "        print ('Error: Creating directory. ' +  directory)\n",
        "\n",
        "createFolder('/content/sample_data/split_data/test')\n",
        "\n",
        "for i in range(1,6):\n",
        "  # 결과 저장 폴더 생성\n",
        "  out_dir =f\"/content/sample_data/split_data/test/{i}\"\n",
        "  if out_dir not in os.listdir():\n",
        "      os.mkdir(out_dir)"
      ],
      "metadata": {
        "id": "rpZS3x7E6EYk"
      },
      "execution_count": null,
      "outputs": []
    },
    {
      "cell_type": "code",
      "source": [
        "def make_subset(start_index, end_index):\n",
        "  for category in range(1,6):\n",
        "    original_dir = pathlib.Path(f\"/content/sample_data/new/{category}\")\n",
        "    dir = pathlib.Path(f\"/content/sample_data/split_data/test/{category}\")\n",
        "    fnames = [f'{category}_{i}.jpg' for i in range(start_index, end_index)]\n",
        "    for fname in fnames:\n",
        "      shutil.copyfile(src = original_dir /fname,\n",
        "                      dst = dir / fname)"
      ],
      "metadata": {
        "id": "ka2vuhD96n9k"
      },
      "execution_count": null,
      "outputs": []
    },
    {
      "cell_type": "code",
      "source": [
        "make_subset(start_index = 41, end_index = 51)\n",
        "make_subset(start_index = 91, end_index = 101)"
      ],
      "metadata": {
        "id": "R-mXag_T6rk9"
      },
      "execution_count": null,
      "outputs": []
    },
    {
      "cell_type": "markdown",
      "source": [
        "### 증강"
      ],
      "metadata": {
        "id": "UCfn6h3fMpTD"
      }
    },
    {
      "cell_type": "markdown",
      "source": [
        "### 모델링"
      ],
      "metadata": {
        "id": "lKUneqbD6xCI"
      }
    },
    {
      "cell_type": "code",
      "source": [
        "train_dir = '/content/sample_data/split_data/train'\n",
        "valid_dir = '/content/sample_data/split_data/valid'\n",
        "test_dir  = '/content/sample_data/split_data/test'"
      ],
      "metadata": {
        "id": "EogBlTFpwimP"
      },
      "execution_count": null,
      "outputs": []
    },
    {
      "cell_type": "code",
      "source": [
        "from tensorflow.keras.preprocessing.image import ImageDataGenerator\n",
        "\n",
        "train_datagen = ImageDataGenerator(rescale = 1./255)\n",
        "valid_datagen = ImageDataGenerator(rescale = 1./255)\n",
        "\n",
        "train_generator = train_datagen.flow_from_directory(\n",
        "                  train_dir,\n",
        "                  target_size = (250, 250),\n",
        "                  batch_size = 20,\n",
        "                  class_mode = 'categorical')\n",
        "\n",
        "valid_generator = valid_datagen.flow_from_directory(\n",
        "                  valid_dir,\n",
        "                  target_size = (250, 250),\n",
        "                  batch_size = 10,\n",
        "                  class_mode = 'categorical')"
      ],
      "metadata": {
        "colab": {
          "base_uri": "https://localhost:8080/"
        },
        "id": "3Ffw_Hbew3hA",
        "outputId": "462a11f4-6c29-4405-e619-5164d1075631"
      },
      "execution_count": null,
      "outputs": [
        {
          "output_type": "stream",
          "name": "stdout",
          "text": [
            "Found 300 images belonging to 5 classes.\n",
            "Found 100 images belonging to 5 classes.\n"
          ]
        }
      ]
    },
    {
      "cell_type": "code",
      "source": [
        "for data_batch, labels_batch in train_generator:\n",
        "    print('배치 데이터 크기:', data_batch.shape)\n",
        "    print('배치 레이블 크기:', labels_batch.shape)\n",
        "    break"
      ],
      "metadata": {
        "colab": {
          "base_uri": "https://localhost:8080/"
        },
        "id": "sE4qbOhjxUw-",
        "outputId": "c9cab5f8-5a2e-4026-c482-f1621dc58ac2"
      },
      "execution_count": null,
      "outputs": [
        {
          "output_type": "stream",
          "name": "stdout",
          "text": [
            "배치 데이터 크기: (20, 250, 250, 3)\n",
            "배치 레이블 크기: (20, 5)\n"
          ]
        }
      ]
    },
    {
      "cell_type": "code",
      "source": [
        "from tensorflow.keras import layers\n",
        "from tensorflow.keras import models\n",
        "\n",
        "model = models.Sequential()\n",
        "model.add(layers.Conv2D(32, (3, 3), activation = 'relu', input_shape = (250, 250, 3)))\n",
        "model.add(layers.MaxPooling2D((2, 2)))\n",
        "model.add(layers.Conv2D(64, (3, 3), activation = 'relu'))\n",
        "model.add(layers.MaxPooling2D((2, 2)))\n",
        "model.add(layers.Conv2D(128, (3, 3), activation = 'relu'))\n",
        "model.add(layers.MaxPooling2D((2, 2)))\n",
        "model.add(layers.Conv2D(256, (3, 3), activation = 'relu'))\n",
        "model.add(layers.MaxPooling2D((2, 2)))\n",
        "\n",
        "model.add(layers.Flatten())\n",
        "model.add(layers.Dense(512, activation = 'relu'))\n",
        "model.add(layers.Dense(5, activation = 'softmax'))"
      ],
      "metadata": {
        "id": "DSieERl8xVGy"
      },
      "execution_count": null,
      "outputs": []
    },
    {
      "cell_type": "code",
      "source": [
        "model.summary()"
      ],
      "metadata": {
        "colab": {
          "base_uri": "https://localhost:8080/"
        },
        "id": "Srf7XpSfxir_",
        "outputId": "ec7f198c-a888-4e23-c855-346de95bd6ff"
      },
      "execution_count": null,
      "outputs": [
        {
          "output_type": "stream",
          "name": "stdout",
          "text": [
            "Model: \"sequential_3\"\n",
            "_________________________________________________________________\n",
            " Layer (type)                Output Shape              Param #   \n",
            "=================================================================\n",
            " conv2d_12 (Conv2D)          (None, 248, 248, 32)      896       \n",
            "                                                                 \n",
            " max_pooling2d_12 (MaxPoolin  (None, 124, 124, 32)     0         \n",
            " g2D)                                                            \n",
            "                                                                 \n",
            " conv2d_13 (Conv2D)          (None, 122, 122, 64)      18496     \n",
            "                                                                 \n",
            " max_pooling2d_13 (MaxPoolin  (None, 61, 61, 64)       0         \n",
            " g2D)                                                            \n",
            "                                                                 \n",
            " conv2d_14 (Conv2D)          (None, 59, 59, 128)       73856     \n",
            "                                                                 \n",
            " max_pooling2d_14 (MaxPoolin  (None, 29, 29, 128)      0         \n",
            " g2D)                                                            \n",
            "                                                                 \n",
            " conv2d_15 (Conv2D)          (None, 27, 27, 256)       295168    \n",
            "                                                                 \n",
            " max_pooling2d_15 (MaxPoolin  (None, 13, 13, 256)      0         \n",
            " g2D)                                                            \n",
            "                                                                 \n",
            " flatten_3 (Flatten)         (None, 43264)             0         \n",
            "                                                                 \n",
            " dense_6 (Dense)             (None, 512)               22151680  \n",
            "                                                                 \n",
            " dense_7 (Dense)             (None, 5)                 2565      \n",
            "                                                                 \n",
            "=================================================================\n",
            "Total params: 22,542,661\n",
            "Trainable params: 22,542,661\n",
            "Non-trainable params: 0\n",
            "_________________________________________________________________\n"
          ]
        }
      ]
    },
    {
      "cell_type": "code",
      "source": [
        "model.compile(loss = 'categorical_crossentropy',\n",
        "              optimizer = 'adam',\n",
        "              metrics = ['accuracy'])"
      ],
      "metadata": {
        "id": "MnZ7wAWuxi7f"
      },
      "execution_count": null,
      "outputs": []
    },
    {
      "cell_type": "code",
      "source": [
        "%%time\n",
        "\n",
        "Hist_dandc = model.fit(train_generator,\n",
        "                       steps_per_epoch = 15,\n",
        "                       epochs = 50,\n",
        "                       validation_data = valid_generator,\n",
        "                       validation_steps = 10)"
      ],
      "metadata": {
        "colab": {
          "base_uri": "https://localhost:8080/"
        },
        "id": "OTGuaTFDxnmN",
        "outputId": "e1f82562-c396-4d31-91a0-b3a7726744d6"
      },
      "execution_count": null,
      "outputs": [
        {
          "output_type": "stream",
          "name": "stdout",
          "text": [
            "Epoch 1/50\n",
            "15/15 [==============================] - 91s 6s/step - loss: 1.2749 - accuracy: 0.5567 - val_loss: 0.0922 - val_accuracy: 1.0000\n",
            "Epoch 2/50\n",
            "15/15 [==============================] - 86s 6s/step - loss: 0.0221 - accuracy: 1.0000 - val_loss: 7.7552e-04 - val_accuracy: 1.0000\n",
            "Epoch 3/50\n",
            "15/15 [==============================] - 87s 6s/step - loss: 2.0408e-04 - accuracy: 1.0000 - val_loss: 2.8438e-04 - val_accuracy: 1.0000\n",
            "Epoch 4/50\n",
            "15/15 [==============================] - 85s 6s/step - loss: 2.0964e-05 - accuracy: 1.0000 - val_loss: 9.7200e-04 - val_accuracy: 1.0000\n",
            "Epoch 5/50\n",
            "15/15 [==============================] - 88s 6s/step - loss: 1.5430e-06 - accuracy: 1.0000 - val_loss: 0.0010 - val_accuracy: 1.0000\n",
            "Epoch 6/50\n",
            "15/15 [==============================] - 90s 6s/step - loss: 6.9141e-07 - accuracy: 1.0000 - val_loss: 7.3238e-04 - val_accuracy: 1.0000\n",
            "Epoch 7/50\n",
            "15/15 [==============================] - 85s 6s/step - loss: 4.8002e-07 - accuracy: 1.0000 - val_loss: 5.0533e-04 - val_accuracy: 1.0000\n",
            "Epoch 8/50\n",
            "15/15 [==============================] - 86s 6s/step - loss: 3.6836e-07 - accuracy: 1.0000 - val_loss: 3.8713e-04 - val_accuracy: 1.0000\n",
            "Epoch 9/50\n",
            "15/15 [==============================] - 84s 6s/step - loss: 3.1074e-07 - accuracy: 1.0000 - val_loss: 3.0040e-04 - val_accuracy: 1.0000\n",
            "Epoch 10/50\n",
            "15/15 [==============================] - 86s 6s/step - loss: 2.6544e-07 - accuracy: 1.0000 - val_loss: 2.3863e-04 - val_accuracy: 1.0000\n",
            "Epoch 11/50\n",
            "15/15 [==============================] - 84s 6s/step - loss: 2.3047e-07 - accuracy: 1.0000 - val_loss: 1.9960e-04 - val_accuracy: 1.0000\n",
            "Epoch 12/50\n",
            "15/15 [==============================] - 85s 6s/step - loss: 2.0146e-07 - accuracy: 1.0000 - val_loss: 1.6722e-04 - val_accuracy: 1.0000\n",
            "Epoch 13/50\n",
            "15/15 [==============================] - 86s 6s/step - loss: 1.7921e-07 - accuracy: 1.0000 - val_loss: 1.4268e-04 - val_accuracy: 1.0000\n",
            "Epoch 14/50\n",
            "15/15 [==============================] - 84s 6s/step - loss: 1.6133e-07 - accuracy: 1.0000 - val_loss: 1.2187e-04 - val_accuracy: 1.0000\n",
            "Epoch 15/50\n",
            "15/15 [==============================] - 84s 6s/step - loss: 1.4504e-07 - accuracy: 1.0000 - val_loss: 1.0569e-04 - val_accuracy: 1.0000\n",
            "Epoch 16/50\n",
            "15/15 [==============================] - 85s 6s/step - loss: 1.2954e-07 - accuracy: 1.0000 - val_loss: 9.2685e-05 - val_accuracy: 1.0000\n",
            "Epoch 17/50\n",
            "15/15 [==============================] - 86s 6s/step - loss: 1.1722e-07 - accuracy: 1.0000 - val_loss: 8.3611e-05 - val_accuracy: 1.0000\n",
            "Epoch 18/50\n",
            "15/15 [==============================] - 85s 6s/step - loss: 1.0967e-07 - accuracy: 1.0000 - val_loss: 7.4130e-05 - val_accuracy: 1.0000\n",
            "Epoch 19/50\n",
            "15/15 [==============================] - 85s 6s/step - loss: 1.0093e-07 - accuracy: 1.0000 - val_loss: 6.7003e-05 - val_accuracy: 1.0000\n",
            "Epoch 20/50\n",
            "15/15 [==============================] - 86s 6s/step - loss: 9.1394e-08 - accuracy: 1.0000 - val_loss: 5.9891e-05 - val_accuracy: 1.0000\n",
            "Epoch 21/50\n",
            "15/15 [==============================] - 88s 6s/step - loss: 8.3844e-08 - accuracy: 1.0000 - val_loss: 5.4405e-05 - val_accuracy: 1.0000\n",
            "Epoch 22/50\n",
            "15/15 [==============================] - 87s 6s/step - loss: 7.5897e-08 - accuracy: 1.0000 - val_loss: 4.9632e-05 - val_accuracy: 1.0000\n",
            "Epoch 23/50\n",
            "15/15 [==============================] - 85s 6s/step - loss: 7.0333e-08 - accuracy: 1.0000 - val_loss: 4.5426e-05 - val_accuracy: 1.0000\n",
            "Epoch 24/50\n",
            "15/15 [==============================] - 87s 6s/step - loss: 6.2784e-08 - accuracy: 1.0000 - val_loss: 4.1951e-05 - val_accuracy: 1.0000\n",
            "Epoch 25/50\n",
            "15/15 [==============================] - 85s 6s/step - loss: 5.8810e-08 - accuracy: 1.0000 - val_loss: 3.8610e-05 - val_accuracy: 1.0000\n",
            "Epoch 26/50\n",
            "15/15 [==============================] - 87s 6s/step - loss: 5.4836e-08 - accuracy: 1.0000 - val_loss: 3.5803e-05 - val_accuracy: 1.0000\n",
            "Epoch 27/50\n",
            "15/15 [==============================] - 85s 6s/step - loss: 4.7286e-08 - accuracy: 1.0000 - val_loss: 3.3452e-05 - val_accuracy: 1.0000\n",
            "Epoch 28/50\n",
            "15/15 [==============================] - 86s 6s/step - loss: 4.0929e-08 - accuracy: 1.0000 - val_loss: 3.1882e-05 - val_accuracy: 1.0000\n",
            "Epoch 29/50\n",
            "15/15 [==============================] - 85s 6s/step - loss: 3.7750e-08 - accuracy: 1.0000 - val_loss: 2.9745e-05 - val_accuracy: 1.0000\n",
            "Epoch 30/50\n",
            "15/15 [==============================] - 86s 6s/step - loss: 3.2187e-08 - accuracy: 1.0000 - val_loss: 2.8268e-05 - val_accuracy: 1.0000\n",
            "Epoch 31/50\n",
            "15/15 [==============================] - 85s 6s/step - loss: 2.9405e-08 - accuracy: 1.0000 - val_loss: 2.6937e-05 - val_accuracy: 1.0000\n",
            "Epoch 32/50\n",
            "15/15 [==============================] - 85s 6s/step - loss: 2.5829e-08 - accuracy: 1.0000 - val_loss: 2.5717e-05 - val_accuracy: 1.0000\n",
            "Epoch 33/50\n",
            "15/15 [==============================] - 85s 6s/step - loss: 2.5431e-08 - accuracy: 1.0000 - val_loss: 2.4411e-05 - val_accuracy: 1.0000\n",
            "Epoch 34/50\n",
            "15/15 [==============================] - 86s 6s/step - loss: 2.4239e-08 - accuracy: 1.0000 - val_loss: 2.3328e-05 - val_accuracy: 1.0000\n",
            "Epoch 35/50\n",
            "15/15 [==============================] - 86s 6s/step - loss: 2.3444e-08 - accuracy: 1.0000 - val_loss: 2.2508e-05 - val_accuracy: 1.0000\n",
            "Epoch 36/50\n",
            "15/15 [==============================] - 86s 6s/step - loss: 2.1060e-08 - accuracy: 1.0000 - val_loss: 2.1683e-05 - val_accuracy: 1.0000\n",
            "Epoch 37/50\n",
            "15/15 [==============================] - 87s 6s/step - loss: 1.9471e-08 - accuracy: 1.0000 - val_loss: 2.0885e-05 - val_accuracy: 1.0000\n",
            "Epoch 38/50\n",
            "15/15 [==============================] - 85s 6s/step - loss: 1.6292e-08 - accuracy: 1.0000 - val_loss: 1.9900e-05 - val_accuracy: 1.0000\n",
            "Epoch 39/50\n",
            "15/15 [==============================] - 86s 6s/step - loss: 1.5497e-08 - accuracy: 1.0000 - val_loss: 1.9250e-05 - val_accuracy: 1.0000\n",
            "Epoch 40/50\n",
            "15/15 [==============================] - 88s 6s/step - loss: 1.3908e-08 - accuracy: 1.0000 - val_loss: 1.8376e-05 - val_accuracy: 1.0000\n",
            "Epoch 41/50\n",
            "15/15 [==============================] - 85s 6s/step - loss: 1.1524e-08 - accuracy: 1.0000 - val_loss: 1.7818e-05 - val_accuracy: 1.0000\n",
            "Epoch 42/50\n",
            "15/15 [==============================] - 86s 6s/step - loss: 1.0729e-08 - accuracy: 1.0000 - val_loss: 1.7121e-05 - val_accuracy: 1.0000\n",
            "Epoch 43/50\n",
            "15/15 [==============================] - 86s 6s/step - loss: 8.3446e-09 - accuracy: 1.0000 - val_loss: 1.6341e-05 - val_accuracy: 1.0000\n",
            "Epoch 44/50\n",
            "15/15 [==============================] - 87s 6s/step - loss: 7.5499e-09 - accuracy: 1.0000 - val_loss: 1.5692e-05 - val_accuracy: 1.0000\n",
            "Epoch 45/50\n",
            "15/15 [==============================] - 85s 6s/step - loss: 6.7552e-09 - accuracy: 1.0000 - val_loss: 1.5062e-05 - val_accuracy: 1.0000\n",
            "Epoch 46/50\n",
            "15/15 [==============================] - 87s 6s/step - loss: 6.7552e-09 - accuracy: 1.0000 - val_loss: 1.4500e-05 - val_accuracy: 1.0000\n",
            "Epoch 47/50\n",
            "15/15 [==============================] - 86s 6s/step - loss: 6.7552e-09 - accuracy: 1.0000 - val_loss: 1.3891e-05 - val_accuracy: 1.0000\n",
            "Epoch 48/50\n",
            "15/15 [==============================] - 87s 6s/step - loss: 6.3578e-09 - accuracy: 1.0000 - val_loss: 1.3395e-05 - val_accuracy: 1.0000\n",
            "Epoch 49/50\n",
            "15/15 [==============================] - 85s 6s/step - loss: 5.9605e-09 - accuracy: 1.0000 - val_loss: 1.2856e-05 - val_accuracy: 1.0000\n",
            "Epoch 50/50\n",
            "15/15 [==============================] - 87s 6s/step - loss: 5.9605e-09 - accuracy: 1.0000 - val_loss: 1.2382e-05 - val_accuracy: 1.0000\n",
            "CPU times: user 2h 6min 36s, sys: 1min 32s, total: 2h 8min 9s\n",
            "Wall time: 1h 37min 48s\n"
          ]
        }
      ]
    },
    {
      "cell_type": "code",
      "source": [
        "import matplotlib.pyplot as plt\n",
        "\n",
        "epochs = range(1, len(Hist_dandc.history['loss']) + 1)\n",
        "\n",
        "plt.figure(figsize = (9, 6))\n",
        "plt.plot(epochs, Hist_dandc.history['loss'])\n",
        "plt.plot(epochs, Hist_dandc.history['val_loss'])\n",
        "\n",
        "plt.title('Training & Validation Loss')\n",
        "plt.xlabel('Epochs')\n",
        "plt.ylabel('Loss')\n",
        "plt.legend(['Training Loss', 'Validation Loss'])\n",
        "plt.grid()\n",
        "plt.show()"
      ],
      "metadata": {
        "id": "vb5MKUQGxxYo",
        "colab": {
          "base_uri": "https://localhost:8080/",
          "height": 404
        },
        "outputId": "0f6970b6-1d8f-49aa-b6d7-64c196ff4bf6"
      },
      "execution_count": null,
      "outputs": [
        {
          "output_type": "display_data",
          "data": {
            "text/plain": [
              "<Figure size 648x432 with 1 Axes>"
            ],
            "image/png": "[encoded data removed]"
          },
          "metadata": {
            "needs_background": "light"
          }
        }
      ]
    },
    {
      "cell_type": "code",
      "source": [
        "import matplotlib.pyplot as plt\n",
        "\n",
        "epochs = range(1, len(Hist_dandc.history['loss']) + 1)\n",
        "\n",
        "plt.figure(figsize = (9, 6))\n",
        "plt.plot(epochs, Hist_dandc.history['accuracy'])\n",
        "plt.plot(epochs, Hist_dandc.history['val_accuracy'])\n",
        "\n",
        "plt.title('Training & Validation Accuracy')\n",
        "plt.xlabel('Epochs')\n",
        "plt.ylabel('Accuracy')\n",
        "plt.legend(['Training Accuracy', 'Validation Accuracy'])\n",
        "plt.grid()\n",
        "plt.show()"
      ],
      "metadata": {
        "colab": {
          "base_uri": "https://localhost:8080/",
          "height": 404
        },
        "id": "rilcNZjAQMbk",
        "outputId": "da3af896-4d82-4bca-9eea-c4d7cfc86643"
      },
      "execution_count": null,
      "outputs": [
        {
          "output_type": "display_data",
          "data": {
            "text/plain": [
              "<Figure size 648x432 with 1 Axes>"
            ],
            "image/png": "[encoded data removed]"
          },
          "metadata": {
            "needs_background": "light"
          }
        }
      ]
    },
    {
      "cell_type": "code",
      "source": [
        "test_datagen = ImageDataGenerator(rescale = 1./255)\n",
        "\n",
        "test_generator = test_datagen.flow_from_directory(\n",
        "                 test_dir,\n",
        "                 target_size = (75, 75),\n",
        "                 batch_size = 10,\n",
        "                 class_mode = 'categorical')"
      ],
      "metadata": {
        "colab": {
          "base_uri": "https://localhost:8080/"
        },
        "id": "FecYtHwvQZyA",
        "outputId": "eeccd339-5079-46e5-c280-22e2677b0a4e"
      },
      "execution_count": null,
      "outputs": [
        {
          "output_type": "stream",
          "name": "stdout",
          "text": [
            "Found 100 images belonging to 5 classes.\n"
          ]
        }
      ]
    },
    {
      "cell_type": "code",
      "source": [
        "loss, accuracy = model.evaluate(test_generator,\n",
        "                                steps = 10)\n",
        "\n",
        "print('Loss = {:.5f}'.format(loss))\n",
        "print('Accuracy = {:.5f}'.format(accuracy))"
      ],
      "metadata": {
        "id": "ANPkUzt7QcfM"
      },
      "execution_count": null,
      "outputs": []
    },
    {
      "cell_type": "code",
      "source": [
        "test_image = \"/content/cut_9.png\"\n",
        "\n",
        "from PIL import Image\n",
        "import numpy as np\n",
        "\n",
        "img = Image.open(test_image)\n",
        "img = img.resize((250,250))\n",
        "data = np.asarray(img)\n",
        "X = np.array(data)\n",
        "X = X.astype(\"float\") / 256\n",
        "X = X.reshape(-1,250,250,3)\n",
        "\n",
        "# 예측\n",
        "pred = model.predict(X)  \n",
        "result = [np.argmax(value) for value in pred]   # 예측 값 중 가장 높은 클래스 반환\n",
        "\n",
        "print(result[0])"
      ],
      "metadata": {
        "colab": {
          "base_uri": "https://localhost:8080/"
        },
        "id": "WPWoF6Y_RRlT",
        "outputId": "d4986561-794a-472c-81e6-d51d04a10f88"
      },
      "execution_count": null,
      "outputs": [
        {
          "output_type": "stream",
          "name": "stdout",
          "text": [
            "1/1 [==============================] - 0s 71ms/step\n",
            "0\n"
          ]
        }
      ]
    },
    {
      "cell_type": "code",
      "source": [
        "model.save('/content/drive/My Drive/Colab Notebooks/models/pill_model.h5')"
      ],
      "metadata": {
        "id": "PhbIWssAQfm4"
      },
      "execution_count": null,
      "outputs": []
    }
  ]
}