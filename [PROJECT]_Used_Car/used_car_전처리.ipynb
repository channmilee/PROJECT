{
  "nbformat": 4,
  "nbformat_minor": 0,
  "metadata": {
    "colab": {
      "provenance": [],
      "toc_visible": true
    },
    "kernelspec": {
      "name": "python3",
      "display_name": "Python 3"
    },
    "language_info": {
      "name": "python"
    }
  },
  "cells": [
    {
      "cell_type": "markdown",
      "source": [
        "# 0.Data Load"
      ],
      "metadata": {
        "id": "KshACaWba5JO"
      }
    },
    {
      "cell_type": "code",
      "execution_count": 1,
      "metadata": {
        "colab": {
          "base_uri": "https://localhost:8080/"
        },
        "id": "GxzfiGfAVayf",
        "outputId": "120741a6-d9f4-4eb2-f40d-eba900610339"
      },
      "outputs": [
        {
          "output_type": "stream",
          "name": "stdout",
          "text": [
            "Mounted at /content/drive\n"
          ]
        }
      ],
      "source": [
        "from google.colab import drive\n",
        "drive.mount('/content/drive')\n",
        "\n",
        "import pandas as pd"
      ]
    },
    {
      "cell_type": "code",
      "source": [
        "cd /content/drive/MyDrive/multicampus/project2/데이터"
      ],
      "metadata": {
        "colab": {
          "base_uri": "https://localhost:8080/"
        },
        "id": "-6acxL95WOdw",
        "outputId": "48f0a0aa-28ae-44e5-ab43-c5560dad861d"
      },
      "execution_count": 2,
      "outputs": [
        {
          "output_type": "stream",
          "name": "stdout",
          "text": [
            "/content/drive/MyDrive/multicampus/project2/데이터\n"
          ]
        }
      ]
    },
    {
      "cell_type": "code",
      "source": [
        "rawdata = pd.read_excel('used_car.xlsx')"
      ],
      "metadata": {
        "id": "mU5FiYl8kvSD"
      },
      "execution_count": 197,
      "outputs": []
    },
    {
      "cell_type": "markdown",
      "source": [
        "## 데이터 확인"
      ],
      "metadata": {
        "id": "b5su4Ocaa-u7"
      }
    },
    {
      "cell_type": "code",
      "source": [
        "rawdata.head(3)"
      ],
      "metadata": {
        "colab": {
          "base_uri": "https://localhost:8080/",
          "height": 338
        },
        "id": "T7bfnXCCk8HF",
        "outputId": "0278b5c7-47c2-4b3f-b852-4d27fea4ceb3"
      },
      "execution_count": 198,
      "outputs": [
        {
          "output_type": "execute_result",
          "data": {
            "text/plain": [
              "                          이름           차량번호              연식       주행거리   연료  \\\n",
              "0       쉐보레 더 뉴 스파크 1.0 프리미어  차량번호 119구3955  2021.07 (22년형)  16,250 km  가솔린   \n",
              "1  현대 올 뉴 투싼 1.6 디젤 2WD  스마트  차량번호 359보9225  2018.11 (19년형)  67,696 km   디젤   \n",
              "2       기아 더 뉴 봉고3  캠핑카 -      차량번호 98버3990         2020.11  29,000 km   디젤   \n",
              "\n",
              "                배기량  색상              보증정보       가격 신차대비가격  ...  옵션_파노라마선루프  \\\n",
              "0     999 cc (75마력)   1  60개월 / 100,000km  1,100만원     75  ...         0.0   \n",
              "1  1,598 cc (136마력)   1  60개월 / 100,000km  1,699만원     71  ...         0.0   \n",
              "2  2,497 cc (133마력)   1              정보없음  7,480만원    준비중  ...         NaN   \n",
              "\n",
              "   옵션_열선앞  옵션_열선뒤  옵션_전방센서  옵션_후방센서  옵션_전방캠  옵션_후방캠  옵션_어라운드뷰  옵션_네비순정  보험이력등록  \n",
              "0     1.0     0.0      0.0      1.0     0.0     1.0       0.0      0.0      등록  \n",
              "1     1.0     0.0      0.0      1.0     0.0     0.0       0.0      0.0      등록  \n",
              "2     NaN     NaN      NaN      NaN     NaN     NaN       NaN      NaN     미등록  \n",
              "\n",
              "[3 rows x 21 columns]"
            ],
            "text/html": [
              "\n",
              "  <div id=\"df-91c6e497-86c6-4eb1-9034-a48e0135e9f1\">\n",
              "    <div class=\"colab-df-container\">\n",
              "      <div>\n",
              "<style scoped>\n",
              "    .dataframe tbody tr th:only-of-type {\n",
              "        vertical-align: middle;\n",
              "    }\n",
              "\n",
              "    .dataframe tbody tr th {\n",
              "        vertical-align: top;\n",
              "    }\n",
              "\n",
              "    .dataframe thead th {\n",
              "        text-align: right;\n",
              "    }\n",
              "</style>\n",
              "<table border=\"1\" class=\"dataframe\">\n",
              "  <thead>\n",
              "    <tr style=\"text-align: right;\">\n",
              "      <th></th>\n",
              "      <th>이름</th>\n",
              "      <th>차량번호</th>\n",
              "      <th>연식</th>\n",
              "      <th>주행거리</th>\n",
              "      <th>연료</th>\n",
              "      <th>배기량</th>\n",
              "      <th>색상</th>\n",
              "      <th>보증정보</th>\n",
              "      <th>가격</th>\n",
              "      <th>신차대비가격</th>\n",
              "      <th>...</th>\n",
              "      <th>옵션_파노라마선루프</th>\n",
              "      <th>옵션_열선앞</th>\n",
              "      <th>옵션_열선뒤</th>\n",
              "      <th>옵션_전방센서</th>\n",
              "      <th>옵션_후방센서</th>\n",
              "      <th>옵션_전방캠</th>\n",
              "      <th>옵션_후방캠</th>\n",
              "      <th>옵션_어라운드뷰</th>\n",
              "      <th>옵션_네비순정</th>\n",
              "      <th>보험이력등록</th>\n",
              "    </tr>\n",
              "  </thead>\n",
              "  <tbody>\n",
              "    <tr>\n",
              "      <th>0</th>\n",
              "      <td>쉐보레 더 뉴 스파크 1.0 프리미어</td>\n",
              "      <td>차량번호 119구3955</td>\n",
              "      <td>2021.07 (22년형)</td>\n",
              "      <td>16,250 km</td>\n",
              "      <td>가솔린</td>\n",
              "      <td>999 cc (75마력)</td>\n",
              "      <td>1</td>\n",
              "      <td>60개월 / 100,000km</td>\n",
              "      <td>1,100만원</td>\n",
              "      <td>75</td>\n",
              "      <td>...</td>\n",
              "      <td>0.0</td>\n",
              "      <td>1.0</td>\n",
              "      <td>0.0</td>\n",
              "      <td>0.0</td>\n",
              "      <td>1.0</td>\n",
              "      <td>0.0</td>\n",
              "      <td>1.0</td>\n",
              "      <td>0.0</td>\n",
              "      <td>0.0</td>\n",
              "      <td>등록</td>\n",
              "    </tr>\n",
              "    <tr>\n",
              "      <th>1</th>\n",
              "      <td>현대 올 뉴 투싼 1.6 디젤 2WD  스마트</td>\n",
              "      <td>차량번호 359보9225</td>\n",
              "      <td>2018.11 (19년형)</td>\n",
              "      <td>67,696 km</td>\n",
              "      <td>디젤</td>\n",
              "      <td>1,598 cc (136마력)</td>\n",
              "      <td>1</td>\n",
              "      <td>60개월 / 100,000km</td>\n",
              "      <td>1,699만원</td>\n",
              "      <td>71</td>\n",
              "      <td>...</td>\n",
              "      <td>0.0</td>\n",
              "      <td>1.0</td>\n",
              "      <td>0.0</td>\n",
              "      <td>0.0</td>\n",
              "      <td>1.0</td>\n",
              "      <td>0.0</td>\n",
              "      <td>0.0</td>\n",
              "      <td>0.0</td>\n",
              "      <td>0.0</td>\n",
              "      <td>등록</td>\n",
              "    </tr>\n",
              "    <tr>\n",
              "      <th>2</th>\n",
              "      <td>기아 더 뉴 봉고3  캠핑카 -</td>\n",
              "      <td>차량번호 98버3990</td>\n",
              "      <td>2020.11</td>\n",
              "      <td>29,000 km</td>\n",
              "      <td>디젤</td>\n",
              "      <td>2,497 cc (133마력)</td>\n",
              "      <td>1</td>\n",
              "      <td>정보없음</td>\n",
              "      <td>7,480만원</td>\n",
              "      <td>준비중</td>\n",
              "      <td>...</td>\n",
              "      <td>NaN</td>\n",
              "      <td>NaN</td>\n",
              "      <td>NaN</td>\n",
              "      <td>NaN</td>\n",
              "      <td>NaN</td>\n",
              "      <td>NaN</td>\n",
              "      <td>NaN</td>\n",
              "      <td>NaN</td>\n",
              "      <td>NaN</td>\n",
              "      <td>미등록</td>\n",
              "    </tr>\n",
              "  </tbody>\n",
              "</table>\n",
              "<p>3 rows × 21 columns</p>\n",
              "</div>\n",
              "      <button class=\"colab-df-convert\" onclick=\"convertToInteractive('df-91c6e497-86c6-4eb1-9034-a48e0135e9f1')\"\n",
              "              title=\"Convert this dataframe to an interactive table.\"\n",
              "              style=\"display:none;\">\n",
              "        \n",
              "  <svg xmlns=\"http://www.w3.org/2000/svg\" height=\"24px\"viewBox=\"0 0 24 24\"\n",
              "       width=\"24px\">\n",
              "    <path d=\"M0 0h24v24H0V0z\" fill=\"none\"/>\n",
              "    <path d=\"M18.56 5.44l.94 2.06.94-2.06 2.06-.94-2.06-.94-.94-2.06-.94 2.06-2.06.94zm-11 1L8.5 8.5l.94-2.06 2.06-.94-2.06-.94L8.5 2.5l-.94 2.06-2.06.94zm10 10l.94 2.06.94-2.06 2.06-.94-2.06-.94-.94-2.06-.94 2.06-2.06.94z\"/><path d=\"M17.41 7.96l-1.37-1.37c-.4-.4-.92-.59-1.43-.59-.52 0-1.04.2-1.43.59L10.3 9.45l-7.72 7.72c-.78.78-.78 2.05 0 2.83L4 21.41c.39.39.9.59 1.41.59.51 0 1.02-.2 1.41-.59l7.78-7.78 2.81-2.81c.8-.78.8-2.07 0-2.86zM5.41 20L4 18.59l7.72-7.72 1.47 1.35L5.41 20z\"/>\n",
              "  </svg>\n",
              "      </button>\n",
              "      \n",
              "  <style>\n",
              "    .colab-df-container {\n",
              "      display:flex;\n",
              "      flex-wrap:wrap;\n",
              "      gap: 12px;\n",
              "    }\n",
              "\n",
              "    .colab-df-convert {\n",
              "      background-color: #E8F0FE;\n",
              "      border: none;\n",
              "      border-radius: 50%;\n",
              "      cursor: pointer;\n",
              "      display: none;\n",
              "      fill: #1967D2;\n",
              "      height: 32px;\n",
              "      padding: 0 0 0 0;\n",
              "      width: 32px;\n",
              "    }\n",
              "\n",
              "    .colab-df-convert:hover {\n",
              "      background-color: #E2EBFA;\n",
              "      box-shadow: 0px 1px 2px rgba(60, 64, 67, 0.3), 0px 1px 3px 1px rgba(60, 64, 67, 0.15);\n",
              "      fill: #174EA6;\n",
              "    }\n",
              "\n",
              "    [theme=dark] .colab-df-convert {\n",
              "      background-color: #3B4455;\n",
              "      fill: #D2E3FC;\n",
              "    }\n",
              "\n",
              "    [theme=dark] .colab-df-convert:hover {\n",
              "      background-color: #434B5C;\n",
              "      box-shadow: 0px 1px 3px 1px rgba(0, 0, 0, 0.15);\n",
              "      filter: drop-shadow(0px 1px 2px rgba(0, 0, 0, 0.3));\n",
              "      fill: #FFFFFF;\n",
              "    }\n",
              "  </style>\n",
              "\n",
              "      <script>\n",
              "        const buttonEl =\n",
              "          document.querySelector('#df-91c6e497-86c6-4eb1-9034-a48e0135e9f1 button.colab-df-convert');\n",
              "        buttonEl.style.display =\n",
              "          google.colab.kernel.accessAllowed ? 'block' : 'none';\n",
              "\n",
              "        async function convertToInteractive(key) {\n",
              "          const element = document.querySelector('#df-91c6e497-86c6-4eb1-9034-a48e0135e9f1');\n",
              "          const dataTable =\n",
              "            await google.colab.kernel.invokeFunction('convertToInteractive',\n",
              "                                                     [key], {});\n",
              "          if (!dataTable) return;\n",
              "\n",
              "          const docLinkHtml = 'Like what you see? Visit the ' +\n",
              "            '<a target=\"_blank\" href=https://colab.research.google.com/notebooks/data_table.ipynb>data table notebook</a>'\n",
              "            + ' to learn more about interactive tables.';\n",
              "          element.innerHTML = '';\n",
              "          dataTable['output_type'] = 'display_data';\n",
              "          await google.colab.output.renderOutput(dataTable, element);\n",
              "          const docLink = document.createElement('div');\n",
              "          docLink.innerHTML = docLinkHtml;\n",
              "          element.appendChild(docLink);\n",
              "        }\n",
              "      </script>\n",
              "    </div>\n",
              "  </div>\n",
              "  "
            ]
          },
          "metadata": {},
          "execution_count": 198
        }
      ]
    },
    {
      "cell_type": "code",
      "source": [
        "rawdata.columns"
      ],
      "metadata": {
        "colab": {
          "base_uri": "https://localhost:8080/"
        },
        "id": "WGTK9l6ClAr9",
        "outputId": "eaa63a75-e4fd-4fef-e1bd-65c6bae35963"
      },
      "execution_count": 199,
      "outputs": [
        {
          "output_type": "execute_result",
          "data": {
            "text/plain": [
              "Index(['이름', '차량번호', '연식', '주행거리', '연료', '배기량', '색상', '보증정보', '가격', '신차대비가격',\n",
              "       '옵션_선루프', '옵션_파노라마선루프', '옵션_열선앞', '옵션_열선뒤', '옵션_전방센서', '옵션_후방센서',\n",
              "       '옵션_전방캠', '옵션_후방캠', '옵션_어라운드뷰', '옵션_네비순정', '보험이력등록'],\n",
              "      dtype='object')"
            ]
          },
          "metadata": {},
          "execution_count": 199
        }
      ]
    },
    {
      "cell_type": "code",
      "source": [
        "# 사용 열 선택\n",
        "\n",
        "used_car = rawdata[['이름','연식','주행거리','연료',\n",
        "       '배기량', '색상', '보증정보', '가격', '신차대비가격', '옵션_선루프', '옵션_파노라마선루프', '옵션_열선앞',\n",
        "       '옵션_열선뒤', '옵션_전방센서', '옵션_후방센서', '옵션_전방캠', '옵션_후방캠', '옵션_어라운드뷰',\n",
        "       '옵션_네비순정', '보험이력등록']]"
      ],
      "metadata": {
        "id": "z8vqqbeMlkjr"
      },
      "execution_count": 200,
      "outputs": []
    },
    {
      "cell_type": "code",
      "source": [
        "used_car.info()"
      ],
      "metadata": {
        "colab": {
          "base_uri": "https://localhost:8080/"
        },
        "id": "iDNnNcSBmK_9",
        "outputId": "de0b5b89-8028-4602-bdcf-00c1fbc5ce31"
      },
      "execution_count": 201,
      "outputs": [
        {
          "output_type": "stream",
          "name": "stdout",
          "text": [
            "<class 'pandas.core.frame.DataFrame'>\n",
            "RangeIndex: 2634 entries, 0 to 2633\n",
            "Data columns (total 20 columns):\n",
            " #   Column      Non-Null Count  Dtype  \n",
            "---  ------      --------------  -----  \n",
            " 0   이름          2634 non-null   object \n",
            " 1   연식          2634 non-null   object \n",
            " 2   주행거리        2634 non-null   object \n",
            " 3   연료          2634 non-null   object \n",
            " 4   배기량         2634 non-null   object \n",
            " 5   색상          2634 non-null   int64  \n",
            " 6   보증정보        2634 non-null   object \n",
            " 7   가격          2634 non-null   object \n",
            " 8   신차대비가격      2634 non-null   object \n",
            " 9   옵션_선루프      2022 non-null   float64\n",
            " 10  옵션_파노라마선루프  2022 non-null   float64\n",
            " 11  옵션_열선앞      2022 non-null   float64\n",
            " 12  옵션_열선뒤      2022 non-null   float64\n",
            " 13  옵션_전방센서     2022 non-null   float64\n",
            " 14  옵션_후방센서     2022 non-null   float64\n",
            " 15  옵션_전방캠      2022 non-null   float64\n",
            " 16  옵션_후방캠      2022 non-null   float64\n",
            " 17  옵션_어라운드뷰    2022 non-null   float64\n",
            " 18  옵션_네비순정     2022 non-null   float64\n",
            " 19  보험이력등록      2634 non-null   object \n",
            "dtypes: float64(10), int64(1), object(9)\n",
            "memory usage: 411.7+ KB\n"
          ]
        }
      ]
    },
    {
      "cell_type": "code",
      "source": [
        "used_car.head(3)"
      ],
      "metadata": {
        "colab": {
          "base_uri": "https://localhost:8080/",
          "height": 292
        },
        "id": "GYRDX0TQRgJL",
        "outputId": "d6629ba0-53aa-4319-c06a-e2eecb2692e4"
      },
      "execution_count": 202,
      "outputs": [
        {
          "output_type": "execute_result",
          "data": {
            "text/plain": [
              "                          이름              연식       주행거리   연료  \\\n",
              "0       쉐보레 더 뉴 스파크 1.0 프리미어  2021.07 (22년형)  16,250 km  가솔린   \n",
              "1  현대 올 뉴 투싼 1.6 디젤 2WD  스마트  2018.11 (19년형)  67,696 km   디젤   \n",
              "2       기아 더 뉴 봉고3  캠핑카 -            2020.11  29,000 km   디젤   \n",
              "\n",
              "                배기량  색상              보증정보       가격 신차대비가격  옵션_선루프  옵션_파노라마선루프  \\\n",
              "0     999 cc (75마력)   1  60개월 / 100,000km  1,100만원     75     0.0         0.0   \n",
              "1  1,598 cc (136마력)   1  60개월 / 100,000km  1,699만원     71     0.0         0.0   \n",
              "2  2,497 cc (133마력)   1              정보없음  7,480만원    준비중     NaN         NaN   \n",
              "\n",
              "   옵션_열선앞  옵션_열선뒤  옵션_전방센서  옵션_후방센서  옵션_전방캠  옵션_후방캠  옵션_어라운드뷰  옵션_네비순정 보험이력등록  \n",
              "0     1.0     0.0      0.0      1.0     0.0     1.0       0.0      0.0     등록  \n",
              "1     1.0     0.0      0.0      1.0     0.0     0.0       0.0      0.0     등록  \n",
              "2     NaN     NaN      NaN      NaN     NaN     NaN       NaN      NaN    미등록  "
            ],
            "text/html": [
              "\n",
              "  <div id=\"df-c990ca22-9146-43b3-b68e-59eacccb1a25\">\n",
              "    <div class=\"colab-df-container\">\n",
              "      <div>\n",
              "<style scoped>\n",
              "    .dataframe tbody tr th:only-of-type {\n",
              "        vertical-align: middle;\n",
              "    }\n",
              "\n",
              "    .dataframe tbody tr th {\n",
              "        vertical-align: top;\n",
              "    }\n",
              "\n",
              "    .dataframe thead th {\n",
              "        text-align: right;\n",
              "    }\n",
              "</style>\n",
              "<table border=\"1\" class=\"dataframe\">\n",
              "  <thead>\n",
              "    <tr style=\"text-align: right;\">\n",
              "      <th></th>\n",
              "      <th>이름</th>\n",
              "      <th>연식</th>\n",
              "      <th>주행거리</th>\n",
              "      <th>연료</th>\n",
              "      <th>배기량</th>\n",
              "      <th>색상</th>\n",
              "      <th>보증정보</th>\n",
              "      <th>가격</th>\n",
              "      <th>신차대비가격</th>\n",
              "      <th>옵션_선루프</th>\n",
              "      <th>옵션_파노라마선루프</th>\n",
              "      <th>옵션_열선앞</th>\n",
              "      <th>옵션_열선뒤</th>\n",
              "      <th>옵션_전방센서</th>\n",
              "      <th>옵션_후방센서</th>\n",
              "      <th>옵션_전방캠</th>\n",
              "      <th>옵션_후방캠</th>\n",
              "      <th>옵션_어라운드뷰</th>\n",
              "      <th>옵션_네비순정</th>\n",
              "      <th>보험이력등록</th>\n",
              "    </tr>\n",
              "  </thead>\n",
              "  <tbody>\n",
              "    <tr>\n",
              "      <th>0</th>\n",
              "      <td>쉐보레 더 뉴 스파크 1.0 프리미어</td>\n",
              "      <td>2021.07 (22년형)</td>\n",
              "      <td>16,250 km</td>\n",
              "      <td>가솔린</td>\n",
              "      <td>999 cc (75마력)</td>\n",
              "      <td>1</td>\n",
              "      <td>60개월 / 100,000km</td>\n",
              "      <td>1,100만원</td>\n",
              "      <td>75</td>\n",
              "      <td>0.0</td>\n",
              "      <td>0.0</td>\n",
              "      <td>1.0</td>\n",
              "      <td>0.0</td>\n",
              "      <td>0.0</td>\n",
              "      <td>1.0</td>\n",
              "      <td>0.0</td>\n",
              "      <td>1.0</td>\n",
              "      <td>0.0</td>\n",
              "      <td>0.0</td>\n",
              "      <td>등록</td>\n",
              "    </tr>\n",
              "    <tr>\n",
              "      <th>1</th>\n",
              "      <td>현대 올 뉴 투싼 1.6 디젤 2WD  스마트</td>\n",
              "      <td>2018.11 (19년형)</td>\n",
              "      <td>67,696 km</td>\n",
              "      <td>디젤</td>\n",
              "      <td>1,598 cc (136마력)</td>\n",
              "      <td>1</td>\n",
              "      <td>60개월 / 100,000km</td>\n",
              "      <td>1,699만원</td>\n",
              "      <td>71</td>\n",
              "      <td>0.0</td>\n",
              "      <td>0.0</td>\n",
              "      <td>1.0</td>\n",
              "      <td>0.0</td>\n",
              "      <td>0.0</td>\n",
              "      <td>1.0</td>\n",
              "      <td>0.0</td>\n",
              "      <td>0.0</td>\n",
              "      <td>0.0</td>\n",
              "      <td>0.0</td>\n",
              "      <td>등록</td>\n",
              "    </tr>\n",
              "    <tr>\n",
              "      <th>2</th>\n",
              "      <td>기아 더 뉴 봉고3  캠핑카 -</td>\n",
              "      <td>2020.11</td>\n",
              "      <td>29,000 km</td>\n",
              "      <td>디젤</td>\n",
              "      <td>2,497 cc (133마력)</td>\n",
              "      <td>1</td>\n",
              "      <td>정보없음</td>\n",
              "      <td>7,480만원</td>\n",
              "      <td>준비중</td>\n",
              "      <td>NaN</td>\n",
              "      <td>NaN</td>\n",
              "      <td>NaN</td>\n",
              "      <td>NaN</td>\n",
              "      <td>NaN</td>\n",
              "      <td>NaN</td>\n",
              "      <td>NaN</td>\n",
              "      <td>NaN</td>\n",
              "      <td>NaN</td>\n",
              "      <td>NaN</td>\n",
              "      <td>미등록</td>\n",
              "    </tr>\n",
              "  </tbody>\n",
              "</table>\n",
              "</div>\n",
              "      <button class=\"colab-df-convert\" onclick=\"convertToInteractive('df-c990ca22-9146-43b3-b68e-59eacccb1a25')\"\n",
              "              title=\"Convert this dataframe to an interactive table.\"\n",
              "              style=\"display:none;\">\n",
              "        \n",
              "  <svg xmlns=\"http://www.w3.org/2000/svg\" height=\"24px\"viewBox=\"0 0 24 24\"\n",
              "       width=\"24px\">\n",
              "    <path d=\"M0 0h24v24H0V0z\" fill=\"none\"/>\n",
              "    <path d=\"M18.56 5.44l.94 2.06.94-2.06 2.06-.94-2.06-.94-.94-2.06-.94 2.06-2.06.94zm-11 1L8.5 8.5l.94-2.06 2.06-.94-2.06-.94L8.5 2.5l-.94 2.06-2.06.94zm10 10l.94 2.06.94-2.06 2.06-.94-2.06-.94-.94-2.06-.94 2.06-2.06.94z\"/><path d=\"M17.41 7.96l-1.37-1.37c-.4-.4-.92-.59-1.43-.59-.52 0-1.04.2-1.43.59L10.3 9.45l-7.72 7.72c-.78.78-.78 2.05 0 2.83L4 21.41c.39.39.9.59 1.41.59.51 0 1.02-.2 1.41-.59l7.78-7.78 2.81-2.81c.8-.78.8-2.07 0-2.86zM5.41 20L4 18.59l7.72-7.72 1.47 1.35L5.41 20z\"/>\n",
              "  </svg>\n",
              "      </button>\n",
              "      \n",
              "  <style>\n",
              "    .colab-df-container {\n",
              "      display:flex;\n",
              "      flex-wrap:wrap;\n",
              "      gap: 12px;\n",
              "    }\n",
              "\n",
              "    .colab-df-convert {\n",
              "      background-color: #E8F0FE;\n",
              "      border: none;\n",
              "      border-radius: 50%;\n",
              "      cursor: pointer;\n",
              "      display: none;\n",
              "      fill: #1967D2;\n",
              "      height: 32px;\n",
              "      padding: 0 0 0 0;\n",
              "      width: 32px;\n",
              "    }\n",
              "\n",
              "    .colab-df-convert:hover {\n",
              "      background-color: #E2EBFA;\n",
              "      box-shadow: 0px 1px 2px rgba(60, 64, 67, 0.3), 0px 1px 3px 1px rgba(60, 64, 67, 0.15);\n",
              "      fill: #174EA6;\n",
              "    }\n",
              "\n",
              "    [theme=dark] .colab-df-convert {\n",
              "      background-color: #3B4455;\n",
              "      fill: #D2E3FC;\n",
              "    }\n",
              "\n",
              "    [theme=dark] .colab-df-convert:hover {\n",
              "      background-color: #434B5C;\n",
              "      box-shadow: 0px 1px 3px 1px rgba(0, 0, 0, 0.15);\n",
              "      filter: drop-shadow(0px 1px 2px rgba(0, 0, 0, 0.3));\n",
              "      fill: #FFFFFF;\n",
              "    }\n",
              "  </style>\n",
              "\n",
              "      <script>\n",
              "        const buttonEl =\n",
              "          document.querySelector('#df-c990ca22-9146-43b3-b68e-59eacccb1a25 button.colab-df-convert');\n",
              "        buttonEl.style.display =\n",
              "          google.colab.kernel.accessAllowed ? 'block' : 'none';\n",
              "\n",
              "        async function convertToInteractive(key) {\n",
              "          const element = document.querySelector('#df-c990ca22-9146-43b3-b68e-59eacccb1a25');\n",
              "          const dataTable =\n",
              "            await google.colab.kernel.invokeFunction('convertToInteractive',\n",
              "                                                     [key], {});\n",
              "          if (!dataTable) return;\n",
              "\n",
              "          const docLinkHtml = 'Like what you see? Visit the ' +\n",
              "            '<a target=\"_blank\" href=https://colab.research.google.com/notebooks/data_table.ipynb>data table notebook</a>'\n",
              "            + ' to learn more about interactive tables.';\n",
              "          element.innerHTML = '';\n",
              "          dataTable['output_type'] = 'display_data';\n",
              "          await google.colab.output.renderOutput(dataTable, element);\n",
              "          const docLink = document.createElement('div');\n",
              "          docLink.innerHTML = docLinkHtml;\n",
              "          element.appendChild(docLink);\n",
              "        }\n",
              "      </script>\n",
              "    </div>\n",
              "  </div>\n",
              "  "
            ]
          },
          "metadata": {},
          "execution_count": 202
        }
      ]
    },
    {
      "cell_type": "markdown",
      "source": [
        "# 1.전처리"
      ],
      "metadata": {
        "id": "1pyN2f994RVL"
      }
    },
    {
      "cell_type": "markdown",
      "source": [
        "## 1.이름"
      ],
      "metadata": {
        "id": "DoSgCRHkvD_1"
      }
    },
    {
      "cell_type": "markdown",
      "source": [
        "* 기존 이름 열에는 제조사, 모델명, 모델 등급이 섞여있음"
      ],
      "metadata": {
        "id": "Du1-Y2-ovPFf"
      }
    },
    {
      "cell_type": "code",
      "source": [
        "used_car[['이름']].head()"
      ],
      "metadata": {
        "colab": {
          "base_uri": "https://localhost:8080/",
          "height": 206
        },
        "id": "cv4RFLP5vI2l",
        "outputId": "0b074f07-88dd-4fcf-fd5f-cefe710deb73"
      },
      "execution_count": 203,
      "outputs": [
        {
          "output_type": "execute_result",
          "data": {
            "text/plain": [
              "                          이름\n",
              "0       쉐보레 더 뉴 스파크 1.0 프리미어\n",
              "1  현대 올 뉴 투싼 1.6 디젤 2WD  스마트\n",
              "2       기아 더 뉴 봉고3  캠핑카 -   \n",
              "3         GM대우 레스타  캠핑카 -   \n",
              "4       기아 더 뉴 봉고3  캠핑카 -   "
            ],
            "text/html": [
              "\n",
              "  <div id=\"df-b625b66e-b7c8-4f6b-84c2-7adeff68052a\">\n",
              "    <div class=\"colab-df-container\">\n",
              "      <div>\n",
              "<style scoped>\n",
              "    .dataframe tbody tr th:only-of-type {\n",
              "        vertical-align: middle;\n",
              "    }\n",
              "\n",
              "    .dataframe tbody tr th {\n",
              "        vertical-align: top;\n",
              "    }\n",
              "\n",
              "    .dataframe thead th {\n",
              "        text-align: right;\n",
              "    }\n",
              "</style>\n",
              "<table border=\"1\" class=\"dataframe\">\n",
              "  <thead>\n",
              "    <tr style=\"text-align: right;\">\n",
              "      <th></th>\n",
              "      <th>이름</th>\n",
              "    </tr>\n",
              "  </thead>\n",
              "  <tbody>\n",
              "    <tr>\n",
              "      <th>0</th>\n",
              "      <td>쉐보레 더 뉴 스파크 1.0 프리미어</td>\n",
              "    </tr>\n",
              "    <tr>\n",
              "      <th>1</th>\n",
              "      <td>현대 올 뉴 투싼 1.6 디젤 2WD  스마트</td>\n",
              "    </tr>\n",
              "    <tr>\n",
              "      <th>2</th>\n",
              "      <td>기아 더 뉴 봉고3  캠핑카 -</td>\n",
              "    </tr>\n",
              "    <tr>\n",
              "      <th>3</th>\n",
              "      <td>GM대우 레스타  캠핑카 -</td>\n",
              "    </tr>\n",
              "    <tr>\n",
              "      <th>4</th>\n",
              "      <td>기아 더 뉴 봉고3  캠핑카 -</td>\n",
              "    </tr>\n",
              "  </tbody>\n",
              "</table>\n",
              "</div>\n",
              "      <button class=\"colab-df-convert\" onclick=\"convertToInteractive('df-b625b66e-b7c8-4f6b-84c2-7adeff68052a')\"\n",
              "              title=\"Convert this dataframe to an interactive table.\"\n",
              "              style=\"display:none;\">\n",
              "        \n",
              "  <svg xmlns=\"http://www.w3.org/2000/svg\" height=\"24px\"viewBox=\"0 0 24 24\"\n",
              "       width=\"24px\">\n",
              "    <path d=\"M0 0h24v24H0V0z\" fill=\"none\"/>\n",
              "    <path d=\"M18.56 5.44l.94 2.06.94-2.06 2.06-.94-2.06-.94-.94-2.06-.94 2.06-2.06.94zm-11 1L8.5 8.5l.94-2.06 2.06-.94-2.06-.94L8.5 2.5l-.94 2.06-2.06.94zm10 10l.94 2.06.94-2.06 2.06-.94-2.06-.94-.94-2.06-.94 2.06-2.06.94z\"/><path d=\"M17.41 7.96l-1.37-1.37c-.4-.4-.92-.59-1.43-.59-.52 0-1.04.2-1.43.59L10.3 9.45l-7.72 7.72c-.78.78-.78 2.05 0 2.83L4 21.41c.39.39.9.59 1.41.59.51 0 1.02-.2 1.41-.59l7.78-7.78 2.81-2.81c.8-.78.8-2.07 0-2.86zM5.41 20L4 18.59l7.72-7.72 1.47 1.35L5.41 20z\"/>\n",
              "  </svg>\n",
              "      </button>\n",
              "      \n",
              "  <style>\n",
              "    .colab-df-container {\n",
              "      display:flex;\n",
              "      flex-wrap:wrap;\n",
              "      gap: 12px;\n",
              "    }\n",
              "\n",
              "    .colab-df-convert {\n",
              "      background-color: #E8F0FE;\n",
              "      border: none;\n",
              "      border-radius: 50%;\n",
              "      cursor: pointer;\n",
              "      display: none;\n",
              "      fill: #1967D2;\n",
              "      height: 32px;\n",
              "      padding: 0 0 0 0;\n",
              "      width: 32px;\n",
              "    }\n",
              "\n",
              "    .colab-df-convert:hover {\n",
              "      background-color: #E2EBFA;\n",
              "      box-shadow: 0px 1px 2px rgba(60, 64, 67, 0.3), 0px 1px 3px 1px rgba(60, 64, 67, 0.15);\n",
              "      fill: #174EA6;\n",
              "    }\n",
              "\n",
              "    [theme=dark] .colab-df-convert {\n",
              "      background-color: #3B4455;\n",
              "      fill: #D2E3FC;\n",
              "    }\n",
              "\n",
              "    [theme=dark] .colab-df-convert:hover {\n",
              "      background-color: #434B5C;\n",
              "      box-shadow: 0px 1px 3px 1px rgba(0, 0, 0, 0.15);\n",
              "      filter: drop-shadow(0px 1px 2px rgba(0, 0, 0, 0.3));\n",
              "      fill: #FFFFFF;\n",
              "    }\n",
              "  </style>\n",
              "\n",
              "      <script>\n",
              "        const buttonEl =\n",
              "          document.querySelector('#df-b625b66e-b7c8-4f6b-84c2-7adeff68052a button.colab-df-convert');\n",
              "        buttonEl.style.display =\n",
              "          google.colab.kernel.accessAllowed ? 'block' : 'none';\n",
              "\n",
              "        async function convertToInteractive(key) {\n",
              "          const element = document.querySelector('#df-b625b66e-b7c8-4f6b-84c2-7adeff68052a');\n",
              "          const dataTable =\n",
              "            await google.colab.kernel.invokeFunction('convertToInteractive',\n",
              "                                                     [key], {});\n",
              "          if (!dataTable) return;\n",
              "\n",
              "          const docLinkHtml = 'Like what you see? Visit the ' +\n",
              "            '<a target=\"_blank\" href=https://colab.research.google.com/notebooks/data_table.ipynb>data table notebook</a>'\n",
              "            + ' to learn more about interactive tables.';\n",
              "          element.innerHTML = '';\n",
              "          dataTable['output_type'] = 'display_data';\n",
              "          await google.colab.output.renderOutput(dataTable, element);\n",
              "          const docLink = document.createElement('div');\n",
              "          docLink.innerHTML = docLinkHtml;\n",
              "          element.appendChild(docLink);\n",
              "        }\n",
              "      </script>\n",
              "    </div>\n",
              "  </div>\n",
              "  "
            ]
          },
          "metadata": {},
          "execution_count": 203
        }
      ]
    },
    {
      "cell_type": "markdown",
      "source": [
        "### 제조사"
      ],
      "metadata": {
        "id": "db0l4GxNvQHZ"
      }
    },
    {
      "cell_type": "markdown",
      "source": [
        "- 이름 열에서 제조사 추출\n",
        "    - 띄워쓰기 기준으로 이름을 분리\n",
        "    - 맨 앞에 있는 값을 제조사 열로 추가함"
      ],
      "metadata": {
        "id": "jaMosY3KvSup"
      }
    },
    {
      "cell_type": "code",
      "source": [
        "mf = used_car['이름'].str.split(' ')\n",
        "used_car['제조사'] = mf.str.get(0)"
      ],
      "metadata": {
        "id": "EpU0R2s7vT3P"
      },
      "execution_count": 204,
      "outputs": []
    },
    {
      "cell_type": "code",
      "source": [
        "used_car.제조사.value_counts()"
      ],
      "metadata": {
        "colab": {
          "base_uri": "https://localhost:8080/"
        },
        "id": "WCknko9Yv82U",
        "outputId": "7f9356ce-a356-4436-bc2a-f46779333163"
      },
      "execution_count": 205,
      "outputs": [
        {
          "output_type": "execute_result",
          "data": {
            "text/plain": [
              "현대      1017\n",
              "기아       876\n",
              "제네시스     230\n",
              "쌍용       165\n",
              "쉐보레      154\n",
              "르노삼성     148\n",
              "GM대우      43\n",
              "대우         1\n",
              "Name: 제조사, dtype: int64"
            ]
          },
          "metadata": {},
          "execution_count": 205
        }
      ]
    },
    {
      "cell_type": "markdown",
      "source": [
        "* 제조사 대우, GM 대우는 쉐보레 브랜드로 통합"
      ],
      "metadata": {
        "id": "4y3iV8QJzn7v"
      }
    },
    {
      "cell_type": "code",
      "source": [
        "datafilter1 = used_car['제조사'].str.contains('대우', na = False)"
      ],
      "metadata": {
        "id": "yyp60UNnx4hk"
      },
      "execution_count": 206,
      "outputs": []
    },
    {
      "cell_type": "code",
      "source": [
        "used_car[datafilter1].head()"
      ],
      "metadata": {
        "colab": {
          "base_uri": "https://localhost:8080/",
          "height": 436
        },
        "id": "FYYb-_CGyxuq",
        "outputId": "b403e30d-62c2-446d-ed88-5b3717895cea"
      },
      "execution_count": 207,
      "outputs": [
        {
          "output_type": "execute_result",
          "data": {
            "text/plain": [
              "                                           이름       연식          주행거리   연료  \\\n",
              "3                          GM대우 레스타  캠핑카 -      2019.1     12,000 km   디젤   \n",
              "671             GM대우 라세티 프리미어 1.8  CDX ID 일반형  2010.03    107,000 km  가솔린   \n",
              "691  GM대우 라세티 프리미어  2.0 디젤 CDX 블루 & 블랙 에디션     2009.09    125,244 km   디젤   \n",
              "925           GM대우 윈스톰 2.0 디젤 2WD 7인승  LT 고급형  2008.01    178,279 km   디젤   \n",
              "976                       GM대우 알페온 EL300  스페셜  2011.02  1,517,440 km  가솔린   \n",
              "\n",
              "                  배기량  색상 보증정보       가격 신차대비가격  옵션_선루프  ...  옵션_열선앞  옵션_열선뒤  \\\n",
              "3         3,800 cc ()   1   불가  9,600만원    준비중     NaN  ...     NaN     NaN   \n",
              "671  1,796 cc (142마력)   1   만료    190만원     11     1.0  ...     1.0     0.0   \n",
              "691  1,991 cc (150마력)   1   불가    200만원      9     1.0  ...     1.0     0.0   \n",
              "925  1,991 cc (150마력)   1   만료    260만원     10     NaN  ...     NaN     NaN   \n",
              "976  2,997 cc (263마력)   1   만료    350만원      8     0.0  ...     1.0     1.0   \n",
              "\n",
              "     옵션_전방센서  옵션_후방센서  옵션_전방캠  옵션_후방캠  옵션_어라운드뷰  옵션_네비순정  보험이력등록   제조사  \n",
              "3        NaN      NaN     NaN     NaN       NaN      NaN     미등록  GM대우  \n",
              "671      0.0      1.0     0.0     1.0       0.0      0.0      등록  GM대우  \n",
              "691      0.0      1.0     0.0     1.0       0.0      0.0     미등록  GM대우  \n",
              "925      NaN      NaN     NaN     NaN       NaN      NaN      등록  GM대우  \n",
              "976      0.0      1.0     0.0     0.0       0.0      0.0      등록  GM대우  \n",
              "\n",
              "[5 rows x 21 columns]"
            ],
            "text/html": [
              "\n",
              "  <div id=\"df-2bd2830f-7b3b-47f8-a1c4-244ddf8d5520\">\n",
              "    <div class=\"colab-df-container\">\n",
              "      <div>\n",
              "<style scoped>\n",
              "    .dataframe tbody tr th:only-of-type {\n",
              "        vertical-align: middle;\n",
              "    }\n",
              "\n",
              "    .dataframe tbody tr th {\n",
              "        vertical-align: top;\n",
              "    }\n",
              "\n",
              "    .dataframe thead th {\n",
              "        text-align: right;\n",
              "    }\n",
              "</style>\n",
              "<table border=\"1\" class=\"dataframe\">\n",
              "  <thead>\n",
              "    <tr style=\"text-align: right;\">\n",
              "      <th></th>\n",
              "      <th>이름</th>\n",
              "      <th>연식</th>\n",
              "      <th>주행거리</th>\n",
              "      <th>연료</th>\n",
              "      <th>배기량</th>\n",
              "      <th>색상</th>\n",
              "      <th>보증정보</th>\n",
              "      <th>가격</th>\n",
              "      <th>신차대비가격</th>\n",
              "      <th>옵션_선루프</th>\n",
              "      <th>...</th>\n",
              "      <th>옵션_열선앞</th>\n",
              "      <th>옵션_열선뒤</th>\n",
              "      <th>옵션_전방센서</th>\n",
              "      <th>옵션_후방센서</th>\n",
              "      <th>옵션_전방캠</th>\n",
              "      <th>옵션_후방캠</th>\n",
              "      <th>옵션_어라운드뷰</th>\n",
              "      <th>옵션_네비순정</th>\n",
              "      <th>보험이력등록</th>\n",
              "      <th>제조사</th>\n",
              "    </tr>\n",
              "  </thead>\n",
              "  <tbody>\n",
              "    <tr>\n",
              "      <th>3</th>\n",
              "      <td>GM대우 레스타  캠핑카 -</td>\n",
              "      <td>2019.1</td>\n",
              "      <td>12,000 km</td>\n",
              "      <td>디젤</td>\n",
              "      <td>3,800 cc ()</td>\n",
              "      <td>1</td>\n",
              "      <td>불가</td>\n",
              "      <td>9,600만원</td>\n",
              "      <td>준비중</td>\n",
              "      <td>NaN</td>\n",
              "      <td>...</td>\n",
              "      <td>NaN</td>\n",
              "      <td>NaN</td>\n",
              "      <td>NaN</td>\n",
              "      <td>NaN</td>\n",
              "      <td>NaN</td>\n",
              "      <td>NaN</td>\n",
              "      <td>NaN</td>\n",
              "      <td>NaN</td>\n",
              "      <td>미등록</td>\n",
              "      <td>GM대우</td>\n",
              "    </tr>\n",
              "    <tr>\n",
              "      <th>671</th>\n",
              "      <td>GM대우 라세티 프리미어 1.8  CDX ID 일반형</td>\n",
              "      <td>2010.03</td>\n",
              "      <td>107,000 km</td>\n",
              "      <td>가솔린</td>\n",
              "      <td>1,796 cc (142마력)</td>\n",
              "      <td>1</td>\n",
              "      <td>만료</td>\n",
              "      <td>190만원</td>\n",
              "      <td>11</td>\n",
              "      <td>1.0</td>\n",
              "      <td>...</td>\n",
              "      <td>1.0</td>\n",
              "      <td>0.0</td>\n",
              "      <td>0.0</td>\n",
              "      <td>1.0</td>\n",
              "      <td>0.0</td>\n",
              "      <td>1.0</td>\n",
              "      <td>0.0</td>\n",
              "      <td>0.0</td>\n",
              "      <td>등록</td>\n",
              "      <td>GM대우</td>\n",
              "    </tr>\n",
              "    <tr>\n",
              "      <th>691</th>\n",
              "      <td>GM대우 라세티 프리미어  2.0 디젤 CDX 블루 &amp; 블랙 에디션</td>\n",
              "      <td>2009.09</td>\n",
              "      <td>125,244 km</td>\n",
              "      <td>디젤</td>\n",
              "      <td>1,991 cc (150마력)</td>\n",
              "      <td>1</td>\n",
              "      <td>불가</td>\n",
              "      <td>200만원</td>\n",
              "      <td>9</td>\n",
              "      <td>1.0</td>\n",
              "      <td>...</td>\n",
              "      <td>1.0</td>\n",
              "      <td>0.0</td>\n",
              "      <td>0.0</td>\n",
              "      <td>1.0</td>\n",
              "      <td>0.0</td>\n",
              "      <td>1.0</td>\n",
              "      <td>0.0</td>\n",
              "      <td>0.0</td>\n",
              "      <td>미등록</td>\n",
              "      <td>GM대우</td>\n",
              "    </tr>\n",
              "    <tr>\n",
              "      <th>925</th>\n",
              "      <td>GM대우 윈스톰 2.0 디젤 2WD 7인승  LT 고급형</td>\n",
              "      <td>2008.01</td>\n",
              "      <td>178,279 km</td>\n",
              "      <td>디젤</td>\n",
              "      <td>1,991 cc (150마력)</td>\n",
              "      <td>1</td>\n",
              "      <td>만료</td>\n",
              "      <td>260만원</td>\n",
              "      <td>10</td>\n",
              "      <td>NaN</td>\n",
              "      <td>...</td>\n",
              "      <td>NaN</td>\n",
              "      <td>NaN</td>\n",
              "      <td>NaN</td>\n",
              "      <td>NaN</td>\n",
              "      <td>NaN</td>\n",
              "      <td>NaN</td>\n",
              "      <td>NaN</td>\n",
              "      <td>NaN</td>\n",
              "      <td>등록</td>\n",
              "      <td>GM대우</td>\n",
              "    </tr>\n",
              "    <tr>\n",
              "      <th>976</th>\n",
              "      <td>GM대우 알페온 EL300  스페셜</td>\n",
              "      <td>2011.02</td>\n",
              "      <td>1,517,440 km</td>\n",
              "      <td>가솔린</td>\n",
              "      <td>2,997 cc (263마력)</td>\n",
              "      <td>1</td>\n",
              "      <td>만료</td>\n",
              "      <td>350만원</td>\n",
              "      <td>8</td>\n",
              "      <td>0.0</td>\n",
              "      <td>...</td>\n",
              "      <td>1.0</td>\n",
              "      <td>1.0</td>\n",
              "      <td>0.0</td>\n",
              "      <td>1.0</td>\n",
              "      <td>0.0</td>\n",
              "      <td>0.0</td>\n",
              "      <td>0.0</td>\n",
              "      <td>0.0</td>\n",
              "      <td>등록</td>\n",
              "      <td>GM대우</td>\n",
              "    </tr>\n",
              "  </tbody>\n",
              "</table>\n",
              "<p>5 rows × 21 columns</p>\n",
              "</div>\n",
              "      <button class=\"colab-df-convert\" onclick=\"convertToInteractive('df-2bd2830f-7b3b-47f8-a1c4-244ddf8d5520')\"\n",
              "              title=\"Convert this dataframe to an interactive table.\"\n",
              "              style=\"display:none;\">\n",
              "        \n",
              "  <svg xmlns=\"http://www.w3.org/2000/svg\" height=\"24px\"viewBox=\"0 0 24 24\"\n",
              "       width=\"24px\">\n",
              "    <path d=\"M0 0h24v24H0V0z\" fill=\"none\"/>\n",
              "    <path d=\"M18.56 5.44l.94 2.06.94-2.06 2.06-.94-2.06-.94-.94-2.06-.94 2.06-2.06.94zm-11 1L8.5 8.5l.94-2.06 2.06-.94-2.06-.94L8.5 2.5l-.94 2.06-2.06.94zm10 10l.94 2.06.94-2.06 2.06-.94-2.06-.94-.94-2.06-.94 2.06-2.06.94z\"/><path d=\"M17.41 7.96l-1.37-1.37c-.4-.4-.92-.59-1.43-.59-.52 0-1.04.2-1.43.59L10.3 9.45l-7.72 7.72c-.78.78-.78 2.05 0 2.83L4 21.41c.39.39.9.59 1.41.59.51 0 1.02-.2 1.41-.59l7.78-7.78 2.81-2.81c.8-.78.8-2.07 0-2.86zM5.41 20L4 18.59l7.72-7.72 1.47 1.35L5.41 20z\"/>\n",
              "  </svg>\n",
              "      </button>\n",
              "      \n",
              "  <style>\n",
              "    .colab-df-container {\n",
              "      display:flex;\n",
              "      flex-wrap:wrap;\n",
              "      gap: 12px;\n",
              "    }\n",
              "\n",
              "    .colab-df-convert {\n",
              "      background-color: #E8F0FE;\n",
              "      border: none;\n",
              "      border-radius: 50%;\n",
              "      cursor: pointer;\n",
              "      display: none;\n",
              "      fill: #1967D2;\n",
              "      height: 32px;\n",
              "      padding: 0 0 0 0;\n",
              "      width: 32px;\n",
              "    }\n",
              "\n",
              "    .colab-df-convert:hover {\n",
              "      background-color: #E2EBFA;\n",
              "      box-shadow: 0px 1px 2px rgba(60, 64, 67, 0.3), 0px 1px 3px 1px rgba(60, 64, 67, 0.15);\n",
              "      fill: #174EA6;\n",
              "    }\n",
              "\n",
              "    [theme=dark] .colab-df-convert {\n",
              "      background-color: #3B4455;\n",
              "      fill: #D2E3FC;\n",
              "    }\n",
              "\n",
              "    [theme=dark] .colab-df-convert:hover {\n",
              "      background-color: #434B5C;\n",
              "      box-shadow: 0px 1px 3px 1px rgba(0, 0, 0, 0.15);\n",
              "      filter: drop-shadow(0px 1px 2px rgba(0, 0, 0, 0.3));\n",
              "      fill: #FFFFFF;\n",
              "    }\n",
              "  </style>\n",
              "\n",
              "      <script>\n",
              "        const buttonEl =\n",
              "          document.querySelector('#df-2bd2830f-7b3b-47f8-a1c4-244ddf8d5520 button.colab-df-convert');\n",
              "        buttonEl.style.display =\n",
              "          google.colab.kernel.accessAllowed ? 'block' : 'none';\n",
              "\n",
              "        async function convertToInteractive(key) {\n",
              "          const element = document.querySelector('#df-2bd2830f-7b3b-47f8-a1c4-244ddf8d5520');\n",
              "          const dataTable =\n",
              "            await google.colab.kernel.invokeFunction('convertToInteractive',\n",
              "                                                     [key], {});\n",
              "          if (!dataTable) return;\n",
              "\n",
              "          const docLinkHtml = 'Like what you see? Visit the ' +\n",
              "            '<a target=\"_blank\" href=https://colab.research.google.com/notebooks/data_table.ipynb>data table notebook</a>'\n",
              "            + ' to learn more about interactive tables.';\n",
              "          element.innerHTML = '';\n",
              "          dataTable['output_type'] = 'display_data';\n",
              "          await google.colab.output.renderOutput(dataTable, element);\n",
              "          const docLink = document.createElement('div');\n",
              "          docLink.innerHTML = docLinkHtml;\n",
              "          element.appendChild(docLink);\n",
              "        }\n",
              "      </script>\n",
              "    </div>\n",
              "  </div>\n",
              "  "
            ]
          },
          "metadata": {},
          "execution_count": 207
        }
      ]
    },
    {
      "cell_type": "code",
      "source": [
        "used_car.loc[datafilter1, '제조사'] = '쉐보레'"
      ],
      "metadata": {
        "id": "tTT7K1cYvzkv"
      },
      "execution_count": 208,
      "outputs": []
    },
    {
      "cell_type": "code",
      "source": [
        "used_car.제조사.value_counts()"
      ],
      "metadata": {
        "colab": {
          "base_uri": "https://localhost:8080/"
        },
        "id": "e0Y3_2JLzUmg",
        "outputId": "039049ad-e2ee-4990-909d-b9fabdf9f084"
      },
      "execution_count": 209,
      "outputs": [
        {
          "output_type": "execute_result",
          "data": {
            "text/plain": [
              "현대      1017\n",
              "기아       876\n",
              "제네시스     230\n",
              "쉐보레      198\n",
              "쌍용       165\n",
              "르노삼성     148\n",
              "Name: 제조사, dtype: int64"
            ]
          },
          "metadata": {},
          "execution_count": 209
        }
      ]
    },
    {
      "cell_type": "code",
      "source": [
        "used_car.제조사.unique()"
      ],
      "metadata": {
        "colab": {
          "base_uri": "https://localhost:8080/"
        },
        "id": "lic4ta0k1gPw",
        "outputId": "9af584f8-818c-4c45-846c-82fe82d29fd6"
      },
      "execution_count": 210,
      "outputs": [
        {
          "output_type": "execute_result",
          "data": {
            "text/plain": [
              "array(['쉐보레', '현대', '기아', '쌍용', '제네시스', '르노삼성'], dtype=object)"
            ]
          },
          "metadata": {},
          "execution_count": 210
        }
      ]
    },
    {
      "cell_type": "markdown",
      "source": [
        "* 제조사 encoding"
      ],
      "metadata": {
        "id": "dhLkg5L809BV"
      }
    },
    {
      "cell_type": "code",
      "source": [
        "from sklearn.preprocessing import LabelEncoder\n",
        "\n",
        "encoder1 = LabelEncoder()\n",
        "LE = encoder1.fit_transform(used_car['제조사'])\n",
        "\n",
        "used_car['제조사'] = LE"
      ],
      "metadata": {
        "id": "fLwoWHzp1CjC"
      },
      "execution_count": 211,
      "outputs": []
    },
    {
      "cell_type": "code",
      "source": [
        "used_car.제조사.value_counts()"
      ],
      "metadata": {
        "colab": {
          "base_uri": "https://localhost:8080/"
        },
        "id": "PdZDmLjt1Ilj",
        "outputId": "0355bc78-2c25-40eb-b811-495e8668705d"
      },
      "execution_count": 212,
      "outputs": [
        {
          "output_type": "execute_result",
          "data": {
            "text/plain": [
              "5    1017\n",
              "0     876\n",
              "4     230\n",
              "2     198\n",
              "3     165\n",
              "1     148\n",
              "Name: 제조사, dtype: int64"
            ]
          },
          "metadata": {},
          "execution_count": 212
        }
      ]
    },
    {
      "cell_type": "markdown",
      "source": [
        "## 2.연식"
      ],
      "metadata": {
        "id": "YVawz03Kvuw-"
      }
    },
    {
      "cell_type": "markdown",
      "source": [
        "- 기존 연식 데이터에서 연도만 추출\n",
        "    - 숫자만 있는 데이터가 있어 str.split 불가 → 연식 데이터 타입 str로 변환\n",
        "    - ‘.’ 기준으로 분리\n",
        "    - 0번째 데이터를 연도 열에 추가 후 데이터 타입 변환"
      ],
      "metadata": {
        "id": "PUqKzc_YbiGx"
      }
    },
    {
      "cell_type": "code",
      "source": [
        "used_car = used_car.astype({'연식':'str'})"
      ],
      "metadata": {
        "id": "EYwd0ougyntG"
      },
      "execution_count": 213,
      "outputs": []
    },
    {
      "cell_type": "code",
      "source": [
        "year = used_car['연식'].str.split('.')\n",
        "year = year.str.get(0)"
      ],
      "metadata": {
        "id": "CGOsMUmznDpu"
      },
      "execution_count": 214,
      "outputs": []
    },
    {
      "cell_type": "code",
      "source": [
        "used_car['연식'] = year"
      ],
      "metadata": {
        "id": "5g66R1WIpgTD"
      },
      "execution_count": 215,
      "outputs": []
    },
    {
      "cell_type": "code",
      "source": [
        "used_car = used_car.astype({'연식':'int'})\n",
        "used_car['연식']"
      ],
      "metadata": {
        "colab": {
          "base_uri": "https://localhost:8080/"
        },
        "id": "MyDIIkMuKqpw",
        "outputId": "277221f8-22d5-472b-c1b3-07068d314ca2"
      },
      "execution_count": 216,
      "outputs": [
        {
          "output_type": "execute_result",
          "data": {
            "text/plain": [
              "0       2021\n",
              "1       2018\n",
              "2       2020\n",
              "3       2019\n",
              "4       2020\n",
              "        ... \n",
              "2629    2021\n",
              "2630    2021\n",
              "2631    2021\n",
              "2632    2019\n",
              "2633    2012\n",
              "Name: 연식, Length: 2634, dtype: int64"
            ]
          },
          "metadata": {},
          "execution_count": 216
        }
      ]
    },
    {
      "cell_type": "markdown",
      "source": [
        "## 2.주행거리"
      ],
      "metadata": {
        "id": "SPa_JbVy0moP"
      }
    },
    {
      "cell_type": "markdown",
      "source": [
        "- 주행 거리 수정\n",
        "    - ‘km’ 삭제\n",
        "    - ‘,’ 삭제\n",
        "    - 데이터 타입 변환"
      ],
      "metadata": {
        "id": "IIY5TWh0b-Et"
      }
    },
    {
      "cell_type": "code",
      "source": [
        "used_car['주행거리'] = used_car['주행거리'].str.strip('km')"
      ],
      "metadata": {
        "id": "Pdv84z0h0rva"
      },
      "execution_count": 217,
      "outputs": []
    },
    {
      "cell_type": "code",
      "source": [
        "used_car['주행거리'] = used_car['주행거리'].str.replace(',','')\n",
        "used_car['주행거리']"
      ],
      "metadata": {
        "colab": {
          "base_uri": "https://localhost:8080/"
        },
        "id": "LGAId9ALQ8rI",
        "outputId": "6371eceb-616a-4238-b9b8-7196c9050c85"
      },
      "execution_count": 218,
      "outputs": [
        {
          "output_type": "execute_result",
          "data": {
            "text/plain": [
              "0        16250 \n",
              "1        67696 \n",
              "2        29000 \n",
              "3        12000 \n",
              "4         5600 \n",
              "         ...   \n",
              "2629      1661 \n",
              "2630         8 \n",
              "2631         9 \n",
              "2632     46557 \n",
              "2633    340267 \n",
              "Name: 주행거리, Length: 2634, dtype: object"
            ]
          },
          "metadata": {},
          "execution_count": 218
        }
      ]
    },
    {
      "cell_type": "code",
      "source": [
        "used_car = used_car.astype({'주행거리':'int'})\n",
        "used_car['주행거리']"
      ],
      "metadata": {
        "colab": {
          "base_uri": "https://localhost:8080/"
        },
        "id": "DIgf_1OQRSWa",
        "outputId": "f1fe20c7-ea6d-4722-ed52-bac63c96d5a5"
      },
      "execution_count": 219,
      "outputs": [
        {
          "output_type": "execute_result",
          "data": {
            "text/plain": [
              "0        16250\n",
              "1        67696\n",
              "2        29000\n",
              "3        12000\n",
              "4         5600\n",
              "         ...  \n",
              "2629      1661\n",
              "2630         8\n",
              "2631         9\n",
              "2632     46557\n",
              "2633    340267\n",
              "Name: 주행거리, Length: 2634, dtype: int64"
            ]
          },
          "metadata": {},
          "execution_count": 219
        }
      ]
    },
    {
      "cell_type": "markdown",
      "source": [
        "## 4.연료"
      ],
      "metadata": {
        "id": "nQ8OtU4mRx5X"
      }
    },
    {
      "cell_type": "markdown",
      "source": [
        "- 연료 인코딩 결과\n",
        "    - 0 = LPG\n",
        "    - 1 = LPG 하이브리드\n",
        "    - 2 = 가솔린\n",
        "    - 3 = 가솔린 하이브리드\n",
        "    - 4 = 가솔린/CNG 겸용\n",
        "    - 5 = 가솔린/LPG 겸용\n",
        "    - 6 = 기타\n",
        "    - 7 = 디젤\n",
        "    - 8 = 디젤 하이브리드\n",
        "    - 9 = 전기\n",
        "    - 10 = 하이브리드(가솔린/전기)"
      ],
      "metadata": {
        "id": "qYMoSoR_cEgu"
      }
    },
    {
      "cell_type": "code",
      "source": [
        "used_car['연료'].value_counts()"
      ],
      "metadata": {
        "colab": {
          "base_uri": "https://localhost:8080/"
        },
        "id": "R8YHAAQjR046",
        "outputId": "c745da2a-f00d-4858-934a-1f1ab000769c"
      },
      "execution_count": 220,
      "outputs": [
        {
          "output_type": "execute_result",
          "data": {
            "text/plain": [
              "가솔린              1295\n",
              "디젤               1063\n",
              "LPG               163\n",
              "가솔린 하이브리드          57\n",
              "전기                 42\n",
              "가솔린/LPG겸용           6\n",
              "LPG 하이브리드           3\n",
              "하이브리드(가솔린/전기)       3\n",
              "디젤 하이브리드            1\n",
              "가솔린/CNG겸용           1\n",
              "Name: 연료, dtype: int64"
            ]
          },
          "metadata": {},
          "execution_count": 220
        }
      ]
    },
    {
      "cell_type": "code",
      "source": [
        "from sklearn.preprocessing import LabelEncoder\n",
        "\n",
        "encoder1 = LabelEncoder()\n",
        "LE = encoder1.fit_transform(used_car['연료'])"
      ],
      "metadata": {
        "id": "D4pRO9oMR01N"
      },
      "execution_count": 221,
      "outputs": []
    },
    {
      "cell_type": "code",
      "source": [
        "used_car['연료'] = LE"
      ],
      "metadata": {
        "id": "UQhPE_3TR0hp"
      },
      "execution_count": 222,
      "outputs": []
    },
    {
      "cell_type": "code",
      "source": [
        "used_car['연료']"
      ],
      "metadata": {
        "colab": {
          "base_uri": "https://localhost:8080/"
        },
        "id": "kwCWIYQHTLAv",
        "outputId": "fd73e394-3599-486a-d39c-cd1a643249e4"
      },
      "execution_count": 223,
      "outputs": [
        {
          "output_type": "execute_result",
          "data": {
            "text/plain": [
              "0       2\n",
              "1       6\n",
              "2       6\n",
              "3       6\n",
              "4       6\n",
              "       ..\n",
              "2629    2\n",
              "2630    6\n",
              "2631    6\n",
              "2632    2\n",
              "2633    2\n",
              "Name: 연료, Length: 2634, dtype: int64"
            ]
          },
          "metadata": {},
          "execution_count": 223
        }
      ]
    },
    {
      "cell_type": "code",
      "source": [
        "used_car['연료'].value_counts()"
      ],
      "metadata": {
        "colab": {
          "base_uri": "https://localhost:8080/"
        },
        "id": "rWhjjyERkocX",
        "outputId": "8ddd9b62-0e87-4199-8651-e7c0425b5b46"
      },
      "execution_count": 224,
      "outputs": [
        {
          "output_type": "execute_result",
          "data": {
            "text/plain": [
              "2    1295\n",
              "6    1063\n",
              "0     163\n",
              "3      57\n",
              "8      42\n",
              "5       6\n",
              "1       3\n",
              "9       3\n",
              "7       1\n",
              "4       1\n",
              "Name: 연료, dtype: int64"
            ]
          },
          "metadata": {},
          "execution_count": 224
        }
      ]
    },
    {
      "cell_type": "markdown",
      "source": [
        "## 5.배기량"
      ],
      "metadata": {
        "id": "l0Kl8V6qTR6z"
      }
    },
    {
      "cell_type": "markdown",
      "source": [
        "- 배기량 전처리\n",
        "    - 공백 기준으로 분리\n",
        "    - 맨 처음 값 배기량 데이터로 변경\n",
        "    - ‘,’ 삭제\n",
        "    - 데이터 타입 변경"
      ],
      "metadata": {
        "id": "pmMtd8JwcHFx"
      }
    },
    {
      "cell_type": "code",
      "source": [
        "used_car['배기량']"
      ],
      "metadata": {
        "colab": {
          "base_uri": "https://localhost:8080/"
        },
        "id": "-kPMvfolTRp8",
        "outputId": "926dc5de-3112-4841-f1d2-f6c9e17967ce"
      },
      "execution_count": 225,
      "outputs": [
        {
          "output_type": "execute_result",
          "data": {
            "text/plain": [
              "0          999 cc (75마력)\n",
              "1       1,598 cc (136마력)\n",
              "2       2,497 cc (133마력)\n",
              "3            3,800 cc ()\n",
              "4       2,497 cc (133마력)\n",
              "              ...       \n",
              "2629    3,470 cc (294마력)\n",
              "2630    2,151 cc (202마력)\n",
              "2631    2,151 cc (202마력)\n",
              "2632         1,998 cc ()\n",
              "2633        12,742 cc ()\n",
              "Name: 배기량, Length: 2634, dtype: object"
            ]
          },
          "metadata": {},
          "execution_count": 225
        }
      ]
    },
    {
      "cell_type": "code",
      "source": [
        "disp = used_car['배기량'].str.split(' ')\n",
        "disp = disp.str.get(0)\n",
        "used_car['배기량'] = disp"
      ],
      "metadata": {
        "id": "f6NyprA2UfRk"
      },
      "execution_count": 226,
      "outputs": []
    },
    {
      "cell_type": "code",
      "source": [
        "used_car['배기량'] = used_car['배기량'].str.replace(',','')\n",
        "used_car = used_car.astype({'배기량':'int'})\n",
        "used_car['배기량']"
      ],
      "metadata": {
        "colab": {
          "base_uri": "https://localhost:8080/"
        },
        "id": "nSrukBZFVseJ",
        "outputId": "829b1a2d-2488-41f2-ea73-88a349e9388b"
      },
      "execution_count": 227,
      "outputs": [
        {
          "output_type": "execute_result",
          "data": {
            "text/plain": [
              "0         999\n",
              "1        1598\n",
              "2        2497\n",
              "3        3800\n",
              "4        2497\n",
              "        ...  \n",
              "2629     3470\n",
              "2630     2151\n",
              "2631     2151\n",
              "2632     1998\n",
              "2633    12742\n",
              "Name: 배기량, Length: 2634, dtype: int64"
            ]
          },
          "metadata": {},
          "execution_count": 227
        }
      ]
    },
    {
      "cell_type": "markdown",
      "source": [
        "## 6.색상"
      ],
      "metadata": {
        "id": "IBjtCJ6PV7HR"
      }
    },
    {
      "cell_type": "markdown",
      "source": [
        "- 엑셀 수정\n",
        "    - 흰색: 다이아몬드화이트, 스노우 화이트 펄, 우유니화이트, 크리미화이트 등\n",
        "- 색상 encoding\n",
        "    - 검정, 흰색, 회색 = 1\n",
        "    - 나머지 = 0"
      ],
      "metadata": {
        "id": "r7RMMEe8cKHl"
      }
    },
    {
      "cell_type": "code",
      "source": [
        "used_car['색상'].value_counts()"
      ],
      "metadata": {
        "colab": {
          "base_uri": "https://localhost:8080/"
        },
        "id": "bKmnnq5cV_Wf",
        "outputId": "628fe8f1-2539-4df2-f7c3-d4cff42707cd"
      },
      "execution_count": 228,
      "outputs": [
        {
          "output_type": "execute_result",
          "data": {
            "text/plain": [
              "1    2305\n",
              "0     329\n",
              "Name: 색상, dtype: int64"
            ]
          },
          "metadata": {},
          "execution_count": 228
        }
      ]
    },
    {
      "cell_type": "markdown",
      "source": [
        "##7.보증정보"
      ],
      "metadata": {
        "id": "5eG2UtXFWEZe"
      }
    },
    {
      "cell_type": "markdown",
      "source": [
        "- 보증 정보 encoding\n",
        "    - 만료, 불가, 정보 없음 = 0\n",
        "    - 나머지 = 1"
      ],
      "metadata": {
        "id": "8HZNUtOvcMmx"
      }
    },
    {
      "cell_type": "code",
      "source": [
        "used_car['보증정보'].value_counts()"
      ],
      "metadata": {
        "colab": {
          "base_uri": "https://localhost:8080/"
        },
        "id": "vNTUHDW3WHJu",
        "outputId": "b5268e47-bf20-49ba-b07f-ee13319c88c4"
      },
      "execution_count": 229,
      "outputs": [
        {
          "output_type": "execute_result",
          "data": {
            "text/plain": [
              "만료                   911\n",
              "불가                   660\n",
              "60개월 / 100,000km     654\n",
              "정보없음                 311\n",
              "60개월 / 120,000km      58\n",
              "132개월 / 220,000km     17\n",
              "36개월 / 60,000km       12\n",
              "24개월 / 40,000km        5\n",
              "가능                     3\n",
              "144개월 / 240,000km      2\n",
              "168개월 / 300,000km      1\n",
              "Name: 보증정보, dtype: int64"
            ]
          },
          "metadata": {},
          "execution_count": 229
        }
      ]
    },
    {
      "cell_type": "code",
      "source": [
        "change_warranty = {'보증정보': {'만료':0, '불가':0,'60개월 / 100,000km':1,'정보없음':0,\n",
        "                                '60개월 / 120,000km':1,'132개월 / 220,000km':1,'36개월 / 60,000km':1,\n",
        "                                '24개월 / 40,000km':1,'가능':1,'144개월 / 240,000km':1,'168개월 / 300,000km':1}}\n",
        "\n",
        "used_car = used_car.replace(change_warranty)\n",
        "\n",
        "used_car['보증정보']"
      ],
      "metadata": {
        "colab": {
          "base_uri": "https://localhost:8080/"
        },
        "id": "evXwYL_hgQ7j",
        "outputId": "4cd5e9fe-b520-49b0-cce6-5275764030fc"
      },
      "execution_count": 230,
      "outputs": [
        {
          "output_type": "execute_result",
          "data": {
            "text/plain": [
              "0       1\n",
              "1       1\n",
              "2       0\n",
              "3       0\n",
              "4       0\n",
              "       ..\n",
              "2629    1\n",
              "2630    1\n",
              "2631    1\n",
              "2632    0\n",
              "2633    0\n",
              "Name: 보증정보, Length: 2634, dtype: int64"
            ]
          },
          "metadata": {},
          "execution_count": 230
        }
      ]
    },
    {
      "cell_type": "code",
      "source": [
        "# def change_warranty(warranty):\n",
        "#   if warranty.str.isalnum() == True:\n",
        "#     return 1\n",
        "#   else:\n",
        "#     return 0\n",
        "\n",
        "# 함수로 해결하려고 했는데 오류나요 .."
      ],
      "metadata": {
        "id": "hdBhAl70ZqHb"
      },
      "execution_count": 231,
      "outputs": []
    },
    {
      "cell_type": "code",
      "source": [
        "# used_car['보증정보'] = used_car['보증정보'].apply(change_warranty)\n",
        "# used_car['보증정보']"
      ],
      "metadata": {
        "id": "teZI9Au2a7LM"
      },
      "execution_count": 232,
      "outputs": []
    },
    {
      "cell_type": "markdown",
      "source": [
        "##8.가격"
      ],
      "metadata": {
        "id": "eUphSnYihJrp"
      }
    },
    {
      "cell_type": "markdown",
      "source": [
        "- 가격 만원 단위로 절삭\n",
        "    - 만원 단위 삭제\n",
        "    - ‘,’ 삭제\n",
        "    - 데이터 타입 변환"
      ],
      "metadata": {
        "id": "zDPb6_Alcg5D"
      }
    },
    {
      "cell_type": "code",
      "source": [
        "used_car['가격']"
      ],
      "metadata": {
        "colab": {
          "base_uri": "https://localhost:8080/"
        },
        "id": "KVzPZjNKhNVl",
        "outputId": "ce902915-bb2a-4917-8fb5-80a2a2ec4801"
      },
      "execution_count": 233,
      "outputs": [
        {
          "output_type": "execute_result",
          "data": {
            "text/plain": [
              "0       1,100만원\n",
              "1       1,699만원\n",
              "2       7,480만원\n",
              "3       9,600만원\n",
              "4       7,150만원\n",
              "         ...   \n",
              "2629    8,300만원\n",
              "2630    8,300만원\n",
              "2631    6,280만원\n",
              "2632    2,100만원\n",
              "2633    4,700만원\n",
              "Name: 가격, Length: 2634, dtype: object"
            ]
          },
          "metadata": {},
          "execution_count": 233
        }
      ]
    },
    {
      "cell_type": "code",
      "source": [
        "used_car['가격'] = used_car['가격'].str.strip('만원')"
      ],
      "metadata": {
        "id": "9zezx6ahhZz6"
      },
      "execution_count": 234,
      "outputs": []
    },
    {
      "cell_type": "code",
      "source": [
        "used_car['가격'] = used_car['가격'].str.replace(',','')\n",
        "used_car['가격']"
      ],
      "metadata": {
        "colab": {
          "base_uri": "https://localhost:8080/"
        },
        "id": "E0r3UCalhiiw",
        "outputId": "c9860b52-35b4-4461-dcff-700eb7c41371"
      },
      "execution_count": 235,
      "outputs": [
        {
          "output_type": "execute_result",
          "data": {
            "text/plain": [
              "0       1100\n",
              "1       1699\n",
              "2       7480\n",
              "3       9600\n",
              "4       7150\n",
              "        ... \n",
              "2629    8300\n",
              "2630    8300\n",
              "2631    6280\n",
              "2632    2100\n",
              "2633    4700\n",
              "Name: 가격, Length: 2634, dtype: object"
            ]
          },
          "metadata": {},
          "execution_count": 235
        }
      ]
    },
    {
      "cell_type": "code",
      "source": [
        "used_car "
      ],
      "metadata": {
        "colab": {
          "base_uri": "https://localhost:8080/",
          "height": 607
        },
        "id": "AyK8qjRr32M0",
        "outputId": "e1fa4c6b-9325-4658-9269-79a9c66107c3"
      },
      "execution_count": 236,
      "outputs": [
        {
          "output_type": "execute_result",
          "data": {
            "text/plain": [
              "                                   이름    연식    주행거리  연료    배기량  색상  보증정보  \\\n",
              "0                쉐보레 더 뉴 스파크 1.0 프리미어  2021   16250   2    999   1     1   \n",
              "1           현대 올 뉴 투싼 1.6 디젤 2WD  스마트  2018   67696   6   1598   1     1   \n",
              "2                기아 더 뉴 봉고3  캠핑카 -     2020   29000   6   2497   1     0   \n",
              "3                  GM대우 레스타  캠핑카 -     2019   12000   6   3800   1     0   \n",
              "4                기아 더 뉴 봉고3  캠핑카 -     2020    5600   6   2497   1     0   \n",
              "...                               ...   ...     ...  ..    ...  ..   ...   \n",
              "2629  기아 카니발 4세대  3.5 가솔린 9인승 시그니처     2021    1661   2   3470   1     1   \n",
              "2630   기아 카니발 4세대  2.2 디젤 9인승 시그니처     2021       8   6   2151   1     1   \n",
              "2631   기아 카니발 4세대  2.2 디젤 9인승 시그니처     2021       9   6   2151   1     1   \n",
              "2632        현대 벨로스터 N  2.0 터보 퍼포먼스팩    2019   46557   2   1998   0     0   \n",
              "2633   기아 그랜버드  HD 마일드브리즈 46인승 자가용     2012  340267   2  12742   0     0   \n",
              "\n",
              "        가격 신차대비가격  옵션_선루프  ...  옵션_열선앞  옵션_열선뒤  옵션_전방센서  옵션_후방센서  옵션_전방캠  \\\n",
              "0     1100     75     0.0  ...     1.0     0.0      0.0      1.0     0.0   \n",
              "1     1699     71     0.0  ...     1.0     0.0      0.0      1.0     0.0   \n",
              "2     7480    준비중     NaN  ...     NaN     NaN      NaN      NaN     NaN   \n",
              "3     9600    준비중     NaN  ...     NaN     NaN      NaN      NaN     NaN   \n",
              "4     7150    준비중     NaN  ...     NaN     NaN      NaN      NaN     NaN   \n",
              "...    ...    ...     ...  ...     ...     ...      ...      ...     ...   \n",
              "2629  8300    준비중     0.0  ...     1.0     1.0      1.0      1.0     1.0   \n",
              "2630  8300    202     0.0  ...     1.0     1.0      1.0      1.0     1.0   \n",
              "2631  6280    152     NaN  ...     NaN     NaN      NaN      NaN     NaN   \n",
              "2632  2100     66     0.0  ...     1.0     0.0      1.0      1.0     0.0   \n",
              "2633  4700    준비중     0.0  ...     0.0     0.0      0.0      0.0     0.0   \n",
              "\n",
              "      옵션_후방캠  옵션_어라운드뷰  옵션_네비순정  보험이력등록 제조사  \n",
              "0        1.0       0.0      0.0      등록   2  \n",
              "1        0.0       0.0      0.0      등록   5  \n",
              "2        NaN       NaN      NaN     미등록   0  \n",
              "3        NaN       NaN      NaN     미등록   2  \n",
              "4        NaN       NaN      NaN     미등록   0  \n",
              "...      ...       ...      ...     ...  ..  \n",
              "2629     1.0       1.0      1.0     미등록   0  \n",
              "2630     1.0       1.0      1.0     미등록   0  \n",
              "2631     NaN       NaN      NaN     미등록   0  \n",
              "2632     1.0       0.0      1.0     미등록   5  \n",
              "2633     0.0       0.0      0.0     미등록   0  \n",
              "\n",
              "[2634 rows x 21 columns]"
            ],
            "text/html": [
              "\n",
              "  <div id=\"df-77cb2668-f007-4ef0-b8a6-364f78958f94\">\n",
              "    <div class=\"colab-df-container\">\n",
              "      <div>\n",
              "<style scoped>\n",
              "    .dataframe tbody tr th:only-of-type {\n",
              "        vertical-align: middle;\n",
              "    }\n",
              "\n",
              "    .dataframe tbody tr th {\n",
              "        vertical-align: top;\n",
              "    }\n",
              "\n",
              "    .dataframe thead th {\n",
              "        text-align: right;\n",
              "    }\n",
              "</style>\n",
              "<table border=\"1\" class=\"dataframe\">\n",
              "  <thead>\n",
              "    <tr style=\"text-align: right;\">\n",
              "      <th></th>\n",
              "      <th>이름</th>\n",
              "      <th>연식</th>\n",
              "      <th>주행거리</th>\n",
              "      <th>연료</th>\n",
              "      <th>배기량</th>\n",
              "      <th>색상</th>\n",
              "      <th>보증정보</th>\n",
              "      <th>가격</th>\n",
              "      <th>신차대비가격</th>\n",
              "      <th>옵션_선루프</th>\n",
              "      <th>...</th>\n",
              "      <th>옵션_열선앞</th>\n",
              "      <th>옵션_열선뒤</th>\n",
              "      <th>옵션_전방센서</th>\n",
              "      <th>옵션_후방센서</th>\n",
              "      <th>옵션_전방캠</th>\n",
              "      <th>옵션_후방캠</th>\n",
              "      <th>옵션_어라운드뷰</th>\n",
              "      <th>옵션_네비순정</th>\n",
              "      <th>보험이력등록</th>\n",
              "      <th>제조사</th>\n",
              "    </tr>\n",
              "  </thead>\n",
              "  <tbody>\n",
              "    <tr>\n",
              "      <th>0</th>\n",
              "      <td>쉐보레 더 뉴 스파크 1.0 프리미어</td>\n",
              "      <td>2021</td>\n",
              "      <td>16250</td>\n",
              "      <td>2</td>\n",
              "      <td>999</td>\n",
              "      <td>1</td>\n",
              "      <td>1</td>\n",
              "      <td>1100</td>\n",
              "      <td>75</td>\n",
              "      <td>0.0</td>\n",
              "      <td>...</td>\n",
              "      <td>1.0</td>\n",
              "      <td>0.0</td>\n",
              "      <td>0.0</td>\n",
              "      <td>1.0</td>\n",
              "      <td>0.0</td>\n",
              "      <td>1.0</td>\n",
              "      <td>0.0</td>\n",
              "      <td>0.0</td>\n",
              "      <td>등록</td>\n",
              "      <td>2</td>\n",
              "    </tr>\n",
              "    <tr>\n",
              "      <th>1</th>\n",
              "      <td>현대 올 뉴 투싼 1.6 디젤 2WD  스마트</td>\n",
              "      <td>2018</td>\n",
              "      <td>67696</td>\n",
              "      <td>6</td>\n",
              "      <td>1598</td>\n",
              "      <td>1</td>\n",
              "      <td>1</td>\n",
              "      <td>1699</td>\n",
              "      <td>71</td>\n",
              "      <td>0.0</td>\n",
              "      <td>...</td>\n",
              "      <td>1.0</td>\n",
              "      <td>0.0</td>\n",
              "      <td>0.0</td>\n",
              "      <td>1.0</td>\n",
              "      <td>0.0</td>\n",
              "      <td>0.0</td>\n",
              "      <td>0.0</td>\n",
              "      <td>0.0</td>\n",
              "      <td>등록</td>\n",
              "      <td>5</td>\n",
              "    </tr>\n",
              "    <tr>\n",
              "      <th>2</th>\n",
              "      <td>기아 더 뉴 봉고3  캠핑카 -</td>\n",
              "      <td>2020</td>\n",
              "      <td>29000</td>\n",
              "      <td>6</td>\n",
              "      <td>2497</td>\n",
              "      <td>1</td>\n",
              "      <td>0</td>\n",
              "      <td>7480</td>\n",
              "      <td>준비중</td>\n",
              "      <td>NaN</td>\n",
              "      <td>...</td>\n",
              "      <td>NaN</td>\n",
              "      <td>NaN</td>\n",
              "      <td>NaN</td>\n",
              "      <td>NaN</td>\n",
              "      <td>NaN</td>\n",
              "      <td>NaN</td>\n",
              "      <td>NaN</td>\n",
              "      <td>NaN</td>\n",
              "      <td>미등록</td>\n",
              "      <td>0</td>\n",
              "    </tr>\n",
              "    <tr>\n",
              "      <th>3</th>\n",
              "      <td>GM대우 레스타  캠핑카 -</td>\n",
              "      <td>2019</td>\n",
              "      <td>12000</td>\n",
              "      <td>6</td>\n",
              "      <td>3800</td>\n",
              "      <td>1</td>\n",
              "      <td>0</td>\n",
              "      <td>9600</td>\n",
              "      <td>준비중</td>\n",
              "      <td>NaN</td>\n",
              "      <td>...</td>\n",
              "      <td>NaN</td>\n",
              "      <td>NaN</td>\n",
              "      <td>NaN</td>\n",
              "      <td>NaN</td>\n",
              "      <td>NaN</td>\n",
              "      <td>NaN</td>\n",
              "      <td>NaN</td>\n",
              "      <td>NaN</td>\n",
              "      <td>미등록</td>\n",
              "      <td>2</td>\n",
              "    </tr>\n",
              "    <tr>\n",
              "      <th>4</th>\n",
              "      <td>기아 더 뉴 봉고3  캠핑카 -</td>\n",
              "      <td>2020</td>\n",
              "      <td>5600</td>\n",
              "      <td>6</td>\n",
              "      <td>2497</td>\n",
              "      <td>1</td>\n",
              "      <td>0</td>\n",
              "      <td>7150</td>\n",
              "      <td>준비중</td>\n",
              "      <td>NaN</td>\n",
              "      <td>...</td>\n",
              "      <td>NaN</td>\n",
              "      <td>NaN</td>\n",
              "      <td>NaN</td>\n",
              "      <td>NaN</td>\n",
              "      <td>NaN</td>\n",
              "      <td>NaN</td>\n",
              "      <td>NaN</td>\n",
              "      <td>NaN</td>\n",
              "      <td>미등록</td>\n",
              "      <td>0</td>\n",
              "    </tr>\n",
              "    <tr>\n",
              "      <th>...</th>\n",
              "      <td>...</td>\n",
              "      <td>...</td>\n",
              "      <td>...</td>\n",
              "      <td>...</td>\n",
              "      <td>...</td>\n",
              "      <td>...</td>\n",
              "      <td>...</td>\n",
              "      <td>...</td>\n",
              "      <td>...</td>\n",
              "      <td>...</td>\n",
              "      <td>...</td>\n",
              "      <td>...</td>\n",
              "      <td>...</td>\n",
              "      <td>...</td>\n",
              "      <td>...</td>\n",
              "      <td>...</td>\n",
              "      <td>...</td>\n",
              "      <td>...</td>\n",
              "      <td>...</td>\n",
              "      <td>...</td>\n",
              "      <td>...</td>\n",
              "    </tr>\n",
              "    <tr>\n",
              "      <th>2629</th>\n",
              "      <td>기아 카니발 4세대  3.5 가솔린 9인승 시그니처</td>\n",
              "      <td>2021</td>\n",
              "      <td>1661</td>\n",
              "      <td>2</td>\n",
              "      <td>3470</td>\n",
              "      <td>1</td>\n",
              "      <td>1</td>\n",
              "      <td>8300</td>\n",
              "      <td>준비중</td>\n",
              "      <td>0.0</td>\n",
              "      <td>...</td>\n",
              "      <td>1.0</td>\n",
              "      <td>1.0</td>\n",
              "      <td>1.0</td>\n",
              "      <td>1.0</td>\n",
              "      <td>1.0</td>\n",
              "      <td>1.0</td>\n",
              "      <td>1.0</td>\n",
              "      <td>1.0</td>\n",
              "      <td>미등록</td>\n",
              "      <td>0</td>\n",
              "    </tr>\n",
              "    <tr>\n",
              "      <th>2630</th>\n",
              "      <td>기아 카니발 4세대  2.2 디젤 9인승 시그니처</td>\n",
              "      <td>2021</td>\n",
              "      <td>8</td>\n",
              "      <td>6</td>\n",
              "      <td>2151</td>\n",
              "      <td>1</td>\n",
              "      <td>1</td>\n",
              "      <td>8300</td>\n",
              "      <td>202</td>\n",
              "      <td>0.0</td>\n",
              "      <td>...</td>\n",
              "      <td>1.0</td>\n",
              "      <td>1.0</td>\n",
              "      <td>1.0</td>\n",
              "      <td>1.0</td>\n",
              "      <td>1.0</td>\n",
              "      <td>1.0</td>\n",
              "      <td>1.0</td>\n",
              "      <td>1.0</td>\n",
              "      <td>미등록</td>\n",
              "      <td>0</td>\n",
              "    </tr>\n",
              "    <tr>\n",
              "      <th>2631</th>\n",
              "      <td>기아 카니발 4세대  2.2 디젤 9인승 시그니처</td>\n",
              "      <td>2021</td>\n",
              "      <td>9</td>\n",
              "      <td>6</td>\n",
              "      <td>2151</td>\n",
              "      <td>1</td>\n",
              "      <td>1</td>\n",
              "      <td>6280</td>\n",
              "      <td>152</td>\n",
              "      <td>NaN</td>\n",
              "      <td>...</td>\n",
              "      <td>NaN</td>\n",
              "      <td>NaN</td>\n",
              "      <td>NaN</td>\n",
              "      <td>NaN</td>\n",
              "      <td>NaN</td>\n",
              "      <td>NaN</td>\n",
              "      <td>NaN</td>\n",
              "      <td>NaN</td>\n",
              "      <td>미등록</td>\n",
              "      <td>0</td>\n",
              "    </tr>\n",
              "    <tr>\n",
              "      <th>2632</th>\n",
              "      <td>현대 벨로스터 N  2.0 터보 퍼포먼스팩</td>\n",
              "      <td>2019</td>\n",
              "      <td>46557</td>\n",
              "      <td>2</td>\n",
              "      <td>1998</td>\n",
              "      <td>0</td>\n",
              "      <td>0</td>\n",
              "      <td>2100</td>\n",
              "      <td>66</td>\n",
              "      <td>0.0</td>\n",
              "      <td>...</td>\n",
              "      <td>1.0</td>\n",
              "      <td>0.0</td>\n",
              "      <td>1.0</td>\n",
              "      <td>1.0</td>\n",
              "      <td>0.0</td>\n",
              "      <td>1.0</td>\n",
              "      <td>0.0</td>\n",
              "      <td>1.0</td>\n",
              "      <td>미등록</td>\n",
              "      <td>5</td>\n",
              "    </tr>\n",
              "    <tr>\n",
              "      <th>2633</th>\n",
              "      <td>기아 그랜버드  HD 마일드브리즈 46인승 자가용</td>\n",
              "      <td>2012</td>\n",
              "      <td>340267</td>\n",
              "      <td>2</td>\n",
              "      <td>12742</td>\n",
              "      <td>0</td>\n",
              "      <td>0</td>\n",
              "      <td>4700</td>\n",
              "      <td>준비중</td>\n",
              "      <td>0.0</td>\n",
              "      <td>...</td>\n",
              "      <td>0.0</td>\n",
              "      <td>0.0</td>\n",
              "      <td>0.0</td>\n",
              "      <td>0.0</td>\n",
              "      <td>0.0</td>\n",
              "      <td>0.0</td>\n",
              "      <td>0.0</td>\n",
              "      <td>0.0</td>\n",
              "      <td>미등록</td>\n",
              "      <td>0</td>\n",
              "    </tr>\n",
              "  </tbody>\n",
              "</table>\n",
              "<p>2634 rows × 21 columns</p>\n",
              "</div>\n",
              "      <button class=\"colab-df-convert\" onclick=\"convertToInteractive('df-77cb2668-f007-4ef0-b8a6-364f78958f94')\"\n",
              "              title=\"Convert this dataframe to an interactive table.\"\n",
              "              style=\"display:none;\">\n",
              "        \n",
              "  <svg xmlns=\"http://www.w3.org/2000/svg\" height=\"24px\"viewBox=\"0 0 24 24\"\n",
              "       width=\"24px\">\n",
              "    <path d=\"M0 0h24v24H0V0z\" fill=\"none\"/>\n",
              "    <path d=\"M18.56 5.44l.94 2.06.94-2.06 2.06-.94-2.06-.94-.94-2.06-.94 2.06-2.06.94zm-11 1L8.5 8.5l.94-2.06 2.06-.94-2.06-.94L8.5 2.5l-.94 2.06-2.06.94zm10 10l.94 2.06.94-2.06 2.06-.94-2.06-.94-.94-2.06-.94 2.06-2.06.94z\"/><path d=\"M17.41 7.96l-1.37-1.37c-.4-.4-.92-.59-1.43-.59-.52 0-1.04.2-1.43.59L10.3 9.45l-7.72 7.72c-.78.78-.78 2.05 0 2.83L4 21.41c.39.39.9.59 1.41.59.51 0 1.02-.2 1.41-.59l7.78-7.78 2.81-2.81c.8-.78.8-2.07 0-2.86zM5.41 20L4 18.59l7.72-7.72 1.47 1.35L5.41 20z\"/>\n",
              "  </svg>\n",
              "      </button>\n",
              "      \n",
              "  <style>\n",
              "    .colab-df-container {\n",
              "      display:flex;\n",
              "      flex-wrap:wrap;\n",
              "      gap: 12px;\n",
              "    }\n",
              "\n",
              "    .colab-df-convert {\n",
              "      background-color: #E8F0FE;\n",
              "      border: none;\n",
              "      border-radius: 50%;\n",
              "      cursor: pointer;\n",
              "      display: none;\n",
              "      fill: #1967D2;\n",
              "      height: 32px;\n",
              "      padding: 0 0 0 0;\n",
              "      width: 32px;\n",
              "    }\n",
              "\n",
              "    .colab-df-convert:hover {\n",
              "      background-color: #E2EBFA;\n",
              "      box-shadow: 0px 1px 2px rgba(60, 64, 67, 0.3), 0px 1px 3px 1px rgba(60, 64, 67, 0.15);\n",
              "      fill: #174EA6;\n",
              "    }\n",
              "\n",
              "    [theme=dark] .colab-df-convert {\n",
              "      background-color: #3B4455;\n",
              "      fill: #D2E3FC;\n",
              "    }\n",
              "\n",
              "    [theme=dark] .colab-df-convert:hover {\n",
              "      background-color: #434B5C;\n",
              "      box-shadow: 0px 1px 3px 1px rgba(0, 0, 0, 0.15);\n",
              "      filter: drop-shadow(0px 1px 2px rgba(0, 0, 0, 0.3));\n",
              "      fill: #FFFFFF;\n",
              "    }\n",
              "  </style>\n",
              "\n",
              "      <script>\n",
              "        const buttonEl =\n",
              "          document.querySelector('#df-77cb2668-f007-4ef0-b8a6-364f78958f94 button.colab-df-convert');\n",
              "        buttonEl.style.display =\n",
              "          google.colab.kernel.accessAllowed ? 'block' : 'none';\n",
              "\n",
              "        async function convertToInteractive(key) {\n",
              "          const element = document.querySelector('#df-77cb2668-f007-4ef0-b8a6-364f78958f94');\n",
              "          const dataTable =\n",
              "            await google.colab.kernel.invokeFunction('convertToInteractive',\n",
              "                                                     [key], {});\n",
              "          if (!dataTable) return;\n",
              "\n",
              "          const docLinkHtml = 'Like what you see? Visit the ' +\n",
              "            '<a target=\"_blank\" href=https://colab.research.google.com/notebooks/data_table.ipynb>data table notebook</a>'\n",
              "            + ' to learn more about interactive tables.';\n",
              "          element.innerHTML = '';\n",
              "          dataTable['output_type'] = 'display_data';\n",
              "          await google.colab.output.renderOutput(dataTable, element);\n",
              "          const docLink = document.createElement('div');\n",
              "          docLink.innerHTML = docLinkHtml;\n",
              "          element.appendChild(docLink);\n",
              "        }\n",
              "      </script>\n",
              "    </div>\n",
              "  </div>\n",
              "  "
            ]
          },
          "metadata": {},
          "execution_count": 236
        }
      ]
    },
    {
      "cell_type": "code",
      "source": [
        "used_car = used_car.astype({'가격':'int'})"
      ],
      "metadata": {
        "id": "uUz_FH_Ljo-X"
      },
      "execution_count": 237,
      "outputs": []
    },
    {
      "cell_type": "markdown",
      "source": [
        "##9.보험이력등록"
      ],
      "metadata": {
        "id": "SiC2P8L7iaYP"
      }
    },
    {
      "cell_type": "markdown",
      "source": [
        "- 등록 = 0\n",
        "- 미등록 = 1"
      ],
      "metadata": {
        "id": "UA3KNJYTcwS0"
      }
    },
    {
      "cell_type": "code",
      "source": [
        "used_car['보험이력등록'].value_counts()"
      ],
      "metadata": {
        "colab": {
          "base_uri": "https://localhost:8080/"
        },
        "id": "5UdnnVHAiehK",
        "outputId": "06b8a83b-6604-4209-996a-42c8f19b3755"
      },
      "execution_count": 238,
      "outputs": [
        {
          "output_type": "execute_result",
          "data": {
            "text/plain": [
              "등록     1972\n",
              "미등록     662\n",
              "Name: 보험이력등록, dtype: int64"
            ]
          },
          "metadata": {},
          "execution_count": 238
        }
      ]
    },
    {
      "cell_type": "code",
      "source": [
        "from sklearn.preprocessing import LabelEncoder\n",
        "\n",
        "encoder2 = LabelEncoder()\n",
        "LE2 = encoder2.fit_transform(used_car['보험이력등록'])"
      ],
      "metadata": {
        "id": "UTrq3p1dimee"
      },
      "execution_count": 239,
      "outputs": []
    },
    {
      "cell_type": "code",
      "source": [
        "used_car['보험이력등록'] = LE2\n",
        "used_car['보험이력등록'].value_counts()"
      ],
      "metadata": {
        "colab": {
          "base_uri": "https://localhost:8080/"
        },
        "id": "3-jbEqZmi2Ie",
        "outputId": "093044a5-1e1d-47f3-b7ff-0f32f7e73f8f"
      },
      "execution_count": 240,
      "outputs": [
        {
          "output_type": "execute_result",
          "data": {
            "text/plain": [
              "0    1972\n",
              "1     662\n",
              "Name: 보험이력등록, dtype: int64"
            ]
          },
          "metadata": {},
          "execution_count": 240
        }
      ]
    },
    {
      "cell_type": "markdown",
      "source": [
        "#2.전처리 끝"
      ],
      "metadata": {
        "id": "Gs3rn_aOiTcT"
      }
    },
    {
      "cell_type": "code",
      "source": [
        "used_car.head(3)"
      ],
      "metadata": {
        "colab": {
          "base_uri": "https://localhost:8080/",
          "height": 286
        },
        "id": "usZHXoFEr-Uq",
        "outputId": "e24aec39-e23e-4e9d-f91e-a6a3c029e4f4"
      },
      "execution_count": 241,
      "outputs": [
        {
          "output_type": "execute_result",
          "data": {
            "text/plain": [
              "                          이름    연식   주행거리  연료   배기량  색상  보증정보    가격 신차대비가격  \\\n",
              "0       쉐보레 더 뉴 스파크 1.0 프리미어  2021  16250   2   999   1     1  1100     75   \n",
              "1  현대 올 뉴 투싼 1.6 디젤 2WD  스마트  2018  67696   6  1598   1     1  1699     71   \n",
              "2       기아 더 뉴 봉고3  캠핑카 -     2020  29000   6  2497   1     0  7480    준비중   \n",
              "\n",
              "   옵션_선루프  ...  옵션_열선앞  옵션_열선뒤  옵션_전방센서  옵션_후방센서  옵션_전방캠  옵션_후방캠  옵션_어라운드뷰  \\\n",
              "0     0.0  ...     1.0     0.0      0.0      1.0     0.0     1.0       0.0   \n",
              "1     0.0  ...     1.0     0.0      0.0      1.0     0.0     0.0       0.0   \n",
              "2     NaN  ...     NaN     NaN      NaN      NaN     NaN     NaN       NaN   \n",
              "\n",
              "   옵션_네비순정  보험이력등록  제조사  \n",
              "0      0.0       0    2  \n",
              "1      0.0       0    5  \n",
              "2      NaN       1    0  \n",
              "\n",
              "[3 rows x 21 columns]"
            ],
            "text/html": [
              "\n",
              "  <div id=\"df-335f3934-1e1a-40f9-8b72-763c73d3a43b\">\n",
              "    <div class=\"colab-df-container\">\n",
              "      <div>\n",
              "<style scoped>\n",
              "    .dataframe tbody tr th:only-of-type {\n",
              "        vertical-align: middle;\n",
              "    }\n",
              "\n",
              "    .dataframe tbody tr th {\n",
              "        vertical-align: top;\n",
              "    }\n",
              "\n",
              "    .dataframe thead th {\n",
              "        text-align: right;\n",
              "    }\n",
              "</style>\n",
              "<table border=\"1\" class=\"dataframe\">\n",
              "  <thead>\n",
              "    <tr style=\"text-align: right;\">\n",
              "      <th></th>\n",
              "      <th>이름</th>\n",
              "      <th>연식</th>\n",
              "      <th>주행거리</th>\n",
              "      <th>연료</th>\n",
              "      <th>배기량</th>\n",
              "      <th>색상</th>\n",
              "      <th>보증정보</th>\n",
              "      <th>가격</th>\n",
              "      <th>신차대비가격</th>\n",
              "      <th>옵션_선루프</th>\n",
              "      <th>...</th>\n",
              "      <th>옵션_열선앞</th>\n",
              "      <th>옵션_열선뒤</th>\n",
              "      <th>옵션_전방센서</th>\n",
              "      <th>옵션_후방센서</th>\n",
              "      <th>옵션_전방캠</th>\n",
              "      <th>옵션_후방캠</th>\n",
              "      <th>옵션_어라운드뷰</th>\n",
              "      <th>옵션_네비순정</th>\n",
              "      <th>보험이력등록</th>\n",
              "      <th>제조사</th>\n",
              "    </tr>\n",
              "  </thead>\n",
              "  <tbody>\n",
              "    <tr>\n",
              "      <th>0</th>\n",
              "      <td>쉐보레 더 뉴 스파크 1.0 프리미어</td>\n",
              "      <td>2021</td>\n",
              "      <td>16250</td>\n",
              "      <td>2</td>\n",
              "      <td>999</td>\n",
              "      <td>1</td>\n",
              "      <td>1</td>\n",
              "      <td>1100</td>\n",
              "      <td>75</td>\n",
              "      <td>0.0</td>\n",
              "      <td>...</td>\n",
              "      <td>1.0</td>\n",
              "      <td>0.0</td>\n",
              "      <td>0.0</td>\n",
              "      <td>1.0</td>\n",
              "      <td>0.0</td>\n",
              "      <td>1.0</td>\n",
              "      <td>0.0</td>\n",
              "      <td>0.0</td>\n",
              "      <td>0</td>\n",
              "      <td>2</td>\n",
              "    </tr>\n",
              "    <tr>\n",
              "      <th>1</th>\n",
              "      <td>현대 올 뉴 투싼 1.6 디젤 2WD  스마트</td>\n",
              "      <td>2018</td>\n",
              "      <td>67696</td>\n",
              "      <td>6</td>\n",
              "      <td>1598</td>\n",
              "      <td>1</td>\n",
              "      <td>1</td>\n",
              "      <td>1699</td>\n",
              "      <td>71</td>\n",
              "      <td>0.0</td>\n",
              "      <td>...</td>\n",
              "      <td>1.0</td>\n",
              "      <td>0.0</td>\n",
              "      <td>0.0</td>\n",
              "      <td>1.0</td>\n",
              "      <td>0.0</td>\n",
              "      <td>0.0</td>\n",
              "      <td>0.0</td>\n",
              "      <td>0.0</td>\n",
              "      <td>0</td>\n",
              "      <td>5</td>\n",
              "    </tr>\n",
              "    <tr>\n",
              "      <th>2</th>\n",
              "      <td>기아 더 뉴 봉고3  캠핑카 -</td>\n",
              "      <td>2020</td>\n",
              "      <td>29000</td>\n",
              "      <td>6</td>\n",
              "      <td>2497</td>\n",
              "      <td>1</td>\n",
              "      <td>0</td>\n",
              "      <td>7480</td>\n",
              "      <td>준비중</td>\n",
              "      <td>NaN</td>\n",
              "      <td>...</td>\n",
              "      <td>NaN</td>\n",
              "      <td>NaN</td>\n",
              "      <td>NaN</td>\n",
              "      <td>NaN</td>\n",
              "      <td>NaN</td>\n",
              "      <td>NaN</td>\n",
              "      <td>NaN</td>\n",
              "      <td>NaN</td>\n",
              "      <td>1</td>\n",
              "      <td>0</td>\n",
              "    </tr>\n",
              "  </tbody>\n",
              "</table>\n",
              "<p>3 rows × 21 columns</p>\n",
              "</div>\n",
              "      <button class=\"colab-df-convert\" onclick=\"convertToInteractive('df-335f3934-1e1a-40f9-8b72-763c73d3a43b')\"\n",
              "              title=\"Convert this dataframe to an interactive table.\"\n",
              "              style=\"display:none;\">\n",
              "        \n",
              "  <svg xmlns=\"http://www.w3.org/2000/svg\" height=\"24px\"viewBox=\"0 0 24 24\"\n",
              "       width=\"24px\">\n",
              "    <path d=\"M0 0h24v24H0V0z\" fill=\"none\"/>\n",
              "    <path d=\"M18.56 5.44l.94 2.06.94-2.06 2.06-.94-2.06-.94-.94-2.06-.94 2.06-2.06.94zm-11 1L8.5 8.5l.94-2.06 2.06-.94-2.06-.94L8.5 2.5l-.94 2.06-2.06.94zm10 10l.94 2.06.94-2.06 2.06-.94-2.06-.94-.94-2.06-.94 2.06-2.06.94z\"/><path d=\"M17.41 7.96l-1.37-1.37c-.4-.4-.92-.59-1.43-.59-.52 0-1.04.2-1.43.59L10.3 9.45l-7.72 7.72c-.78.78-.78 2.05 0 2.83L4 21.41c.39.39.9.59 1.41.59.51 0 1.02-.2 1.41-.59l7.78-7.78 2.81-2.81c.8-.78.8-2.07 0-2.86zM5.41 20L4 18.59l7.72-7.72 1.47 1.35L5.41 20z\"/>\n",
              "  </svg>\n",
              "      </button>\n",
              "      \n",
              "  <style>\n",
              "    .colab-df-container {\n",
              "      display:flex;\n",
              "      flex-wrap:wrap;\n",
              "      gap: 12px;\n",
              "    }\n",
              "\n",
              "    .colab-df-convert {\n",
              "      background-color: #E8F0FE;\n",
              "      border: none;\n",
              "      border-radius: 50%;\n",
              "      cursor: pointer;\n",
              "      display: none;\n",
              "      fill: #1967D2;\n",
              "      height: 32px;\n",
              "      padding: 0 0 0 0;\n",
              "      width: 32px;\n",
              "    }\n",
              "\n",
              "    .colab-df-convert:hover {\n",
              "      background-color: #E2EBFA;\n",
              "      box-shadow: 0px 1px 2px rgba(60, 64, 67, 0.3), 0px 1px 3px 1px rgba(60, 64, 67, 0.15);\n",
              "      fill: #174EA6;\n",
              "    }\n",
              "\n",
              "    [theme=dark] .colab-df-convert {\n",
              "      background-color: #3B4455;\n",
              "      fill: #D2E3FC;\n",
              "    }\n",
              "\n",
              "    [theme=dark] .colab-df-convert:hover {\n",
              "      background-color: #434B5C;\n",
              "      box-shadow: 0px 1px 3px 1px rgba(0, 0, 0, 0.15);\n",
              "      filter: drop-shadow(0px 1px 2px rgba(0, 0, 0, 0.3));\n",
              "      fill: #FFFFFF;\n",
              "    }\n",
              "  </style>\n",
              "\n",
              "      <script>\n",
              "        const buttonEl =\n",
              "          document.querySelector('#df-335f3934-1e1a-40f9-8b72-763c73d3a43b button.colab-df-convert');\n",
              "        buttonEl.style.display =\n",
              "          google.colab.kernel.accessAllowed ? 'block' : 'none';\n",
              "\n",
              "        async function convertToInteractive(key) {\n",
              "          const element = document.querySelector('#df-335f3934-1e1a-40f9-8b72-763c73d3a43b');\n",
              "          const dataTable =\n",
              "            await google.colab.kernel.invokeFunction('convertToInteractive',\n",
              "                                                     [key], {});\n",
              "          if (!dataTable) return;\n",
              "\n",
              "          const docLinkHtml = 'Like what you see? Visit the ' +\n",
              "            '<a target=\"_blank\" href=https://colab.research.google.com/notebooks/data_table.ipynb>data table notebook</a>'\n",
              "            + ' to learn more about interactive tables.';\n",
              "          element.innerHTML = '';\n",
              "          dataTable['output_type'] = 'display_data';\n",
              "          await google.colab.output.renderOutput(dataTable, element);\n",
              "          const docLink = document.createElement('div');\n",
              "          docLink.innerHTML = docLinkHtml;\n",
              "          element.appendChild(docLink);\n",
              "        }\n",
              "      </script>\n",
              "    </div>\n",
              "  </div>\n",
              "  "
            ]
          },
          "metadata": {},
          "execution_count": 241
        }
      ]
    },
    {
      "cell_type": "code",
      "source": [
        "used_car.info()"
      ],
      "metadata": {
        "colab": {
          "base_uri": "https://localhost:8080/"
        },
        "id": "gE492IgBkSJh",
        "outputId": "bfc4cfa3-d90f-4099-c2f6-ad6e95dfd9d0"
      },
      "execution_count": 242,
      "outputs": [
        {
          "output_type": "stream",
          "name": "stdout",
          "text": [
            "<class 'pandas.core.frame.DataFrame'>\n",
            "RangeIndex: 2634 entries, 0 to 2633\n",
            "Data columns (total 21 columns):\n",
            " #   Column      Non-Null Count  Dtype  \n",
            "---  ------      --------------  -----  \n",
            " 0   이름          2634 non-null   object \n",
            " 1   연식          2634 non-null   int64  \n",
            " 2   주행거리        2634 non-null   int64  \n",
            " 3   연료          2634 non-null   int64  \n",
            " 4   배기량         2634 non-null   int64  \n",
            " 5   색상          2634 non-null   int64  \n",
            " 6   보증정보        2634 non-null   int64  \n",
            " 7   가격          2634 non-null   int64  \n",
            " 8   신차대비가격      2634 non-null   object \n",
            " 9   옵션_선루프      2022 non-null   float64\n",
            " 10  옵션_파노라마선루프  2022 non-null   float64\n",
            " 11  옵션_열선앞      2022 non-null   float64\n",
            " 12  옵션_열선뒤      2022 non-null   float64\n",
            " 13  옵션_전방센서     2022 non-null   float64\n",
            " 14  옵션_후방센서     2022 non-null   float64\n",
            " 15  옵션_전방캠      2022 non-null   float64\n",
            " 16  옵션_후방캠      2022 non-null   float64\n",
            " 17  옵션_어라운드뷰    2022 non-null   float64\n",
            " 18  옵션_네비순정     2022 non-null   float64\n",
            " 19  보험이력등록      2634 non-null   int64  \n",
            " 20  제조사         2634 non-null   int64  \n",
            "dtypes: float64(10), int64(9), object(2)\n",
            "memory usage: 432.3+ KB\n"
          ]
        }
      ]
    },
    {
      "cell_type": "code",
      "source": [
        "# 저장\n",
        "used_car.to_excel(\"/content/sample_data/used_car.xlsx\", index = False)"
      ],
      "metadata": {
        "id": "N0kUdukWjUFm"
      },
      "execution_count": 243,
      "outputs": []
    }
  ]
}