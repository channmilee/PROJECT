{
  "cells": [
    {
      "cell_type": "markdown",
      "source": [
        "# 1.Data Load"
      ],
      "metadata": {
        "id": "KyexMRqbdihc"
      },
      "id": "KyexMRqbdihc"
    },
    {
      "cell_type": "code",
      "execution_count": 1,
      "id": "1b9c9b7f",
      "metadata": {
        "colab": {
          "base_uri": "https://localhost:8080/"
        },
        "id": "1b9c9b7f",
        "outputId": "d39df932-a57e-4f44-e2d8-85cb0ce23116"
      },
      "outputs": [
        {
          "output_type": "stream",
          "name": "stdout",
          "text": [
            "Check your OS system\n"
          ]
        }
      ],
      "source": [
        "import pandas as pd\n",
        "import numpy as np\n",
        "import matplotlib.pyplot as plt\n",
        "import seaborn as sns\n",
        "from matplotlib import font_manager, rc \n",
        "import platform\n",
        "\n",
        "# 그래프에서 한글을 표기하기 위해 글꼴 변경 \n",
        "if platform.system() == 'Windows':\n",
        "    path = 'c:/Windows/Fonts/malgun.ttf'\n",
        "    font_name = font_manager.FontProperties(fname=path).get_name()\n",
        "    rc('font',family=font_name)\n",
        "elif platform.system() == 'Darwin':   # macOS\n",
        "    rc('font',family = 'AppleGothic')\n",
        "else:\n",
        "    print('Check your OS system')"
      ]
    },
    {
      "cell_type": "code",
      "execution_count": 2,
      "id": "fe464fc4",
      "metadata": {
        "id": "fe464fc4"
      },
      "outputs": [],
      "source": [
        "import warnings\n",
        "warnings.filterwarnings('ignore')"
      ]
    },
    {
      "cell_type": "code",
      "source": [
        "#구글 드라이브 연동\n",
        "from google.colab import drive\n",
        "drive.mount('/content/drive')"
      ],
      "metadata": {
        "colab": {
          "base_uri": "https://localhost:8080/"
        },
        "id": "xQi0pAJGerNA",
        "outputId": "1fc099ee-c55f-4d34-c970-3601061ee865"
      },
      "id": "xQi0pAJGerNA",
      "execution_count": 3,
      "outputs": [
        {
          "output_type": "stream",
          "name": "stdout",
          "text": [
            "Mounted at /content/drive\n"
          ]
        }
      ]
    },
    {
      "cell_type": "code",
      "execution_count": 4,
      "id": "3e8aa09d",
      "metadata": {
        "colab": {
          "base_uri": "https://localhost:8080/",
          "height": 477
        },
        "id": "3e8aa09d",
        "outputId": "80b7e2c6-bf2a-4930-f218-039b971dd9c9"
      },
      "outputs": [
        {
          "output_type": "execute_result",
          "data": {
            "text/plain": [
              "   Unnamed: 0  제조사  모델                         이름    연도   주행거리  연료   배기량  색상  \\\n",
              "0           0    2  49       쉐보레 더 뉴 스파크 1.0 프리미어  2021  16250   2   999   1   \n",
              "1           1    5  86  현대 올 뉴 투싼 1.6 디젤 2WD  스마트  2018  67696   6  1598   1   \n",
              "2           2    0  42       기아 더 뉴 봉고3  캠핑카 -     2020  29000   6  2497   1   \n",
              "\n",
              "   보증정보  ...  옵션_파노라마선루프  옵션_열선앞  옵션_열선뒤  옵션_전방센서  옵션_후방센서  옵션_전방캠  옵션_후방캠  \\\n",
              "0     1  ...         0.0     1.0     0.0      0.0      1.0     0.0     1.0   \n",
              "1     1  ...         0.0     1.0     0.0      0.0      1.0     0.0     0.0   \n",
              "2     0  ...         NaN     NaN     NaN      NaN      NaN     NaN     NaN   \n",
              "\n",
              "   옵션_어라운드뷰  옵션_네비순정  보험이력  \n",
              "0       0.0      0.0     0  \n",
              "1       0.0      0.0     0  \n",
              "2       NaN      NaN     1  \n",
              "\n",
              "[3 rows x 23 columns]"
            ],
            "text/html": [
              "\n",
              "  <div id=\"df-b19be6f1-cd3b-4b2b-bc1c-a8f67d24dd0b\">\n",
              "    <div class=\"colab-df-container\">\n",
              "      <div>\n",
              "<style scoped>\n",
              "    .dataframe tbody tr th:only-of-type {\n",
              "        vertical-align: middle;\n",
              "    }\n",
              "\n",
              "    .dataframe tbody tr th {\n",
              "        vertical-align: top;\n",
              "    }\n",
              "\n",
              "    .dataframe thead th {\n",
              "        text-align: right;\n",
              "    }\n",
              "</style>\n",
              "<table border=\"1\" class=\"dataframe\">\n",
              "  <thead>\n",
              "    <tr style=\"text-align: right;\">\n",
              "      <th></th>\n",
              "      <th>Unnamed: 0</th>\n",
              "      <th>제조사</th>\n",
              "      <th>모델</th>\n",
              "      <th>이름</th>\n",
              "      <th>연도</th>\n",
              "      <th>주행거리</th>\n",
              "      <th>연료</th>\n",
              "      <th>배기량</th>\n",
              "      <th>색상</th>\n",
              "      <th>보증정보</th>\n",
              "      <th>...</th>\n",
              "      <th>옵션_파노라마선루프</th>\n",
              "      <th>옵션_열선앞</th>\n",
              "      <th>옵션_열선뒤</th>\n",
              "      <th>옵션_전방센서</th>\n",
              "      <th>옵션_후방센서</th>\n",
              "      <th>옵션_전방캠</th>\n",
              "      <th>옵션_후방캠</th>\n",
              "      <th>옵션_어라운드뷰</th>\n",
              "      <th>옵션_네비순정</th>\n",
              "      <th>보험이력</th>\n",
              "    </tr>\n",
              "  </thead>\n",
              "  <tbody>\n",
              "    <tr>\n",
              "      <th>0</th>\n",
              "      <td>0</td>\n",
              "      <td>2</td>\n",
              "      <td>49</td>\n",
              "      <td>쉐보레 더 뉴 스파크 1.0 프리미어</td>\n",
              "      <td>2021</td>\n",
              "      <td>16250</td>\n",
              "      <td>2</td>\n",
              "      <td>999</td>\n",
              "      <td>1</td>\n",
              "      <td>1</td>\n",
              "      <td>...</td>\n",
              "      <td>0.0</td>\n",
              "      <td>1.0</td>\n",
              "      <td>0.0</td>\n",
              "      <td>0.0</td>\n",
              "      <td>1.0</td>\n",
              "      <td>0.0</td>\n",
              "      <td>1.0</td>\n",
              "      <td>0.0</td>\n",
              "      <td>0.0</td>\n",
              "      <td>0</td>\n",
              "    </tr>\n",
              "    <tr>\n",
              "      <th>1</th>\n",
              "      <td>1</td>\n",
              "      <td>5</td>\n",
              "      <td>86</td>\n",
              "      <td>현대 올 뉴 투싼 1.6 디젤 2WD  스마트</td>\n",
              "      <td>2018</td>\n",
              "      <td>67696</td>\n",
              "      <td>6</td>\n",
              "      <td>1598</td>\n",
              "      <td>1</td>\n",
              "      <td>1</td>\n",
              "      <td>...</td>\n",
              "      <td>0.0</td>\n",
              "      <td>1.0</td>\n",
              "      <td>0.0</td>\n",
              "      <td>0.0</td>\n",
              "      <td>1.0</td>\n",
              "      <td>0.0</td>\n",
              "      <td>0.0</td>\n",
              "      <td>0.0</td>\n",
              "      <td>0.0</td>\n",
              "      <td>0</td>\n",
              "    </tr>\n",
              "    <tr>\n",
              "      <th>2</th>\n",
              "      <td>2</td>\n",
              "      <td>0</td>\n",
              "      <td>42</td>\n",
              "      <td>기아 더 뉴 봉고3  캠핑카 -</td>\n",
              "      <td>2020</td>\n",
              "      <td>29000</td>\n",
              "      <td>6</td>\n",
              "      <td>2497</td>\n",
              "      <td>1</td>\n",
              "      <td>0</td>\n",
              "      <td>...</td>\n",
              "      <td>NaN</td>\n",
              "      <td>NaN</td>\n",
              "      <td>NaN</td>\n",
              "      <td>NaN</td>\n",
              "      <td>NaN</td>\n",
              "      <td>NaN</td>\n",
              "      <td>NaN</td>\n",
              "      <td>NaN</td>\n",
              "      <td>NaN</td>\n",
              "      <td>1</td>\n",
              "    </tr>\n",
              "  </tbody>\n",
              "</table>\n",
              "<p>3 rows × 23 columns</p>\n",
              "</div>\n",
              "      <button class=\"colab-df-convert\" onclick=\"convertToInteractive('df-b19be6f1-cd3b-4b2b-bc1c-a8f67d24dd0b')\"\n",
              "              title=\"Convert this dataframe to an interactive table.\"\n",
              "              style=\"display:none;\">\n",
              "        \n",
              "  <svg xmlns=\"http://www.w3.org/2000/svg\" height=\"24px\"viewBox=\"0 0 24 24\"\n",
              "       width=\"24px\">\n",
              "    <path d=\"M0 0h24v24H0V0z\" fill=\"none\"/>\n",
              "    <path d=\"M18.56 5.44l.94 2.06.94-2.06 2.06-.94-2.06-.94-.94-2.06-.94 2.06-2.06.94zm-11 1L8.5 8.5l.94-2.06 2.06-.94-2.06-.94L8.5 2.5l-.94 2.06-2.06.94zm10 10l.94 2.06.94-2.06 2.06-.94-2.06-.94-.94-2.06-.94 2.06-2.06.94z\"/><path d=\"M17.41 7.96l-1.37-1.37c-.4-.4-.92-.59-1.43-.59-.52 0-1.04.2-1.43.59L10.3 9.45l-7.72 7.72c-.78.78-.78 2.05 0 2.83L4 21.41c.39.39.9.59 1.41.59.51 0 1.02-.2 1.41-.59l7.78-7.78 2.81-2.81c.8-.78.8-2.07 0-2.86zM5.41 20L4 18.59l7.72-7.72 1.47 1.35L5.41 20z\"/>\n",
              "  </svg>\n",
              "      </button>\n",
              "      \n",
              "  <style>\n",
              "    .colab-df-container {\n",
              "      display:flex;\n",
              "      flex-wrap:wrap;\n",
              "      gap: 12px;\n",
              "    }\n",
              "\n",
              "    .colab-df-convert {\n",
              "      background-color: #E8F0FE;\n",
              "      border: none;\n",
              "      border-radius: 50%;\n",
              "      cursor: pointer;\n",
              "      display: none;\n",
              "      fill: #1967D2;\n",
              "      height: 32px;\n",
              "      padding: 0 0 0 0;\n",
              "      width: 32px;\n",
              "    }\n",
              "\n",
              "    .colab-df-convert:hover {\n",
              "      background-color: #E2EBFA;\n",
              "      box-shadow: 0px 1px 2px rgba(60, 64, 67, 0.3), 0px 1px 3px 1px rgba(60, 64, 67, 0.15);\n",
              "      fill: #174EA6;\n",
              "    }\n",
              "\n",
              "    [theme=dark] .colab-df-convert {\n",
              "      background-color: #3B4455;\n",
              "      fill: #D2E3FC;\n",
              "    }\n",
              "\n",
              "    [theme=dark] .colab-df-convert:hover {\n",
              "      background-color: #434B5C;\n",
              "      box-shadow: 0px 1px 3px 1px rgba(0, 0, 0, 0.15);\n",
              "      filter: drop-shadow(0px 1px 2px rgba(0, 0, 0, 0.3));\n",
              "      fill: #FFFFFF;\n",
              "    }\n",
              "  </style>\n",
              "\n",
              "      <script>\n",
              "        const buttonEl =\n",
              "          document.querySelector('#df-b19be6f1-cd3b-4b2b-bc1c-a8f67d24dd0b button.colab-df-convert');\n",
              "        buttonEl.style.display =\n",
              "          google.colab.kernel.accessAllowed ? 'block' : 'none';\n",
              "\n",
              "        async function convertToInteractive(key) {\n",
              "          const element = document.querySelector('#df-b19be6f1-cd3b-4b2b-bc1c-a8f67d24dd0b');\n",
              "          const dataTable =\n",
              "            await google.colab.kernel.invokeFunction('convertToInteractive',\n",
              "                                                     [key], {});\n",
              "          if (!dataTable) return;\n",
              "\n",
              "          const docLinkHtml = 'Like what you see? Visit the ' +\n",
              "            '<a target=\"_blank\" href=https://colab.research.google.com/notebooks/data_table.ipynb>data table notebook</a>'\n",
              "            + ' to learn more about interactive tables.';\n",
              "          element.innerHTML = '';\n",
              "          dataTable['output_type'] = 'display_data';\n",
              "          await google.colab.output.renderOutput(dataTable, element);\n",
              "          const docLink = document.createElement('div');\n",
              "          docLink.innerHTML = docLinkHtml;\n",
              "          element.appendChild(docLink);\n",
              "        }\n",
              "      </script>\n",
              "    </div>\n",
              "  </div>\n",
              "  "
            ]
          },
          "metadata": {},
          "execution_count": 4
        }
      ],
      "source": [
        "used_car = pd.read_excel('/content/drive/MyDrive/multicampus/project2/데이터/used_car_ver8.xlsx')\n",
        "used_car.head(3)"
      ]
    },
    {
      "cell_type": "markdown",
      "source": [
        "# 2.데이터 전처리"
      ],
      "metadata": {
        "id": "jA-qIkaUdq8J"
      },
      "id": "jA-qIkaUdq8J"
    },
    {
      "cell_type": "markdown",
      "source": [
        "* 가격 로그 변환\n",
        "  * 정규 분포를 위해 로그 변환 진행"
      ],
      "metadata": {
        "id": "gfNBqJrOgabV"
      },
      "id": "gfNBqJrOgabV"
    },
    {
      "cell_type": "code",
      "execution_count": 6,
      "id": "4f5bc2b2",
      "metadata": {
        "id": "4f5bc2b2"
      },
      "outputs": [],
      "source": [
        "used_car['로그_가격'] = np.log1p(used_car['가격'])"
      ]
    },
    {
      "cell_type": "code",
      "source": [
        "fig = plt.figure(figsize = (15,5))\n",
        "ax1 = fig.add_subplot(1,2,1)\n",
        "ax2 = fig.add_subplot(1,2,2)\n",
        "\n",
        "sns.distplot(used_car['가격'], ax = ax1)\n",
        "ax1.set_title('Befor log')\n",
        "\n",
        "sns.distplot(used_car['로그_가격'], ax = ax2)\n",
        "ax2.set_title('After log')"
      ],
      "metadata": {
        "colab": {
          "base_uri": "https://localhost:8080/",
          "height": 368
        },
        "id": "hhtGFkC7fA5M",
        "outputId": "85a536e2-6f03-4623-e655-5d32438363c4"
      },
      "id": "hhtGFkC7fA5M",
      "execution_count": 8,
      "outputs": [
        {
          "output_type": "execute_result",
          "data": {
            "text/plain": [
              "Text(0.5, 1.0, 'After log')"
            ]
          },
          "metadata": {},
          "execution_count": 8
        },
        {
          "output_type": "display_data",
          "data": {
            "text/plain": [
              "<Figure size 1080x360 with 2 Axes>"
            ],
            "image/png": "[encoded data removed]"
          },
          "metadata": {
            "needs_background": "light"
          }
        }
      ]
    },
    {
      "cell_type": "markdown",
      "source": [
        "* 배기량, 주행 거리 정규화\n",
        "  * 단위가 크기 때문에 정규화 진행"
      ],
      "metadata": {
        "id": "UI9340Z6gdcj"
      },
      "id": "UI9340Z6gdcj"
    },
    {
      "cell_type": "code",
      "execution_count": 18,
      "id": "c50db5e6",
      "metadata": {
        "id": "c50db5e6"
      },
      "outputs": [],
      "source": [
        "from sklearn.preprocessing import MinMaxScaler\n",
        "\n",
        "scaler1 = MinMaxScaler()\n",
        "used_car['배기량_정규화'] = scaler1.fit_transform(used_car[['배기량']])"
      ]
    },
    {
      "cell_type": "code",
      "execution_count": 19,
      "id": "33e22e48",
      "metadata": {
        "id": "33e22e48"
      },
      "outputs": [],
      "source": [
        "from sklearn.preprocessing import MinMaxScaler\n",
        "\n",
        "scaler1 = MinMaxScaler()\n",
        "used_car['주행거리_정규화'] = scaler1.fit_transform(used_car[['주행거리']])"
      ]
    },
    {
      "cell_type": "markdown",
      "id": "3558efc2",
      "metadata": {
        "id": "3558efc2"
      },
      "source": [
        "#### 주행거리 노이즈 제거"
      ]
    },
    {
      "cell_type": "markdown",
      "source": [
        "* 노이즈 제거 전"
      ],
      "metadata": {
        "id": "k-gKEovxeOmZ"
      },
      "id": "k-gKEovxeOmZ"
    },
    {
      "cell_type": "code",
      "execution_count": null,
      "id": "f7b6b911",
      "metadata": {
        "id": "f7b6b911",
        "outputId": "43a9aa9c-ba7b-4ea6-f431-df9497a735a6"
      },
      "outputs": [
        {
          "name": "stdout",
          "output_type": "stream",
          "text": [
            "45000.0\n",
            "136266.0\n"
          ]
        },
        {
          "data": {
            "image/png": "[encoded data removed]",
            "text/plain": [
              "<Figure size 432x288 with 1 Axes>"
            ]
          },
          "metadata": {
            "needs_background": "light"
          },
          "output_type": "display_data"
        }
      ],
      "source": [
        "sns.boxplot(used_car.주행거리)\n",
        "q1 = used_car[\"주행거리\"].quantile(0.25)\n",
        "print(q1)\n",
        "q3 = used_car[\"주행거리\"].quantile(0.75)\n",
        "print(q3)"
      ]
    },
    {
      "cell_type": "code",
      "execution_count": null,
      "id": "d2a5147a",
      "metadata": {
        "id": "d2a5147a"
      },
      "outputs": [],
      "source": [
        "coef = q3 - q1\n",
        "upper = q3 + 1.5*coef\n",
        "lower = q1 - 1.5*coef\n",
        "condition = (used_car[\"주행거리\"] > upper) | (used_car[\"주행거리\"] < lower)\n",
        "ind = used_car.주행거리[condition].index\n",
        "used_car.drop(ind,axis=0,inplace = True)"
      ]
    },
    {
      "cell_type": "markdown",
      "source": [
        "* 노이즈 제거 후"
      ],
      "metadata": {
        "id": "l1l5QVTpeQic"
      },
      "id": "l1l5QVTpeQic"
    },
    {
      "cell_type": "code",
      "execution_count": null,
      "id": "acecf5d0",
      "metadata": {
        "id": "acecf5d0",
        "outputId": "8cc09609-416e-449a-f146-6ddf82a136b6"
      },
      "outputs": [
        {
          "data": {
            "text/plain": [
              "<AxesSubplot:xlabel='주행거리'>"
            ]
          },
          "execution_count": 9,
          "metadata": {},
          "output_type": "execute_result"
        },
        {
          "data": {
            "image/png": "[encoded data removed]",
            "text/plain": [
              "<Figure size 432x288 with 1 Axes>"
            ]
          },
          "metadata": {
            "needs_background": "light"
          },
          "output_type": "display_data"
        }
      ],
      "source": [
        "sns.boxplot(used_car.주행거리)"
      ]
    },
    {
      "cell_type": "markdown",
      "id": "a228d3ca",
      "metadata": {
        "id": "a228d3ca"
      },
      "source": [
        "#### 배기량 노이즈 제거"
      ]
    },
    {
      "cell_type": "markdown",
      "source": [
        "* 노이즈 제거 전"
      ],
      "metadata": {
        "id": "9L-wAUOJeSoi"
      },
      "id": "9L-wAUOJeSoi"
    },
    {
      "cell_type": "code",
      "execution_count": null,
      "id": "257667a1",
      "metadata": {
        "id": "257667a1",
        "outputId": "c590bd70-3bf8-4dcc-da93-a689c4bb5e29"
      },
      "outputs": [
        {
          "name": "stdout",
          "output_type": "stream",
          "text": [
            "1685.0\n",
            "2497.0\n"
          ]
        },
        {
          "data": {
            "image/png": "[encoded data removed]",
            "text/plain": [
              "<Figure size 432x288 with 1 Axes>"
            ]
          },
          "metadata": {
            "needs_background": "light"
          },
          "output_type": "display_data"
        }
      ],
      "source": [
        "sns.boxplot(used_car.배기량)\n",
        "q1 = used_car[\"배기량\"].quantile(0.25)\n",
        "print(q1)\n",
        "q3 = used_car[\"배기량\"].quantile(0.75)\n",
        "print(q3)"
      ]
    },
    {
      "cell_type": "code",
      "execution_count": null,
      "id": "d5d00d5b",
      "metadata": {
        "id": "d5d00d5b",
        "outputId": "ebc800e9-8ef8-4377-fbd1-420c9ca71ba9"
      },
      "outputs": [
        {
          "data": {
            "text/plain": [
              "1e-07"
            ]
          },
          "execution_count": 11,
          "metadata": {},
          "output_type": "execute_result"
        }
      ],
      "source": [
        "coef = q3 - q1\n",
        "upper = q3 + 1.5*coef\n",
        "condition = (used_car[\"배기량\"] > upper)\n",
        "ind = used_car.배기량[condition].index\n",
        "used_car.drop(ind,axis=0,inplace = True)\n",
        "used_car[\"배기량\"][used_car[\"배기량\"] == 0] = 1e-07\n",
        "\n",
        "min(used_car[\"배기량\"])"
      ]
    },
    {
      "cell_type": "markdown",
      "source": [
        "* 노이즈 제거 후"
      ],
      "metadata": {
        "id": "0y43Xg57eTi-"
      },
      "id": "0y43Xg57eTi-"
    },
    {
      "cell_type": "code",
      "execution_count": null,
      "id": "ca21b062",
      "metadata": {
        "id": "ca21b062",
        "outputId": "d21c7469-d747-40f8-df09-b28ac53caf9d"
      },
      "outputs": [
        {
          "data": {
            "text/plain": [
              "<AxesSubplot:xlabel='배기량'>"
            ]
          },
          "execution_count": 12,
          "metadata": {},
          "output_type": "execute_result"
        },
        {
          "data": {
            "image/png": "[encoded data removed]",
            "text/plain": [
              "<Figure size 432x288 with 1 Axes>"
            ]
          },
          "metadata": {
            "needs_background": "light"
          },
          "output_type": "display_data"
        }
      ],
      "source": [
        "sns.boxplot(used_car.배기량)"
      ]
    },
    {
      "cell_type": "markdown",
      "id": "cc44d582",
      "metadata": {
        "id": "cc44d582"
      },
      "source": [
        "#### 가격 노이즈 제거"
      ]
    },
    {
      "cell_type": "code",
      "execution_count": null,
      "id": "56fbb181",
      "metadata": {
        "id": "56fbb181",
        "outputId": "2b8b7ed3-828c-437b-dc1a-8b21af4a3fa7"
      },
      "outputs": [
        {
          "name": "stdout",
          "output_type": "stream",
          "text": [
            "15.671808704579888\n",
            "16.785925074816024\n"
          ]
        },
        {
          "data": {
            "image/png": "[encoded data removed]",
            "text/plain": [
              "<Figure size 432x288 with 1 Axes>"
            ]
          },
          "metadata": {
            "needs_background": "light"
          },
          "output_type": "display_data"
        }
      ],
      "source": [
        "sns.boxplot(used_car.가격)\n",
        "q1 = used_car[\"로그_가격\"].quantile(0.25)\n",
        "print(q1)\n",
        "q3 = used_car[\"로그_가격\"].quantile(0.75)\n",
        "print(q3)"
      ]
    },
    {
      "cell_type": "code",
      "execution_count": null,
      "id": "283a1e36",
      "metadata": {
        "id": "283a1e36"
      },
      "outputs": [],
      "source": [
        "coef = q3 - q1\n",
        "upper = q3 + 1.5*coef\n",
        "lower = q1 - 1.5*coef\n",
        "condition = (used_car[\"로그_가격\"] > upper) | (used_car[\"로그_가격\"] < lower)\n",
        "ind = used_car.로그_가격[condition].index\n",
        "used_car.drop(ind,axis=0,inplace = True)"
      ]
    },
    {
      "cell_type": "code",
      "execution_count": null,
      "id": "6e17f81c",
      "metadata": {
        "id": "6e17f81c",
        "outputId": "103ae25b-eed1-455a-bd3b-bcc1746b252b"
      },
      "outputs": [
        {
          "data": {
            "text/plain": [
              "<AxesSubplot:xlabel='로그_가격'>"
            ]
          },
          "execution_count": 25,
          "metadata": {},
          "output_type": "execute_result"
        },
        {
          "data": {
            "image/png": "[encoded data removed]",
            "text/plain": [
              "<Figure size 432x288 with 1 Axes>"
            ]
          },
          "metadata": {
            "needs_background": "light"
          },
          "output_type": "display_data"
        }
      ],
      "source": [
        "sns.boxplot(used_car.로그_가격)"
      ]
    },
    {
      "cell_type": "code",
      "execution_count": null,
      "id": "675cc368",
      "metadata": {
        "id": "675cc368",
        "outputId": "6ffa7de2-b510-4b8f-decc-df94a1d53918"
      },
      "outputs": [
        {
          "data": {
            "text/plain": [
              "(2129, 26)"
            ]
          },
          "execution_count": 16,
          "metadata": {},
          "output_type": "execute_result"
        }
      ],
      "source": [
        "used_car.shape"
      ]
    },
    {
      "cell_type": "code",
      "source": [
        "used_car = used_car[['주행거리','배기량','연도','로그_가격','신차대비가격']]\n",
        "\n",
        "plt.figure(figsize = (20, 20))\n",
        "sns.heatmap(used_car.corr(),annot=True, square = True, annot_kws = {'size':20}, cmap='PuBu')"
      ],
      "metadata": {
        "colab": {
          "base_uri": "https://localhost:8080/",
          "height": 1000
        },
        "id": "gnaaBXH-gzuu",
        "outputId": "0967b5c2-8935-4207-c072-a60f2d0a427b"
      },
      "id": "gnaaBXH-gzuu",
      "execution_count": 22,
      "outputs": [
        {
          "output_type": "execute_result",
          "data": {
            "text/plain": [
              "<Axes: >"
            ]
          },
          "metadata": {},
          "execution_count": 22
        },
        {
          "output_type": "display_data",
          "data": {
            "text/plain": [
              "<Figure size 1440x1440 with 2 Axes>"
            ],
            "image/png": "[encoded data removed]"
          },
          "metadata": {
            "needs_background": "light"
          }
        }
      ]
    },
    {
      "cell_type": "markdown",
      "id": "166f2c33",
      "metadata": {
        "id": "166f2c33"
      },
      "source": [
        "# 3.모델링"
      ]
    },
    {
      "cell_type": "code",
      "execution_count": null,
      "id": "784f2352",
      "metadata": {
        "id": "784f2352",
        "outputId": "5878c3e9-f3f9-40bf-cd6a-07ec99724470"
      },
      "outputs": [
        {
          "name": "stdout",
          "output_type": "stream",
          "text": [
            "Train Data :  (1488, 10) (1488,)\n",
            "Test Data :  (638, 10) (638,)\n"
          ]
        }
      ],
      "source": [
        "from sklearn.model_selection import train_test_split\n",
        "\n",
        "X = used_car[['제조사','모델','연도','주행거리','연료','배기량','색상','보증정보','신차대비가격','보험이력']]\n",
        "y = used_car['로그_가격']\n",
        "\n",
        "X_train, X_test, y_train, y_test = train_test_split(X, y,\n",
        "                                                    test_size = 0.3,\n",
        "                                                    random_state = 2045)\n",
        "\n",
        "print('Train Data : ', X_train.shape, y_train.shape)\n",
        "print('Test Data : ', X_test.shape, y_test.shape)"
      ]
    },
    {
      "cell_type": "code",
      "execution_count": null,
      "id": "f6cb1ee9",
      "metadata": {
        "id": "f6cb1ee9",
        "outputId": "cf9c82c9-9b8f-49d5-db67-4e52ecbfe419"
      },
      "outputs": [
        {
          "data": {
            "text/plain": [
              "LinearRegression()"
            ]
          },
          "execution_count": 27,
          "metadata": {},
          "output_type": "execute_result"
        }
      ],
      "source": [
        "from sklearn.linear_model import LinearRegression\n",
        "\n",
        "MR = LinearRegression()\n",
        "MR.fit(X_train, y_train)"
      ]
    },
    {
      "cell_type": "code",
      "execution_count": null,
      "id": "7e36fee6",
      "metadata": {
        "id": "7e36fee6",
        "outputId": "443f5d4e-791d-4818-ad35-643804c40a41"
      },
      "outputs": [
        {
          "name": "stdout",
          "output_type": "stream",
          "text": [
            "weight(w) :  [ 8.95169269e-03 -2.54272517e-03  1.05804317e-01 -1.52708562e-06\n",
            "  6.25353640e-02  3.93324810e-04  7.28684660e-03  6.67967605e-02\n",
            "  6.79186851e-03  1.38896422e-01]\n",
            "bias(b) :  -198.20264013165715\n"
          ]
        }
      ],
      "source": [
        "print('weight(w) : ', MR.coef_)\n",
        "print('bias(b) : ', MR.intercept_)"
      ]
    },
    {
      "cell_type": "code",
      "execution_count": null,
      "id": "4349650c",
      "metadata": {
        "id": "4349650c",
        "outputId": "696ef004-fd29-4890-c95f-3c2ca9e42506"
      },
      "outputs": [
        {
          "data": {
            "text/plain": [
              "0.81479270206393"
            ]
          },
          "execution_count": 29,
          "metadata": {},
          "output_type": "execute_result"
        }
      ],
      "source": [
        "MR.score(X_test, y_test)"
      ]
    },
    {
      "cell_type": "code",
      "execution_count": null,
      "id": "6eff5587",
      "metadata": {
        "id": "6eff5587",
        "outputId": "9935a389-4c8b-4082-83fa-fc03f8c0b2c2"
      },
      "outputs": [
        {
          "name": "stdout",
          "output_type": "stream",
          "text": [
            "MR mse : 33665704812618.82\n",
            "MR rmse : 5802215.508977482\n",
            "MR r^2 : 0.6939986451014877\n"
          ]
        }
      ],
      "source": [
        "from sklearn.metrics import mean_squared_error\n",
        "from sklearn.metrics import r2_score\n",
        "\n",
        "MR_mse = mean_squared_error(np.expm1(y_test),np.expm1(MR.predict(X_test)))\n",
        "MR_rmse = np.sqrt(MR_mse)\n",
        "MR_r2 = r2_score(np.expm1(y_test),np.expm1(MR.predict(X_test)))\n",
        "\n",
        "print('MR mse :', MR_mse)\n",
        "print('MR rmse :', MR_rmse)\n",
        "print('MR r^2 :', MR_r2)"
      ]
    },
    {
      "cell_type": "markdown",
      "id": "c4c67241",
      "metadata": {
        "id": "c4c67241"
      },
      "source": [
        "#### Ridge Regression"
      ]
    },
    {
      "cell_type": "code",
      "execution_count": null,
      "id": "b86306d0",
      "metadata": {
        "id": "b86306d0",
        "outputId": "5f1319dc-a925-4f20-d342-0ad48e99745c"
      },
      "outputs": [
        {
          "data": {
            "text/plain": [
              "Ridge(alpha=0.3, normalize=True, solver='cholesky')"
            ]
          },
          "execution_count": 31,
          "metadata": {},
          "output_type": "execute_result"
        }
      ],
      "source": [
        "from sklearn.linear_model import Ridge\n",
        "\n",
        "RG = Ridge(normalize = True, \n",
        "           alpha = 0.3,\n",
        "           solver = 'cholesky')   \n",
        "\n",
        "RG.fit(X_train, y_train)"
      ]
    },
    {
      "cell_type": "code",
      "execution_count": null,
      "id": "500925c1",
      "metadata": {
        "id": "500925c1",
        "outputId": "3b474748-acfd-49dc-f90f-0619a8c16dec"
      },
      "outputs": [
        {
          "data": {
            "text/plain": [
              "0.7846058276125462"
            ]
          },
          "execution_count": 32,
          "metadata": {},
          "output_type": "execute_result"
        }
      ],
      "source": [
        "RG.score(X_test, y_test)"
      ]
    },
    {
      "cell_type": "code",
      "execution_count": null,
      "id": "0c15c64c",
      "metadata": {
        "id": "0c15c64c",
        "outputId": "2b2f9d2d-934b-4d1b-bee5-1dd0170f0833"
      },
      "outputs": [
        {
          "name": "stdout",
          "output_type": "stream",
          "text": [
            "RG mse : 35052019563322.92\n",
            "RG rmse : 5920474.606256066\n",
            "RG r^2 : 0.6813978635526564\n"
          ]
        }
      ],
      "source": [
        "RGmse = mean_squared_error(np.expm1(y_test),np.expm1(RG.predict(X_test)))\n",
        "RGrmse = np.sqrt(RGmse)\n",
        "RGr2 = r2_score(np.expm1(y_test),np.expm1(RG.predict(X_test)))\n",
        "\n",
        "print('RG mse :', RGmse)\n",
        "print('RG rmse :', RGrmse)\n",
        "print('RG r^2 :', RGr2)"
      ]
    },
    {
      "cell_type": "markdown",
      "id": "6541953c",
      "metadata": {
        "id": "6541953c"
      },
      "source": [
        "#### Lasso Regression"
      ]
    },
    {
      "cell_type": "code",
      "execution_count": null,
      "id": "b23b4f66",
      "metadata": {
        "id": "b23b4f66",
        "outputId": "c2b3553c-ce43-4e12-9f12-b8cdea489edb"
      },
      "outputs": [
        {
          "data": {
            "text/plain": [
              "Lasso(alpha=0.2, normalize=True)"
            ]
          },
          "execution_count": 34,
          "metadata": {},
          "output_type": "execute_result"
        }
      ],
      "source": [
        "from sklearn.linear_model import Lasso\n",
        "\n",
        "LS = Lasso(normalize = True, \n",
        "           alpha = 0.2)\n",
        "   \n",
        "LS.fit(X_train, y_train)"
      ]
    },
    {
      "cell_type": "code",
      "execution_count": null,
      "id": "e2045382",
      "metadata": {
        "id": "e2045382",
        "outputId": "84cca579-258a-48d1-d68c-3bcfb6f8f273"
      },
      "outputs": [
        {
          "data": {
            "text/plain": [
              "-0.0026897505089342744"
            ]
          },
          "execution_count": 35,
          "metadata": {},
          "output_type": "execute_result"
        }
      ],
      "source": [
        "LS.score(X_test, y_test)"
      ]
    },
    {
      "cell_type": "code",
      "execution_count": null,
      "id": "66888707",
      "metadata": {
        "id": "66888707",
        "outputId": "15b8c976-1125-4b9d-a669-e5edb6d4927e"
      },
      "outputs": [
        {
          "name": "stdout",
          "output_type": "stream",
          "text": [
            "LS mse : 124843587215467.84\n",
            "LS rmse : 11173342.70554107\n",
            "LS r^2 : -0.1347544051418308\n"
          ]
        }
      ],
      "source": [
        "LSmse = mean_squared_error(np.expm1(y_test),np.expm1(LS.predict(X_test)))\n",
        "LSrmse = np.sqrt(LSmse)\n",
        "LSr2 = r2_score(np.expm1(y_test),np.expm1(LS.predict(X_test)))\n",
        "\n",
        "print('LS mse :', LSmse)\n",
        "print('LS rmse :', LSrmse)\n",
        "print('LS r^2 :', LSr2)"
      ]
    },
    {
      "cell_type": "markdown",
      "id": "8cfe1bdc",
      "metadata": {
        "id": "8cfe1bdc"
      },
      "source": [
        "#### ElasticNet Regression"
      ]
    },
    {
      "cell_type": "code",
      "execution_count": null,
      "id": "69a1872d",
      "metadata": {
        "id": "69a1872d",
        "outputId": "bb7db8c7-d739-4edb-f11e-79d45ba5276c"
      },
      "outputs": [
        {
          "data": {
            "text/plain": [
              "ElasticNet(alpha=0.001, l1_ratio=0.7, normalize=True)"
            ]
          },
          "execution_count": 37,
          "metadata": {},
          "output_type": "execute_result"
        }
      ],
      "source": [
        "from sklearn.linear_model import ElasticNet\n",
        "\n",
        "EN = ElasticNet(normalize = True, \n",
        "                alpha = 0.001,\n",
        "                l1_ratio = 0.7)\n",
        "   \n",
        "EN.fit(X_train, y_train)"
      ]
    },
    {
      "cell_type": "code",
      "execution_count": null,
      "id": "3bb0fb9a",
      "metadata": {
        "id": "3bb0fb9a",
        "outputId": "7c68d263-e881-4aa2-cf2e-2f59fc8ed0c9"
      },
      "outputs": [
        {
          "data": {
            "text/plain": [
              "0.7416776228852675"
            ]
          },
          "execution_count": 38,
          "metadata": {},
          "output_type": "execute_result"
        }
      ],
      "source": [
        "EN.score(X_test, y_test)"
      ]
    },
    {
      "cell_type": "code",
      "execution_count": null,
      "id": "45db026c",
      "metadata": {
        "id": "45db026c",
        "outputId": "c9f4e63e-61e4-4a89-84ce-7a6bb97a28c4"
      },
      "outputs": [
        {
          "name": "stdout",
          "output_type": "stream",
          "text": [
            "EN mse : 41771613440053.125\n",
            "EN rmse : 6463096.27346314\n",
            "EN r^2 : 0.6203207275743101\n"
          ]
        }
      ],
      "source": [
        "ENmse = mean_squared_error(np.expm1(y_test),np.expm1(EN.predict(X_test)))\n",
        "ENrmse = np.sqrt(ENmse)\n",
        "ENr2 = r2_score(np.expm1(y_test),np.expm1(EN.predict(X_test)))\n",
        "\n",
        "print('EN mse :', ENmse)\n",
        "print('EN rmse :', ENrmse)\n",
        "print('EN r^2 :', ENr2)"
      ]
    },
    {
      "cell_type": "markdown",
      "id": "bab16596",
      "metadata": {
        "id": "bab16596"
      },
      "source": [
        "#### Decision Tree Regressor"
      ]
    },
    {
      "cell_type": "code",
      "execution_count": null,
      "id": "6a163ac3",
      "metadata": {
        "id": "6a163ac3",
        "outputId": "6c4456ce-a8be-4fc1-a59c-93975fbdd684"
      },
      "outputs": [
        {
          "data": {
            "text/plain": [
              "DecisionTreeRegressor(criterion='mse', max_depth=5, random_state=1215)"
            ]
          },
          "execution_count": 40,
          "metadata": {},
          "output_type": "execute_result"
        }
      ],
      "source": [
        "from sklearn.tree import DecisionTreeRegressor\n",
        "\n",
        "DTR = DecisionTreeRegressor(max_depth = 5,\n",
        "                            criterion ='mse',\n",
        "                            random_state = 1215)\n",
        "\n",
        "DTR.fit(X_train, y_train)"
      ]
    },
    {
      "cell_type": "code",
      "execution_count": null,
      "id": "8f946152",
      "metadata": {
        "id": "8f946152",
        "outputId": "3c322189-5100-4bf2-bba9-686ef89da613"
      },
      "outputs": [
        {
          "data": {
            "text/plain": [
              "0.8603853077559573"
            ]
          },
          "execution_count": 41,
          "metadata": {},
          "output_type": "execute_result"
        }
      ],
      "source": [
        "DTR.score(X_test, y_test)"
      ]
    },
    {
      "cell_type": "code",
      "execution_count": null,
      "id": "71c9f343",
      "metadata": {
        "id": "71c9f343",
        "outputId": "32ce2103-4593-49b0-b250-815a349b9572"
      },
      "outputs": [
        {
          "name": "stdout",
          "output_type": "stream",
          "text": [
            "DTR mse : 26484989349615.69\n",
            "DTR rmse : 5146356.9007226555\n",
            "DTR r^2 : 0.7592671037020052\n"
          ]
        }
      ],
      "source": [
        "DTRmse = mean_squared_error(np.expm1(y_test),np.expm1(DTR.predict(X_test)))\n",
        "DTRrmse = np.sqrt(DTRmse)\n",
        "DTRr2 = r2_score(np.expm1(y_test),np.expm1(DTR.predict(X_test)))\n",
        "\n",
        "print('DTR mse :', DTRmse)\n",
        "print('DTR rmse :', DTRrmse)\n",
        "print('DTR r^2 :', DTRr2)"
      ]
    },
    {
      "cell_type": "code",
      "execution_count": null,
      "id": "ac2a1b32",
      "metadata": {
        "id": "ac2a1b32",
        "outputId": "49c587b3-f8d0-479b-ffcb-e611ba3c4722"
      },
      "outputs": [
        {
          "data": {
            "text/plain": [
              "array([0.        , 0.03058334, 0.00126255, 0.01114772, 0.00883185,\n",
              "       0.1570564 , 0.        , 0.        , 0.79111814, 0.        ])"
            ]
          },
          "execution_count": 43,
          "metadata": {},
          "output_type": "execute_result"
        }
      ],
      "source": [
        "DTR.feature_importances_"
      ]
    },
    {
      "cell_type": "code",
      "execution_count": null,
      "id": "6f510f91",
      "metadata": {
        "id": "6f510f91",
        "outputId": "8db129de-1fb2-45f3-87fd-d04b9855c549"
      },
      "outputs": [
        {
          "data": {
            "image/png": "[encoded data removed]",
            "text/plain": [
              "<Figure size 648x432 with 1 Axes>"
            ]
          },
          "metadata": {
            "needs_background": "light"
          },
          "output_type": "display_data"
        }
      ],
      "source": [
        "plt.figure(figsize = (9, 6))\n",
        "sns.barplot(DTR.feature_importances_,\n",
        "            ['제조사', '모델','연도', '주행거리', '연료','배기량','색상','보증정보','신차대비가격','보험이력'])\n",
        "plt.show()"
      ]
    },
    {
      "cell_type": "markdown",
      "id": "034278ad",
      "metadata": {
        "id": "034278ad"
      },
      "source": [
        "#### Random Forest Regressor"
      ]
    },
    {
      "cell_type": "code",
      "execution_count": null,
      "id": "3dcd2456",
      "metadata": {
        "id": "3dcd2456",
        "outputId": "60b1e04b-73b3-4296-93bc-4057451447cb"
      },
      "outputs": [
        {
          "data": {
            "text/plain": [
              "RandomForestRegressor(criterion='mse', max_depth=1, max_features=3,\n",
              "                      n_estimators=2000, n_jobs=-1, random_state=1215)"
            ]
          },
          "execution_count": 46,
          "metadata": {},
          "output_type": "execute_result"
        }
      ],
      "source": [
        "from sklearn.ensemble import RandomForestRegressor\n",
        "\n",
        "RFR = RandomForestRegressor(n_estimators = 2000,\n",
        "                            max_features = 3,\n",
        "                            max_depth = 1,\n",
        "                            criterion ='mse',\n",
        "                            n_jobs = -1,\n",
        "                            random_state = 1215)\n",
        "\n",
        "RFR.fit(X_train, y_train)"
      ]
    },
    {
      "cell_type": "code",
      "execution_count": null,
      "id": "6122b8f6",
      "metadata": {
        "id": "6122b8f6",
        "outputId": "e5a1fee2-e35f-4143-e085-1e3f804e64a8"
      },
      "outputs": [
        {
          "data": {
            "text/plain": [
              "0.49960361701967815"
            ]
          },
          "execution_count": 47,
          "metadata": {},
          "output_type": "execute_result"
        }
      ],
      "source": [
        "RFR.score(X_test, y_test)"
      ]
    },
    {
      "cell_type": "code",
      "execution_count": null,
      "id": "18eafca4",
      "metadata": {
        "id": "18eafca4",
        "outputId": "e25ffb60-a487-4f4f-a8a5-4bd8fd4799a5"
      },
      "outputs": [
        {
          "name": "stdout",
          "output_type": "stream",
          "text": [
            "RFR mse : 76466552055428.27\n",
            "RFR rmse : 8744515.541493895\n",
            "RFR r^2 : 0.3049642458515204\n"
          ]
        }
      ],
      "source": [
        "RFRmse = mean_squared_error(np.expm1(y_test),np.expm1(RFR.predict(X_test)))\n",
        "RFRrmse = np.sqrt(RFRmse)\n",
        "RFRr2 = r2_score(np.expm1(y_test),np.expm1(RFR.predict(X_test)))\n",
        "\n",
        "print('RFR mse :', RFRmse)\n",
        "print('RFR rmse :', RFRrmse)\n",
        "print('RFR r^2 :', RFRr2)"
      ]
    },
    {
      "cell_type": "code",
      "execution_count": null,
      "id": "635c706e",
      "metadata": {
        "id": "635c706e",
        "outputId": "5cdf270f-ba84-432a-d176-74b824d4ca77"
      },
      "outputs": [
        {
          "data": {
            "text/plain": [
              "array([0.018 , 0.048 , 0.2305, 0.1705, 0.0185, 0.087 , 0.    , 0.1275,\n",
              "       0.3   , 0.    ])"
            ]
          },
          "execution_count": 49,
          "metadata": {},
          "output_type": "execute_result"
        }
      ],
      "source": [
        "RFR.feature_importances_"
      ]
    },
    {
      "cell_type": "code",
      "execution_count": null,
      "id": "aae3bc46",
      "metadata": {
        "id": "aae3bc46",
        "outputId": "da2ae7d1-a576-4e6a-8559-2b4bf3a79a72"
      },
      "outputs": [
        {
          "data": {
            "image/png": "[encoded data removed]",
            "text/plain": [
              "<Figure size 648x432 with 1 Axes>"
            ]
          },
          "metadata": {
            "needs_background": "light"
          },
          "output_type": "display_data"
        }
      ],
      "source": [
        "plt.figure(figsize = (9, 6))\n",
        "sns.barplot(RFR.feature_importances_,\n",
        "            ['제조사', '모델','연도', '주행거리', '연료','배기량','색상','보증정보','신차대비가격','보험이력'])\n",
        "plt.show()"
      ]
    },
    {
      "cell_type": "markdown",
      "id": "2a0a030b",
      "metadata": {
        "id": "2a0a030b"
      },
      "source": [
        "#### Gradient Boosting Machine(GBM) Regressor"
      ]
    },
    {
      "cell_type": "code",
      "execution_count": null,
      "id": "cd2abba1",
      "metadata": {
        "id": "cd2abba1",
        "outputId": "dfdc3a95-10cf-4b0b-c84f-3e299d5143ba"
      },
      "outputs": [
        {
          "data": {
            "text/plain": [
              "GradientBoostingRegressor(criterion='mse', learning_rate=0.0001, loss='ls',\n",
              "                          max_depth=1, max_features=3, n_estimators=9000,\n",
              "                          random_state=1215)"
            ]
          },
          "execution_count": 51,
          "metadata": {},
          "output_type": "execute_result"
        }
      ],
      "source": [
        "from sklearn.ensemble import GradientBoostingRegressor\n",
        "\n",
        "GBR = GradientBoostingRegressor(loss = 'ls',\n",
        "                                n_estimators = 9000,\n",
        "                                learning_rate = 0.0001,\n",
        "                                criterion ='mse',\n",
        "                                max_features = 3,\n",
        "                                max_depth = 1,\n",
        "                                random_state = 1215)\n",
        "\n",
        "GBR.fit(X_train, y_train)"
      ]
    },
    {
      "cell_type": "code",
      "execution_count": null,
      "id": "738c68ef",
      "metadata": {
        "id": "738c68ef",
        "outputId": "375ad0e2-ab08-4ac2-f41b-daf54edde449"
      },
      "outputs": [
        {
          "data": {
            "text/plain": [
              "0.3943632022987331"
            ]
          },
          "execution_count": 52,
          "metadata": {},
          "output_type": "execute_result"
        }
      ],
      "source": [
        "GBR.score(X_test, y_test)"
      ]
    },
    {
      "cell_type": "code",
      "execution_count": null,
      "id": "1ae7312b",
      "metadata": {
        "id": "1ae7312b",
        "outputId": "12bb8286-181e-4fb7-840f-ce1d7603362e"
      },
      "outputs": [
        {
          "name": "stdout",
          "output_type": "stream",
          "text": [
            "GBR mse : 89116407728854.69\n",
            "GBR rmse : 9440148.71328067\n",
            "GBR r^2 : 0.18998453588007624\n"
          ]
        }
      ],
      "source": [
        "GBRmse = mean_squared_error(np.expm1(y_test),np.expm1(GBR.predict(X_test)))\n",
        "GBRrmse = np.sqrt(GBRmse)\n",
        "GBRr2 = r2_score(np.expm1(y_test),np.expm1(GBR.predict(X_test)))\n",
        "\n",
        "print('GBR mse :', GBRmse)\n",
        "print('GBR rmse :', GBRrmse)\n",
        "print('GBR r^2 :', GBRr2)"
      ]
    },
    {
      "cell_type": "code",
      "execution_count": null,
      "id": "2ce9e1ee",
      "metadata": {
        "id": "2ce9e1ee",
        "outputId": "e343e239-c54d-4b4c-c3d8-71e9dcbd6c6a"
      },
      "outputs": [
        {
          "data": {
            "text/plain": [
              "array([0.00075468, 0.01165338, 0.3134294 , 0.12900878, 0.00318204,\n",
              "       0.03045584, 0.        , 0.06049667, 0.45101922, 0.        ])"
            ]
          },
          "execution_count": 54,
          "metadata": {},
          "output_type": "execute_result"
        }
      ],
      "source": [
        "GBR.feature_importances_"
      ]
    },
    {
      "cell_type": "code",
      "execution_count": null,
      "id": "33b2d315",
      "metadata": {
        "id": "33b2d315",
        "outputId": "921e95e5-c51d-44a2-b15e-ce35a30c6bda"
      },
      "outputs": [
        {
          "data": {
            "image/png": "[encoded data removed]",
            "text/plain": [
              "<Figure size 648x432 with 1 Axes>"
            ]
          },
          "metadata": {
            "needs_background": "light"
          },
          "output_type": "display_data"
        }
      ],
      "source": [
        "plt.figure(figsize = (9, 6))\n",
        "sns.barplot(GBR.feature_importances_,\n",
        "            ['제조사', '모델','연도', '주행거리', '연료','배기량','색상','보증정보','신차대비가격','보험이력'])\n",
        "plt.show()"
      ]
    },
    {
      "cell_type": "markdown",
      "id": "c2fedb76",
      "metadata": {
        "id": "c2fedb76"
      },
      "source": [
        "#### Adaptive Boosting Regressor"
      ]
    },
    {
      "cell_type": "code",
      "execution_count": null,
      "id": "a921f5f2",
      "metadata": {
        "id": "a921f5f2",
        "outputId": "4e79fb95-ec56-4a3c-f42a-24717cf7c988"
      },
      "outputs": [
        {
          "data": {
            "text/plain": [
              "AdaBoostRegressor(learning_rate=0.0001, loss='square', n_estimators=500,\n",
              "                  random_state=1215)"
            ]
          },
          "execution_count": 57,
          "metadata": {},
          "output_type": "execute_result"
        }
      ],
      "source": [
        "from sklearn.ensemble import AdaBoostRegressor\n",
        "\n",
        "ABR = AdaBoostRegressor(loss = 'square',\n",
        "                        n_estimators = 500,\n",
        "                        learning_rate = 0.0001,\n",
        "                        random_state = 1215)\n",
        "\n",
        "ABR.fit(X_train, y_train)"
      ]
    },
    {
      "cell_type": "code",
      "execution_count": null,
      "id": "6a585a25",
      "metadata": {
        "id": "6a585a25",
        "outputId": "b649519a-647a-4cc5-bd7d-4a13d0e563f2"
      },
      "outputs": [
        {
          "name": "stdout",
          "output_type": "stream",
          "text": [
            "ABR mse : 41886869154759.42\n",
            "ABR rmse : 6472006.578701803\n",
            "ABR r^2 : 0.6192731212623013\n"
          ]
        }
      ],
      "source": [
        "ABRmse = mean_squared_error(np.expm1(y_test),np.expm1(ABR.predict(X_test)))\n",
        "ABRrmse = np.sqrt(ABRmse)\n",
        "ABRr2 = r2_score(np.expm1(y_test),np.expm1(ABR.predict(X_test)))\n",
        "\n",
        "print('ABR mse :', ABRmse)\n",
        "print('ABR rmse :', ABRrmse)\n",
        "print('ABR r^2 :', ABRr2)"
      ]
    },
    {
      "cell_type": "code",
      "execution_count": null,
      "id": "35105be9",
      "metadata": {
        "id": "35105be9",
        "outputId": "602cc7d2-f118-4939-f527-0711bbe0f0df"
      },
      "outputs": [
        {
          "data": {
            "text/plain": [
              "array([0.00000000e+00, 4.63342996e-04, 4.56349912e-03, 6.66593689e-04,\n",
              "       3.23573059e-05, 1.07612795e-01, 0.00000000e+00, 0.00000000e+00,\n",
              "       8.86661412e-01, 0.00000000e+00])"
            ]
          },
          "execution_count": 59,
          "metadata": {},
          "output_type": "execute_result"
        }
      ],
      "source": [
        "ABR.feature_importances_"
      ]
    },
    {
      "cell_type": "code",
      "execution_count": null,
      "id": "e94db904",
      "metadata": {
        "id": "e94db904",
        "outputId": "dd6ba836-021c-466d-d018-2b6514e5f5f0"
      },
      "outputs": [
        {
          "data": {
            "image/png": "[encoded data removed]",
            "text/plain": [
              "<Figure size 648x432 with 1 Axes>"
            ]
          },
          "metadata": {
            "needs_background": "light"
          },
          "output_type": "display_data"
        }
      ],
      "source": [
        "plt.figure(figsize = (9, 6))\n",
        "sns.barplot(ABR.feature_importances_,\n",
        "            ['제조사', '모델','연도', '주행거리', '연료','배기량','색상','보증정보','신차대비가격','보험이력'])\n",
        "plt.show()"
      ]
    },
    {
      "cell_type": "markdown",
      "id": "846aee02",
      "metadata": {
        "id": "846aee02"
      },
      "source": [
        "#### 모델 비교"
      ]
    },
    {
      "cell_type": "code",
      "execution_count": null,
      "id": "2dbc8ac4",
      "metadata": {
        "id": "2dbc8ac4",
        "outputId": "d009452a-0453-4620-a79a-6fbe82be44ef"
      },
      "outputs": [
        {
          "data": {
            "image/png": "[encoded data removed]",
            "text/plain": [
              "<Figure size 1080x720 with 1 Axes>"
            ]
          },
          "metadata": {
            "needs_background": "light"
          },
          "output_type": "display_data"
        }
      ],
      "source": [
        "Model_Name = ['Multivariate Regression', 'Ridge Regression', 'Lasso Regression', 'ElasticNet Regression', 'Decision Tree Regressor',\n",
        "              'Random Forest Regressor', 'GBM Regressor', 'Adaptive Boosting Regressor']\n",
        "Model_Score = [MR_rmse, RGrmse, LSrmse, ENrmse, DTRrmse, RFRrmse, GBRrmse, ABRrmse]\n",
        "plt.figure(figsize = (15,10))\n",
        "plt.title(\"머신러닝 모델 RMSE\", size = 15)\n",
        "plt.xlabel(\"모델 이름\", size = 15)\n",
        "plt.ylabel(\"RMSE\", size = 15)\n",
        "plt.xticks(size = 15, rotation=60)\n",
        "plt.yticks(size = 15)\n",
        "ax = sns.barplot(Model_Name, Model_Score)\n",
        "for bar in ax.patches:\n",
        "    ax.annotate(format(bar.get_height(), '.2f'),\n",
        "                   (bar.get_x() + bar.get_width() / 2,\n",
        "                    bar.get_height()), ha='center', va='center',\n",
        "                   size=15, xytext=(0, 8),\n",
        "                   textcoords='offset points')"
      ]
    }
  ],
  "metadata": {
    "kernelspec": {
      "display_name": "Python 3 (ipykernel)",
      "language": "python",
      "name": "python3"
    },
    "language_info": {
      "codemirror_mode": {
        "name": "ipython",
        "version": 3
      },
      "file_extension": ".py",
      "mimetype": "text/x-python",
      "name": "python",
      "nbconvert_exporter": "python",
      "pygments_lexer": "ipython3",
      "version": "3.9.12"
    },
    "colab": {
      "provenance": []
    }
  },
  "nbformat": 4,
  "nbformat_minor": 5
}